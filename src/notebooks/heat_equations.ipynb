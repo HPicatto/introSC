{
 "cells": [
  {
   "cell_type": "code",
   "execution_count": 18,
   "metadata": {},
   "outputs": [
    {
     "name": "stdout",
     "output_type": "stream",
     "text": [
      "\u001b[33mWARNING: Skipping webgui_jupyter_widgets as it is not installed.\u001b[0m\u001b[33m\n",
      "\u001b[0mCollecting webgui_jupyter_widgets\n",
      "  Downloading webgui_jupyter_widgets-0.2.37-py2.py3-none-any.whl.metadata (4.4 kB)\n",
      "Requirement already satisfied: ipywidgets>=7.0.0 in /home/hpicatto/noASCII/tuwien/ASC-bla/.pixi/envs/research-intro-sc/lib/python3.13/site-packages (from webgui_jupyter_widgets) (8.1.5)\n",
      "Requirement already satisfied: comm>=0.1.3 in /home/hpicatto/noASCII/tuwien/ASC-bla/.pixi/envs/research-intro-sc/lib/python3.13/site-packages (from ipywidgets>=7.0.0->webgui_jupyter_widgets) (0.2.2)\n",
      "Requirement already satisfied: ipython>=6.1.0 in /home/hpicatto/noASCII/tuwien/ASC-bla/.pixi/envs/research-intro-sc/lib/python3.13/site-packages (from ipywidgets>=7.0.0->webgui_jupyter_widgets) (9.0.2)\n",
      "Requirement already satisfied: traitlets>=4.3.1 in /home/hpicatto/noASCII/tuwien/ASC-bla/.pixi/envs/research-intro-sc/lib/python3.13/site-packages (from ipywidgets>=7.0.0->webgui_jupyter_widgets) (5.14.3)\n",
      "Requirement already satisfied: widgetsnbextension~=4.0.12 in /home/hpicatto/noASCII/tuwien/ASC-bla/.pixi/envs/research-intro-sc/lib/python3.13/site-packages (from ipywidgets>=7.0.0->webgui_jupyter_widgets) (4.0.13)\n",
      "Requirement already satisfied: jupyterlab-widgets~=3.0.12 in /home/hpicatto/noASCII/tuwien/ASC-bla/.pixi/envs/research-intro-sc/lib/python3.13/site-packages (from ipywidgets>=7.0.0->webgui_jupyter_widgets) (3.0.13)\n",
      "Requirement already satisfied: decorator in /home/hpicatto/noASCII/tuwien/ASC-bla/.pixi/envs/research-intro-sc/lib/python3.13/site-packages (from ipython>=6.1.0->ipywidgets>=7.0.0->webgui_jupyter_widgets) (5.2.1)\n",
      "Requirement already satisfied: ipython-pygments-lexers in /home/hpicatto/noASCII/tuwien/ASC-bla/.pixi/envs/research-intro-sc/lib/python3.13/site-packages (from ipython>=6.1.0->ipywidgets>=7.0.0->webgui_jupyter_widgets) (1.1.1)\n",
      "Requirement already satisfied: jedi>=0.16 in /home/hpicatto/noASCII/tuwien/ASC-bla/.pixi/envs/research-intro-sc/lib/python3.13/site-packages (from ipython>=6.1.0->ipywidgets>=7.0.0->webgui_jupyter_widgets) (0.19.2)\n",
      "Requirement already satisfied: matplotlib-inline in /home/hpicatto/noASCII/tuwien/ASC-bla/.pixi/envs/research-intro-sc/lib/python3.13/site-packages (from ipython>=6.1.0->ipywidgets>=7.0.0->webgui_jupyter_widgets) (0.1.7)\n",
      "Requirement already satisfied: pexpect>4.3 in /home/hpicatto/noASCII/tuwien/ASC-bla/.pixi/envs/research-intro-sc/lib/python3.13/site-packages (from ipython>=6.1.0->ipywidgets>=7.0.0->webgui_jupyter_widgets) (4.9.0)\n",
      "Requirement already satisfied: prompt_toolkit<3.1.0,>=3.0.41 in /home/hpicatto/noASCII/tuwien/ASC-bla/.pixi/envs/research-intro-sc/lib/python3.13/site-packages (from ipython>=6.1.0->ipywidgets>=7.0.0->webgui_jupyter_widgets) (3.0.50)\n",
      "Requirement already satisfied: pygments>=2.4.0 in /home/hpicatto/noASCII/tuwien/ASC-bla/.pixi/envs/research-intro-sc/lib/python3.13/site-packages (from ipython>=6.1.0->ipywidgets>=7.0.0->webgui_jupyter_widgets) (2.19.1)\n",
      "Requirement already satisfied: stack_data in /home/hpicatto/noASCII/tuwien/ASC-bla/.pixi/envs/research-intro-sc/lib/python3.13/site-packages (from ipython>=6.1.0->ipywidgets>=7.0.0->webgui_jupyter_widgets) (0.6.3)\n",
      "Requirement already satisfied: parso<0.9.0,>=0.8.4 in /home/hpicatto/noASCII/tuwien/ASC-bla/.pixi/envs/research-intro-sc/lib/python3.13/site-packages (from jedi>=0.16->ipython>=6.1.0->ipywidgets>=7.0.0->webgui_jupyter_widgets) (0.8.4)\n",
      "Requirement already satisfied: ptyprocess>=0.5 in /home/hpicatto/noASCII/tuwien/ASC-bla/.pixi/envs/research-intro-sc/lib/python3.13/site-packages (from pexpect>4.3->ipython>=6.1.0->ipywidgets>=7.0.0->webgui_jupyter_widgets) (0.7.0)\n",
      "Requirement already satisfied: wcwidth in /home/hpicatto/noASCII/tuwien/ASC-bla/.pixi/envs/research-intro-sc/lib/python3.13/site-packages (from prompt_toolkit<3.1.0,>=3.0.41->ipython>=6.1.0->ipywidgets>=7.0.0->webgui_jupyter_widgets) (0.2.13)\n",
      "Requirement already satisfied: executing>=1.2.0 in /home/hpicatto/noASCII/tuwien/ASC-bla/.pixi/envs/research-intro-sc/lib/python3.13/site-packages (from stack_data->ipython>=6.1.0->ipywidgets>=7.0.0->webgui_jupyter_widgets) (2.2.0)\n",
      "Requirement already satisfied: asttokens>=2.1.0 in /home/hpicatto/noASCII/tuwien/ASC-bla/.pixi/envs/research-intro-sc/lib/python3.13/site-packages (from stack_data->ipython>=6.1.0->ipywidgets>=7.0.0->webgui_jupyter_widgets) (3.0.0)\n",
      "Requirement already satisfied: pure-eval in /home/hpicatto/noASCII/tuwien/ASC-bla/.pixi/envs/research-intro-sc/lib/python3.13/site-packages (from stack_data->ipython>=6.1.0->ipywidgets>=7.0.0->webgui_jupyter_widgets) (0.2.3)\n",
      "Downloading webgui_jupyter_widgets-0.2.37-py2.py3-none-any.whl (2.5 MB)\n",
      "\u001b[2K   \u001b[90m━━━━━━━━━━━━━━━━━━━━━━━━━━━━━━━━━━━━━━━━\u001b[0m \u001b[32m2.5/2.5 MB\u001b[0m \u001b[31m25.5 MB/s\u001b[0m eta \u001b[36m0:00:00\u001b[0m\n",
      "\u001b[?25hInstalling collected packages: webgui_jupyter_widgets\n",
      "Successfully installed webgui_jupyter_widgets-0.2.37\n"
     ]
    }
   ],
   "source": [
    "! pip uninstall webgui_jupyter_widgets -y\n",
    "! pip install webgui_jupyter_widgets"
   ]
  },
  {
   "cell_type": "code",
   "execution_count": 1,
   "metadata": {},
   "outputs": [],
   "source": [
    "from ngsolve import *\n",
    "from ngsolve.webgui import Draw\n",
    "from netgen.occ import unit_square\n",
    "from time import sleep\n",
    "\n",
    "mesh = Mesh(unit_square.GenerateMesh(maxh=0.05))"
   ]
  },
  {
   "cell_type": "code",
   "execution_count": 2,
   "metadata": {},
   "outputs": [],
   "source": [
    "tend = 0.1\n",
    "u0 = exp(-100*( (x-0.5)**2 + (y-0.5)**2))\n",
    "\n",
    "fes = H1(mesh, order=3)\n",
    "u,v = fes.TnT()\n",
    "\n",
    "m = BilinearForm(u*v*dx).Assemble()\n",
    "a = BilinearForm(grad(u)*grad(v)*dx).Assemble()\n",
    "f = LinearForm(fes).Assemble()"
   ]
  },
  {
   "cell_type": "code",
   "execution_count": 3,
   "metadata": {},
   "outputs": [],
   "source": [
    "tau = 0.005\n",
    "mstarinv = (m.mat + tau*a.mat).CreateSparseMatrix().Inverse()"
   ]
  },
  {
   "cell_type": "code",
   "execution_count": 4,
   "metadata": {},
   "outputs": [
    {
     "data": {
      "application/vnd.jupyter.widget-view+json": {
       "model_id": "ec3594dc5a2041ed948b75bf93d4fa2c",
       "version_major": 2,
       "version_minor": 0
      },
      "text/plain": [
       "WebGuiWidget(layout=Layout(height='50vh', width='100%'), value={'gui_settings': {'camera': {'euler_angles': [-…"
      ]
     },
     "metadata": {},
     "output_type": "display_data"
    }
   ],
   "source": [
    "gfu = GridFunction(fes)\n",
    "gfu.Set(u0)\n",
    "\n",
    "scene = Draw(gfu, deformation=True, euler_angles=[-60,-7,-15])\n",
    "sleep(3)\n",
    "\n",
    "for j in range(int(tend/tau)):\n",
    "    res = f.vec - a.mat * gfu.vec\n",
    "    w = mstarinv * res\n",
    "    gfu.vec.data += tau*w\n",
    "    scene.Redraw()\n",
    "    sleep(0.2)"
   ]
  },
  {
   "cell_type": "code",
   "execution_count": 5,
   "metadata": {},
   "outputs": [
    {
     "name": "stdout",
     "output_type": "stream",
     "text": [
      "total hear energy:  0.03141635086587979\n",
      "gfu(0.5, 0.5) = 0.03465200882130126\n",
      "point value:  0.03465200882130126\n"
     ]
    }
   ],
   "source": [
    "ftot = LinearForm(1*v*dx).Assemble()\n",
    "print (\"total hear energy: \", InnerProduct(ftot.vec, gfu.vec))\n",
    "\n",
    "print (\"gfu(0.5, 0.5) =\", gfu(0.5, 0.5))\n",
    "\n",
    "fpoint = LinearForm(fes)\n",
    "fpoint += v(0.5, 0.5)\n",
    "fpoint.Assemble()\n",
    "print (\"point value: \", InnerProduct(fpoint.vec, gfu.vec))"
   ]
  },
  {
   "cell_type": "code",
   "execution_count": 6,
   "metadata": {},
   "outputs": [
    {
     "name": "stdout",
     "output_type": "stream",
     "text": [
      "Initial total heat energy:  0.03141635086587979\n"
     ]
    }
   ],
   "source": [
    "energy_values = []\n",
    "time_values = []\n",
    "time_current = 0.0\n",
    "ftot = LinearForm(1*v*dx).Assemble()\n",
    "energy_initial = InnerProduct(ftot.vec, gfu.vec)\n",
    "energy_values.append(energy_initial)\n",
    "time_values.append(time_current)\n",
    "print(\"Initial total heat energy: \", energy_initial)\n",
    "num_steps = int(tend / tau)\n",
    "for j in range(num_steps):\n",
    "    res = f.vec - a.mat * gfu.vec\n",
    "    w = mstarinv * res\n",
    "    gfu.vec.data += tau * w\n",
    "    time_current += tau\n",
    "    current_energy = InnerProduct(ftot.vec, gfu.vec)\n",
    "    energy_values.append(current_energy)\n",
    "    time_values.append(time_current)\n",
    "    scene.Redraw()\n",
    "    sleep(0.2)"
   ]
  }
 ],
 "metadata": {
  "kernelspec": {
   "display_name": "research-intro-sc",
   "language": "python",
   "name": "python3"
  },
  "language_info": {
   "codemirror_mode": {
    "name": "ipython",
    "version": 3
   },
   "file_extension": ".py",
   "mimetype": "text/x-python",
   "name": "python",
   "nbconvert_exporter": "python",
   "pygments_lexer": "ipython3",
   "version": "3.13.2"
  }
 },
 "nbformat": 4,
 "nbformat_minor": 2
}
