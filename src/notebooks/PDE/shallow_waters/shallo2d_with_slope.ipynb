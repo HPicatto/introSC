{
 "cells": [
  {
   "cell_type": "code",
   "execution_count": 1,
   "id": "25a74315-e595-42c8-a8b8-527c81d331eb",
   "metadata": {},
   "outputs": [],
   "source": [
    "# geometry description (including boundary/mat names)\n",
    "from ngsolve import * \n",
    "from netgen.occ import *\n",
    "from ngsolve.webgui import * \n",
    "# wp = WorkPlane()\n",
    "# wp.MoveTo(-12,-5).LineTo(-3,-5).NameVertex(\"fillet\")\n",
    "# wp.LineTo(-3,-1).NameVertex(\"fillet\")\n",
    "# wp.LineTo(0,-1).LineTo(0,0).LineTo(-12,0).Close()\n",
    "# geo = wp.Face()\n",
    "# geo = geo.MakeFillet(list(set(geo.vertices[\"fillet\"])),2)\n",
    "# geo = geo + geo.Mirror(Axis((0,0,0),X)).Reversed()\n",
    "# geo = Glue([geo,geo.Mirror(Axis((0,0,0),Y)).Reversed()])\n",
    "rect = MoveTo(0,0).Rectangle (20,4).Face()\n",
    "circ = Circle ( (2, 2), 2).Face()\n",
    "# circ = circ + circ.Mirror(Axis((0,0,0),X)).Reversed()\n",
    "circ.edges.name=\"dam\"\n",
    "hole_shape = rect-circ\n",
    "circ.faces.name=\"upperlevel\"\n",
    "hole_shape.faces.name=\"lowerlevel\"\n",
    "geo = Glue([hole_shape, circ])\n",
    "# geo.faces.Min(X).name=\"upperlevel\"\n",
    "# geo.faces.Max(X).name=\"lowerlevel\"\n",
    "rect.edges.name = \"wall\"\n",
    "# geo.edges.Nearest((0,0)).name = \"dam\"\n",
    "# Draw(geo)\n",
    "geo = OCCGeometry(geo,dim=2)\n",
    "# rect = MoveTo(-1,-1).Rectangle (2,2).Face()\n",
    "# circ = Circle ( (0.7, 0.0), 0.1).Face()\n",
    "# circ.faces.name=\"upperlevel\"\n",
    "# hole_shape = rect-circ\n",
    "# hole_shape.faces.name=\"lowerlevel\"\n",
    "# shape = Glue([hole_shape, circ])\n",
    "# mesh = Mesh (OCCGeometry( shape, dim=2).GenerateMesh(maxh=0.3))\n",
    "# Draw (shape)\n",
    "# Draw (mesh);"
   ]
  },
  {
   "cell_type": "code",
   "execution_count": 2,
   "id": "3ba05774-10f1-48d3-9d1e-3b7f27be3ff4",
   "metadata": {},
   "outputs": [
    {
     "data": {
      "application/vnd.jupyter.widget-view+json": {
       "model_id": "0658f1a081274d0d9be5d69a3175e52f",
       "version_major": 2,
       "version_minor": 0
      },
      "text/plain": [
       "WebGuiWidget(layout=Layout(height='50vh', width='100%'), value={'gui_settings': {}, 'ngsolve_version': '6.2.25…"
      ]
     },
     "metadata": {},
     "output_type": "display_data"
    },
    {
     "data": {
      "text/plain": [
       "BaseWebGuiScene"
      ]
     },
     "execution_count": 2,
     "metadata": {},
     "output_type": "execute_result"
    }
   ],
   "source": [
    "from ngsolve import *\n",
    "from ngsolve.webgui import Draw\n",
    "mesh = Mesh(geo.GenerateMesh(maxh=0.5))\n",
    "#mesh.Curve(3)\n",
    "Draw(mesh)"
   ]
  },
  {
   "cell_type": "code",
   "execution_count": 3,
   "id": "6d45361c-045e-409c-83ff-49fa128e03f5",
   "metadata": {},
   "outputs": [],
   "source": [
    "order = 2\n",
    "fes = L2(mesh,order=order)**3\n",
    "#fes = L2(mesh,order=order,dim=3)"
   ]
  },
  {
   "cell_type": "code",
   "execution_count": 4,
   "id": "4279c7f8-9ae9-4253-9472-36eb371b9de4",
   "metadata": {},
   "outputs": [
    {
     "name": "stdout",
     "output_type": "stream",
     "text": [
      "1\n",
      "0\n"
     ]
    }
   ],
   "source": [
    "U,V = fes.TnT() # \"Trial\" and \"Test\" function\n",
    "h, hu, hv = U\n",
    "\n",
    "# initial conditions\n",
    "h0mat = {\"upperlevel\" : 10, \"lowerlevel\" : 2}\n",
    "print(1)\n",
    "U0 = CF((mesh.MaterialCF(h0mat),0,0))\n",
    "print(0)\n",
    "# boundary conditions\n",
    "hbndreg = mesh.BoundaryCF({\"wall\" : h, \"dam\" : 0})\n",
    "hubndreg = mesh.BoundaryCF({\"wall\" : -hu, \"dam\" : 0})\n",
    "hvbndreg = mesh.BoundaryCF({\"wall\" : -hv, \"dam\" : 0})\n",
    "\n",
    "Ubnd = CF((hbndreg,hubndreg,hvbndreg))\n",
    "\n",
    "# constant for gravitational force\n",
    "g=1\n",
    "S0x = 0.03\n",
    "S0y = 0.0"
   ]
  },
  {
   "cell_type": "code",
   "execution_count": 5,
   "id": "095ef0fe-4b26-4016-b0f2-55628753cc7b",
   "metadata": {},
   "outputs": [],
   "source": [
    "h_floor_epsilon = 1e-8\n",
    "def F(U_cf):\n",
    "    h_flux, hvx_flux, hvy_flux = U_cf\n",
    "    h_safe = Max(h_flux, h_floor_epsilon)\n",
    "    vx = hvx_flux / h_safe\n",
    "    vy = hvy_flux / h_safe\n",
    "    \n",
    "    return CF(((hvx_flux,hvy_flux),\n",
    "               (hvx_flux*vx + 0.5*g*h_flux**2, hvx_flux*vy),\n",
    "               (hvx_flux*vy, hvy_flux*vy + 0.5*g*h_flux**2)),dims=(3,2))"
   ]
  },
  {
   "cell_type": "code",
   "execution_count": 6,
   "id": "499bb6b8-3459-4e69-a446-f5ff22d17852",
   "metadata": {},
   "outputs": [],
   "source": [
    "n = specialcf.normal(mesh.dim)\n",
    "def Max(u,v):\n",
    "    return IfPos(u-v,u,v)\n",
    "def Max_cf(u_cf,v_cf):\n",
    "    return IfPos(u_cf-v_cf,u_cf,v_cf)\n",
    "\n",
    "def Fmax(A_cf,B_cf):\n",
    "    ha_flux, hua_flux, hva_flux = A_cf\n",
    "    hb_flux, hub_flux, hvb_flux = B_cf\n",
    "\n",
    "    ha_safe = Max(ha_flux, h_floor_epsilon)\n",
    "    hb_safe = Max(hb_flux, h_floor_epsilon)\n",
    "\n",
    "    vnorma = sqrt(hua_flux**2 + hva_flux**2) / ha_safe\n",
    "    vnormb = sqrt(hub_flux**2 + hvb_flux**2) / hb_safe\n",
    "    \n",
    "    sqrt_gh_a = sqrt(g * Max(ha_flux, 0))\n",
    "    sqrt_gh_b = sqrt(g * Max(hb_flux, 0))\n",
    "    \n",
    "    return Max_cf(vnorma + sqrt_gh_a, vnormb + sqrt_gh_b)\n",
    "\n",
    "\n",
    "def Fhatn(U_trial):\n",
    "    Uhat = U_trial.Other(bnd=Ubnd)\n",
    "    return (0.5*F(U_trial)+0.5*F(Uhat))*n + Fmax(U_trial,Uhat)/2*(U_trial-Uhat)"
   ]
  },
  {
   "cell_type": "code",
   "execution_count": 7,
   "id": "ef4e697b-483c-4ffa-8688-47f0cb1240d1",
   "metadata": {},
   "outputs": [],
   "source": [
    "def DGBilinearForm(fes_arg,F_func,Fhatn_func,Ubnd_cf):\n",
    "    # fes_arg is the FESpace. U_trial, V_test are from this space.\n",
    "    U_trial_func, V_test_func = fes_arg.TnT()\n",
    "    a = BilinearForm(fes_arg, nonassemble=True)\n",
    "    # Pass U_trial_func to F_func and Fhatn_func\n",
    "    a += - InnerProduct(F_func(U_trial_func), Grad(V_test_func)) * dx\n",
    "    a += InnerProduct(Fhatn_func(U_trial_func), V_test_func) * dx(element_boundary=True)\n",
    "    return a\n",
    "\n",
    "a = DGBilinearForm(fes,F,Fhatn,Ubnd)"
   ]
  },
  {
   "cell_type": "code",
   "execution_count": 8,
   "id": "3342cde1-4da8-4da1-82cf-90eabef4ce2a",
   "metadata": {},
   "outputs": [],
   "source": [
    "from DGdiffusion import AddArtificialDiffusion\n",
    "\n",
    "artvisc = Parameter(1.0)\n",
    "if order > 0:\n",
    "    AddArtificialDiffusion(a,Ubnd,artvisc,compile=True)"
   ]
  },
  {
   "cell_type": "code",
   "execution_count": 9,
   "id": "d063db2d-e1ea-4e29-a035-c70b0f64f733",
   "metadata": {},
   "outputs": [
    {
     "data": {
      "application/vnd.jupyter.widget-view+json": {
       "model_id": "a1ffe1824dd24ded966f7b64c487d9ea",
       "version_major": 2,
       "version_minor": 0
      },
      "text/plain": [
       "WebGuiWidget(layout=Layout(height='50vh', width='100%'), value={'gui_settings': {}, 'ngsolve_version': '6.2.25…"
      ]
     },
     "metadata": {},
     "output_type": "display_data"
    },
    {
     "data": {
      "application/vnd.jupyter.widget-view+json": {
       "model_id": "5c88c87fcef54590a84a98a2ec9aa321",
       "version_major": 2,
       "version_minor": 0
      },
      "text/plain": [
       "WebGuiWidget(layout=Layout(height='50vh', width='100%'), value={'gui_settings': {}, 'ngsolve_version': '6.2.25…"
      ]
     },
     "metadata": {},
     "output_type": "display_data"
    },
    {
     "data": {
      "application/vnd.jupyter.widget-view+json": {
       "model_id": "80beb0d310da42dba4e9ec64902a7d06",
       "version_major": 2,
       "version_minor": 0
      },
      "text/plain": [
       "WebGuiWidget(layout=Layout(height='50vh', width='100%'), value={'gui_settings': {}, 'ngsolve_version': '6.2.25…"
      ]
     },
     "metadata": {},
     "output_type": "display_data"
    }
   ],
   "source": [
    "gfu = GridFunction(fes)\n",
    "gfh, gfhu, gfhv = gfu\n",
    "\n",
    "gfh_safe_vis = Max(gfh, h_floor_epsilon)\n",
    "gfvu = gfhu / gfh_safe_vis\n",
    "gfvv = gfhv / gfh_safe_vis\n",
    "momentum = CF((gfhu,gfhv))\n",
    "velocity = CF((gfvu,gfvv))\n",
    "\n",
    "gfu.Set(U0)\n",
    "scenes = [ \\\n",
    "    Draw(momentum,mesh,\"mom\"),\n",
    "    Draw(velocity,mesh,\"vel\"),\n",
    "    Draw(gfh,mesh,\"h\") ]"
   ]
  },
  {
   "cell_type": "code",
   "execution_count": 10,
   "id": "2a1ace0e-1319-4081-aad5-92b68da9f409",
   "metadata": {},
   "outputs": [],
   "source": [
    "def TimeLoop(a_form, current_gfu, dt_val, T_final, nsamplings=100, current_scenes=scenes,\n",
    "             multidim_draw_flag=False, md_nsamplings=20,\n",
    "             slope_S0x=0.0, slope_S0y=0.0):\n",
    "    fes_loop = current_gfu.space # Use space from gfu\n",
    "    U_trial_loop, V_test_loop = fes_loop.TnT() # For source term assembly\n",
    "\n",
    "    if multidim_draw_flag:\n",
    "        gfu_t_loop = GridFunction(fes_loop, multidim=True)\n",
    "\n",
    "    res_combined = current_gfu.vec.CreateVector() # For M_inv*(K(U) - S_b)\n",
    "    res_spatial_terms = current_gfu.vec.CreateVector() # For M_inv*K(U)\n",
    "\n",
    "    t_sim = 0.0; step_idx = 0\n",
    "    nsteps_total  = int(ceil(T_final/dt_val))    \n",
    "    \n",
    "    invma_op = fes_loop.Mass(1).Inverse() @ a_form.mat\n",
    "    mass_matrix_inverse = fes_loop.Mass(1).Inverse()\n",
    "    lf_source = LinearForm(fes_loop)\n",
    "\n",
    "    with TaskManager():\n",
    "        while t_sim <= T_final - 0.5 * dt_val:\n",
    "            # 1. Calculate effect of spatial terms: M_inv * K(U^n)\n",
    "            res_spatial_terms.data = invma_op * current_gfu.vec\n",
    "\n",
    "            # 2. Calculate effect of bed slope source term: M_inv * S_b(U^n)\n",
    "            h_current_val = current_gfu.components[0] # This is gfh\n",
    "            source_b_cf = CF((0, \n",
    "                              g * h_current_val * slope_S0x, \n",
    "                              g * h_current_val * slope_S0y))\n",
    "            \n",
    "            lf_source.Assemble() # Zero out vector\n",
    "            lf_source += InnerProduct(source_b_cf, V_test_loop) * dx\n",
    "            current_lf_source_vec = lf_source.Assemble().vec # Assemble and get the vector\n",
    "            M_inv_S_RHS_vec = mass_matrix_inverse * current_lf_source_vec\n",
    "            res_combined.data = res_spatial_terms.data - M_inv_S_RHS_vec\n",
    "            current_gfu.vec.data -= dt_val * res_combined\n",
    "            \n",
    "            t_sim += dt_val\n",
    "            step_idx += 1\n",
    "            \n",
    "            # Visualization and printing (original logic)\n",
    "            if (step_idx % max(1, int(nsteps_total / nsamplings))) == 0:\n",
    "                for s_scene in current_scenes: s_scene.Redraw()\n",
    "            if multidim_draw_flag and (step_idx % max(1, int(nsteps_total / md_nsamplings))) == 0:\n",
    "                gfu_t_loop.AddMultiDimComponent(current_gfu.vec)\n",
    "            \n",
    "            print(\"\\rTime = {:.6f} (Step {})\".format(t_sim, step_idx), end=\"\")\n",
    "\n",
    "    print(\"\\nSimulation finished.\")\n",
    "    for s_scene in current_scenes: s_scene.Redraw()\n",
    "    if multidim_draw_flag:\n",
    "        return gfu_t_loop"
   ]
  },
  {
   "cell_type": "code",
   "execution_count": null,
   "id": "18f189f0-269b-4d4a-8df3-c73206068c2c",
   "metadata": {
    "scrolled": true
   },
   "outputs": [
    {
     "name": "stdout",
     "output_type": "stream",
     "text": [
      "Time = 4.227000 (Step 4227)"
     ]
    }
   ],
   "source": [
    "gfu.Set(U0)\n",
    "with TaskManager():\n",
    "    gfu_t = TimeLoop(a, gfu, dt_val=0.001, T_final=5, multidim_draw_flag=True, md_nsamplings=5,\n",
    "                     slope_S0x=S0x, slope_S0y=S0y)\n",
    "\n",
    "Draw(gfu_t.components[0],mesh,\"h\",interpolate_multidim=True,animate=True,\n",
    "     deformation=True, settings = {\"camera\" :\n",
    "                                   {\"transformations\" :\n",
    "                                    [{ \"type\": \"rotateX\", \"angle\": -20},\n",
    "                                     { \"type\": \"rotateZ\", \"angle\": 0}]}},\n",
    "     min=0, max=12, autoscale=False) "
   ]
  },
  {
   "cell_type": "code",
   "execution_count": 15,
   "id": "8c46fca8-6ce2-4aa9-96d4-a483b30f8927",
   "metadata": {},
   "outputs": [
    {
     "data": {
      "application/vnd.jupyter.widget-view+json": {
       "model_id": "e655f95f879a487c81b83e38b0b1747a",
       "version_major": 2,
       "version_minor": 0
      },
      "text/plain": [
       "WebGuiWidget(layout=Layout(height='50vh', width='100%'), value={'gui_settings': {'camera': {'transformations':…"
      ]
     },
     "metadata": {},
     "output_type": "display_data"
    },
    {
     "data": {
      "text/plain": [
       "BaseWebGuiScene"
      ]
     },
     "execution_count": 15,
     "metadata": {},
     "output_type": "execute_result"
    }
   ],
   "source": [
    "Draw(gfu_t.components[0],mesh,\"h\",interpolate_multidim=True,animate=True, \n",
    "     deformation=True, settings = {\"camera\" : \n",
    "                                   {\"transformations\" : \n",
    "                          \n",
    "                                    [{ \"type\": \"rotateX\", \"angle\": -20},\n",
    "                                     { \"type\": \"rotateZ\", \"angle\": 0}]}},\n",
    "     min=2, max=5, autoscale=False)"
   ]
  }
 ],
 "metadata": {
  "kernelspec": {
   "display_name": "Python 3 (ipykernel)",
   "language": "python",
   "name": "python3"
  },
  "language_info": {
   "codemirror_mode": {
    "name": "ipython",
    "version": 3
   },
   "file_extension": ".py",
   "mimetype": "text/x-python",
   "name": "python",
   "nbconvert_exporter": "python",
   "pygments_lexer": "ipython3",
   "version": "3.13.3"
  }
 },
 "nbformat": 4,
 "nbformat_minor": 5
}
