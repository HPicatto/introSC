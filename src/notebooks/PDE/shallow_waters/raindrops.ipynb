{
 "cells": [
  {
   "cell_type": "markdown",
   "id": "cf384c1d-cdb2-4fa1-b13e-5b43cf27a67d",
   "metadata": {},
   "source": [
    "# Experiment on replicating `Modeling rain-driven overland flow`\n",
    "The goal is to simulate rain accumulating on a surface and flowing, using the Poiseuille friction model which the [paper](https://arxiv.org/pdf/1609.04711) found most suitable for these conditions."
   ]
  },
  {
   "cell_type": "markdown",
   "id": "04b3d997-fb99-4083-b2c9-3e446d2cbe74",
   "metadata": {},
   "source": [
    "1. Geometry = a tilted rectangle, not a basin"
   ]
  },
  {
   "cell_type": "code",
   "execution_count": 1,
   "id": "134917f2-183f-42c7-99e5-702245353e7a",
   "metadata": {
    "scrolled": true
   },
   "outputs": [
    {
     "data": {
      "application/vnd.jupyter.widget-view+json": {
       "model_id": "dd0b9dbfb6dd46ef83942d7f59e06297",
       "version_major": 2,
       "version_minor": 0
      },
      "text/plain": [
       "WebGuiWidget(layout=Layout(height='50vh', width='100%'), value={'gui_settings': {}, 'ngsolve_version': '6.2.25…"
      ]
     },
     "metadata": {},
     "output_type": "display_data"
    },
    {
     "data": {
      "text/plain": [
       "BaseWebGuiScene"
      ]
     },
     "execution_count": 1,
     "metadata": {},
     "output_type": "execute_result"
    }
   ],
   "source": [
    "from ngsolve import *\n",
    "from netgen.occ import *\n",
    "from ngsolve.webgui import *\n",
    "from ngsolve.webgui import Draw\n",
    "\n",
    "\n",
    "L  = 4.04 # flume length  [m]\n",
    "W  = 0.115 # flume width   [m]\n",
    "SlopeDeg = 5 # (%)  ➔  2 %  ⇒ 0.02\n",
    "S0   = SlopeDeg/100 # tan α  (positive downslope)\n",
    "\n",
    "# create a flat rectangle; the slope only appears in the source term\n",
    "geo = Rectangle(L,W).Face()\n",
    "geo.edges.Min(X).name=\"inlet\"\n",
    "geo.edges.Max(X).name=\"outlet\"\n",
    "geo.edges.Min(Y).name = \"wall\"\n",
    "geo.edges.Max(Y).name = \"wall\"\n",
    "geo = OCCGeometry(geo, dim=2)\n",
    "mesh = Mesh(geo.GenerateMesh(maxh=0.05))\n",
    "# mesh.Curve(3)\n",
    "Draw(mesh)\n"
   ]
  },
  {
   "cell_type": "markdown",
   "id": "bed1e6f0-ea13-45f2-8730-c5280728e7c8",
   "metadata": {},
   "source": [
    "2. Unknowns, rainfall source and friction law"
   ]
  },
  {
   "cell_type": "code",
   "execution_count": 2,
   "id": "c5b26189-5cb4-4a7f-bb92-55e927343eef",
   "metadata": {},
   "outputs": [],
   "source": [
    "order = 2\n",
    "fes   = L2(mesh,order=order)**3 # (h, h u, h v)\n",
    "\n",
    "U,V = fes.TnT() # \"Trial\" and \"Test\" function\n",
    "h, hu, hv = U\n",
    "\n",
    "g  = 9.81 # [m/s²]\n",
    "nu = 1e-6 # kinematic viscosity of water  [m²/s]\n",
    "I_mm_h = 250 # rainfall intensity [mm h⁻¹]\n",
    "R = I_mm_h/1000/3600 # convert to m s⁻¹  (≈ 6.94 × 10⁻⁶)\n",
    "eps = 1e-6\n"
   ]
  },
  {
   "cell_type": "code",
   "execution_count": 3,
   "id": "6d7fd33f-6f51-4763-8a17-ae27ffcd880b",
   "metadata": {},
   "outputs": [],
   "source": [
    "def Sf_poiseuille(U):\n",
    "    h, hu, hv = U\n",
    "    qx = hu\n",
    "    qy = hv\n",
    "    return (3*nu)/g * CF( ( qx/h**3,  qy/h**3 ) )"
   ]
  },
  {
   "cell_type": "code",
   "execution_count": 4,
   "id": "aa4ff1b2-74d1-43a4-a016-90ab54bcbf5e",
   "metadata": {},
   "outputs": [],
   "source": [
    "n = specialcf.normal(mesh.dim)\n",
    "def Max(a, b):\n",
    "    \"\"\"point-wise maximum for CoefficientFunctions\"\"\"\n",
    "    return IfPos(a-b, a, b)"
   ]
  },
  {
   "cell_type": "code",
   "execution_count": 5,
   "id": "5634e4cd-1f41-4b0c-9012-d056089fb78d",
   "metadata": {},
   "outputs": [],
   "source": [
    "def F(U):\n",
    "    h, hvx, hvy = U\n",
    "    vx = hvx/h\n",
    "    vy = hvy/h\n",
    "    return CF(((hvx,hvy),\n",
    "               (hvx*vx + 0.5*g*h**2, hvx*vy),\n",
    "               (hvx*vy, hvy*vy + 0.5*g*h**2)),dims=(3,2))"
   ]
  },
  {
   "cell_type": "code",
   "execution_count": 6,
   "id": "ec7868b0-8d31-4017-a740-1f0eb83887e2",
   "metadata": {},
   "outputs": [],
   "source": [
    "n = specialcf.normal(mesh.dim)\n",
    "def Max(u,v):\n",
    "    return IfPos(u-v,u,v)\n",
    "def Fmax(A,B): # max. characteristic speed:\n",
    "    ha, hua, hva = A\n",
    "    hb, hub, hvb = B\n",
    "    vnorma = sqrt(hua**2+hva**2)/ha\n",
    "    vnormb = sqrt(hub**2+hvb**2)/hb\n",
    "    return Max(vnorma+sqrt(g*A[0]),vnormb+sqrt(g*B[0]))\n",
    "\n",
    "def Fhatn(U): # numerical flux\n",
    "    Uhat = U.Other(bnd=Ubnd)\n",
    "    return (0.5*F(U)+0.5*F(Uhat))*n + Fmax(U,Uhat)/2*(U-Uhat)"
   ]
  },
  {
   "cell_type": "code",
   "execution_count": 7,
   "id": "da30a816-a5f1-4b0a-bd8d-46bd92a8b219",
   "metadata": {},
   "outputs": [],
   "source": [
    "\n",
    "U0 = CF((eps, 0, 0))\n",
    "Ubnd = CF((h, -hu, -hv))"
   ]
  },
  {
   "cell_type": "code",
   "execution_count": 8,
   "id": "d6a1cb5d-bfe2-4511-a7c5-150175711cf0",
   "metadata": {},
   "outputs": [
    {
     "name": "stdout",
     "output_type": "stream",
     "text": [
      "(3, 2)\n",
      "(2, 3)\n",
      "(3, 2)\n",
      "(2, 3)\n"
     ]
    }
   ],
   "source": [
    "print(F(U).shape)\n",
    "print(F(U).trans.shape)\n",
    "print(Grad(V).shape)\n",
    "print(Grad(V).trans.shape)\n"
   ]
  },
  {
   "cell_type": "markdown",
   "id": "2a76dfa3-776a-4e3f-845b-34378f598d23",
   "metadata": {},
   "source": [
    "3. DG bilinear plus source terms (rain, bed-slope, friction)"
   ]
  },
  {
   "cell_type": "code",
   "execution_count": 9,
   "id": "2a23c0ed-d3f3-4699-a24b-895f0dfa5856",
   "metadata": {},
   "outputs": [],
   "source": [
    "def DGBilinearForm(fes,F,Fhatnd, Ubnd):\n",
    "    a = BilinearForm(fes, nonassemble=True)\n",
    "    a += - InnerProduct(F(U),Grad(V)) * dx\n",
    "    a += InnerProduct(Fhatn(U),V) * dx(element_boundary=True)\n",
    "    return a\n",
    "\n",
    "a = DGBilinearForm(fes,F,Fhatn, Ubnd)"
   ]
  },
  {
   "cell_type": "code",
   "execution_count": 10,
   "id": "80208cc5-67db-428e-a28d-b647283765c0",
   "metadata": {},
   "outputs": [],
   "source": [
    "from DGdiffusion import AddArtificialDiffusion\n",
    "\n",
    "artvisc = Parameter(1.0)\n",
    "if order > 0:\n",
    "    AddArtificialDiffusion(a,Ubnd,artvisc,compile=True)"
   ]
  },
  {
   "cell_type": "code",
   "execution_count": 11,
   "id": "8f8cdbf0-0589-41a8-9806-e17ba0ac3e75",
   "metadata": {},
   "outputs": [],
   "source": [
    "invMA = fes.Mass(1).Inverse() @ a.mat\n"
   ]
  },
  {
   "cell_type": "code",
   "execution_count": 12,
   "id": "045ccaa3-5497-491e-a8d0-51a10effe871",
   "metadata": {},
   "outputs": [],
   "source": [
    "def Source(gfu):\n",
    "    h  = gfu.components[0]\n",
    "    hu = gfu.components[1]\n",
    "    hv = gfu.components[2]\n",
    "    vx = hu/h\n",
    "    vy = hv/h\n",
    "\n",
    "    # rainfall:  (R, 0, 0)\n",
    "    srain_h  = R\n",
    "    srain_hu = 0\n",
    "    srain_hv = 0\n",
    "\n",
    "    # bed-slope in +x direction:  +g h S₀\n",
    "    sslope_hu = g*h*S0\n",
    "    sslope_hv = 0\n",
    "\n",
    "    friction = Sf_poiseuille((h, hu, hv))\n",
    "    sfx = friction[0]\n",
    "    sfy = friction[1]\n",
    "    \n",
    "\n",
    "    return CF( ( srain_h,\n",
    "                 srain_hu + sslope_hu + sfx,\n",
    "                 srain_hv + sslope_hv + sfy ) )"
   ]
  },
  {
   "cell_type": "markdown",
   "id": "7279c15d-5e0b-48af-870a-3fd8764222fc",
   "metadata": {},
   "source": [
    "4. Time integrator"
   ]
  },
  {
   "cell_type": "code",
   "execution_count": 13,
   "id": "76ba6541-6365-4fe0-8a20-538df45717a8",
   "metadata": {},
   "outputs": [],
   "source": [
    "from math import ceil\n",
    "\n",
    "eps = 1e-6\n",
    "gfu = GridFunction(fes)\n",
    "gfu.components[0].Set(eps)\n",
    "tmp = gfu.vec.CreateVector()\n",
    "tmp[:] = eps\n",
    "gfu.vec.data += tmp # prevent division by 0\n",
    "\n",
    "dt = 0.005\n",
    "T  = 100\n",
    "\n",
    "\n",
    "def TimeLoopExplicit(a, gfu, invMA,\n",
    "                     dt, T,\n",
    "                     SourceCF,\n",
    "                     scenes=None,\n",
    "                     nsamplings=100,\n",
    "                     multidim_draw=False,\n",
    "                     md_nsamplings=20):\n",
    "\n",
    "    if scenes is None: scenes = [ Draw(gfu.components[0], mesh, \"h\", autoscale=True) ]\n",
    "\n",
    "    res  = gfu.vec.CreateVector()      # residual  r  =  M⁻¹ A u\n",
    "    rhs  = gfu.vec.CreateVector()      # source    S(u)\n",
    "    gfs  = GridFunction(gfu.space)     # projection helper for S(u)\n",
    "\n",
    "    if multidim_draw:\n",
    "        gfu_t = GridFunction(gfu.space, multidim=True)\n",
    "        gfu_t.AddMultiDimComponent(gfu.vec)\n",
    "\n",
    "        nsteps = int(ceil(T/dt))\n",
    "    t      = 0.0\n",
    "\n",
    "    with TaskManager():\n",
    "        for istep in range(1, nsteps+1):\n",
    "\n",
    "            # 1) residual  r = M⁻¹ A u  (res ← invMA · u)\n",
    "            invMA.Mult(gfu.vec, res)\n",
    "\n",
    "            # 2) explicit source  rhs = S(u)\n",
    "            gfs.Set( SourceCF(gfu) )   # project CF to FE space\n",
    "            rhs[:] = gfs.vec           # copy into working vector\n",
    "\n",
    "            # 3) forward Euler update:   u ← u − dt ( r − rhs )\n",
    "            res -= rhs\n",
    "            #gfu.vec.AddVector(-dt, res) \n",
    "            gfu.vec.data -= dt * res  \n",
    "\n",
    "            t += dt\n",
    "\n",
    "            if istep % max(1, nsteps//nsamplings) == 0:\n",
    "                for s in scenes: s.Redraw()\n",
    "            total_h = Integrate(gfu.components[0], mesh)\n",
    "            if istep % 500 == 0:                     # every 5 s\n",
    "                print(f\"\\nMean depth = {total_h / (L*W):.6f} m\")\n",
    "\n",
    "            if multidim_draw and istep % max(1, nsteps//md_nsamplings) == 0:\n",
    "                gfu_t.AddMultiDimComponent(gfu.vec)\n",
    "\n",
    "            print(f\"\\rt = {t:7.2f}  ({istep}/{nsteps})\", end=\"\", flush=True)\n",
    "\n",
    "    for s in scenes: s.Redraw()\n",
    "\n",
    "    if multidim_draw:\n",
    "        return gfu_t\n"
   ]
  },
  {
   "cell_type": "code",
   "execution_count": null,
   "id": "b58a0fe7-4ef0-4387-b984-34139c5ccdd0",
   "metadata": {},
   "outputs": [
    {
     "data": {
      "application/vnd.jupyter.widget-view+json": {
       "model_id": "b6c661f4216b403d99e3c8fa47621120",
       "version_major": 2,
       "version_minor": 0
      },
      "text/plain": [
       "WebGuiWidget(layout=Layout(height='50vh', width='100%'), value={'gui_settings': {}, 'ngsolve_version': '6.2.25…"
      ]
     },
     "metadata": {},
     "output_type": "display_data"
    },
    {
     "name": "stdout",
     "output_type": "stream",
     "text": [
      "t =    2.49  (499/20000)\n",
      "Mean depth = nan m\n",
      "t =    4.99  (999/20000)\n",
      "Mean depth = nan m\n",
      "t =    7.49  (1499/20000)\n",
      "Mean depth = nan m\n",
      "t =   10.00  (1999/20000)\n",
      "Mean depth = nan m\n",
      "t =   12.50  (2499/20000)\n",
      "Mean depth = nan m\n",
      "t =   15.00  (2999/20000)\n",
      "Mean depth = nan m\n",
      "t =   17.50  (3499/20000)\n",
      "Mean depth = nan m\n",
      "t =   18.19  (3637/20000)"
     ]
    }
   ],
   "source": [
    "scenes = [ Draw(gfu.components[0], mesh, \"h\") ]  \n",
    "\n",
    "gfu_t = TimeLoopExplicit(a,\n",
    "                         gfu       = gfu,\n",
    "                         invMA     = invMA,\n",
    "                         dt        = 0.005,\n",
    "                         T         = 100,\n",
    "                         SourceCF  = Source,\n",
    "                         scenes    = scenes,\n",
    "                         multidim_draw = True)"
   ]
  }
 ],
 "metadata": {
  "kernelspec": {
   "display_name": "Python 3 (ipykernel)",
   "language": "python",
   "name": "python3"
  },
  "language_info": {
   "codemirror_mode": {
    "name": "ipython",
    "version": 3
   },
   "file_extension": ".py",
   "mimetype": "text/x-python",
   "name": "python",
   "nbconvert_exporter": "python",
   "pygments_lexer": "ipython3",
   "version": "3.13.3"
  }
 },
 "nbformat": 4,
 "nbformat_minor": 5
}
