{
 "cells": [
  {
   "cell_type": "markdown",
   "id": "cf384c1d-cdb2-4fa1-b13e-5b43cf27a67d",
   "metadata": {},
   "source": [
    "# Experiment on replicating `Modeling rain-driven overland flow`\n",
    "The goal is to simulate rain accumulating on a surface and flowing, using the Poiseuille friction model which the [paper](https://arxiv.org/pdf/1609.04711) found most suitable for these conditions."
   ]
  },
  {
   "cell_type": "markdown",
   "id": "04b3d997-fb99-4083-b2c9-3e446d2cbe74",
   "metadata": {},
   "source": [
    "1. Geometry = a tilted rectangle, not a basin"
   ]
  },
  {
   "cell_type": "code",
   "execution_count": 1,
   "id": "134917f2-183f-42c7-99e5-702245353e7a",
   "metadata": {
    "scrolled": true
   },
   "outputs": [
    {
     "data": {
      "application/vnd.jupyter.widget-view+json": {
       "model_id": "fe945e4b468246f685764e3416a2a3f5",
       "version_major": 2,
       "version_minor": 0
      },
      "text/plain": [
       "WebGuiWidget(layout=Layout(height='50vh', width='100%'), value={'gui_settings': {}, 'ngsolve_version': '6.2.25…"
      ]
     },
     "metadata": {},
     "output_type": "display_data"
    },
    {
     "data": {
      "text/plain": [
       "BaseWebGuiScene"
      ]
     },
     "execution_count": 1,
     "metadata": {},
     "output_type": "execute_result"
    }
   ],
   "source": [
    "from ngsolve import *\n",
    "from netgen.occ import *\n",
    "from ngsolve.webgui import *\n",
    "from ngsolve.webgui import Draw\n",
    "import numpy as np\n",
    "\n",
    "\n",
    "L  = 4.04 # flume length  [m]\n",
    "W  = 0.115 # flume width   [m]\n",
    "SlopeDeg = 5 # (%)  ➔  2 %  ⇒ 0.02\n",
    "S0   = SlopeDeg/100 # tan α  (positive downslope)\n",
    "\n",
    "# create a flat rectangle; the slope only appears in the source term\n",
    "geo = Rectangle(L,W).Face()\n",
    "geo.edges.Min(X).name=\"inlet\"\n",
    "geo.edges.Max(X).name=\"outlet\"\n",
    "geo.edges.Min(Y).name = \"wall\"\n",
    "geo.edges.Max(Y).name = \"wall\"\n",
    "geo = OCCGeometry(geo, dim=2)\n",
    "mesh = Mesh(geo.GenerateMesh(maxh=0.05))\n",
    "# mesh.Curve(3)\n",
    "Draw(mesh)\n"
   ]
  },
  {
   "cell_type": "markdown",
   "id": "bed1e6f0-ea13-45f2-8730-c5280728e7c8",
   "metadata": {},
   "source": [
    "2. Unknowns, rainfall source and friction law"
   ]
  },
  {
   "cell_type": "code",
   "execution_count": 2,
   "id": "c5b26189-5cb4-4a7f-bb92-55e927343eef",
   "metadata": {},
   "outputs": [],
   "source": [
    "order = 2\n",
    "fes   = L2(mesh,order=order)**3 # (h, h u, h v)\n",
    "\n",
    "U,V = fes.TnT() # \"Trial\" and \"Test\" function\n",
    "h, hu, hv = U\n",
    "\n",
    "g  = 9.81 # [m/s²]\n",
    "nu = 1e-6 # kinematic viscosity of water  [m²/s]\n",
    "I_mm_h = 250 # rainfall intensity [mm h⁻¹]\n",
    "R = I_mm_h/1000/3600 # convert to m s⁻¹  (≈ 6.94 × 10⁻⁶)\n",
    "eps = 1e-6\n"
   ]
  },
  {
   "cell_type": "code",
   "execution_count": 3,
   "id": "6d7fd33f-6f51-4763-8a17-ae27ffcd880b",
   "metadata": {},
   "outputs": [],
   "source": [
    "min_h_friction = 1e-6 # Minimum water depth for friction denominator (can be tuned)\n",
    "\n",
    "def Sf_poiseuille(U_components_cf):\n",
    "    h_cf, hu_cf, hv_cf = U_components_cf # These are CoefficientFunctions\n",
    "\n",
    "    # Regularize h to avoid division by zero or very small numbers\n",
    "    h_regularized = Max(h_cf, min_h_friction)\n",
    "\n",
    "    # Calculate S_f components, assuming hu_cf is flux qx = h*u, hv_cf is flux qy = h*v\n",
    "    # Sf = (3*nu/g) * (q / h_reg^3)\n",
    "    S_f_x = (3 * nu / g) * (hu_cf / h_regularized**3)\n",
    "    S_f_y = (3 * nu / g) * (hv_cf / h_regularized**3) # If your model is 1D in x, hv_cf might be 0\n",
    "\n",
    "    return CF((S_f_x, S_f_y))"
   ]
  },
  {
   "cell_type": "code",
   "execution_count": 4,
   "id": "aa4ff1b2-74d1-43a4-a016-90ab54bcbf5e",
   "metadata": {},
   "outputs": [],
   "source": [
    "n = specialcf.normal(mesh.dim)\n",
    "def Max(a, b):\n",
    "    \"\"\"point-wise maximum for CoefficientFunctions\"\"\"\n",
    "    return IfPos(a-b, a, b)"
   ]
  },
  {
   "cell_type": "code",
   "execution_count": 5,
   "id": "5634e4cd-1f41-4b0c-9012-d056089fb78d",
   "metadata": {},
   "outputs": [],
   "source": [
    "def F(U):\n",
    "    h, hvx, hvy = U\n",
    "    vx = hvx/h\n",
    "    vy = hvy/h\n",
    "    return CF(((hvx,hvy),\n",
    "               (hvx*vx + 0.5*g*h**2, hvx*vy),\n",
    "               (hvx*vy, hvy*vy + 0.5*g*h**2)),dims=(3,2))"
   ]
  },
  {
   "cell_type": "code",
   "execution_count": 6,
   "id": "ec7868b0-8d31-4017-a740-1f0eb83887e2",
   "metadata": {},
   "outputs": [],
   "source": [
    "n = specialcf.normal(mesh.dim)\n",
    "def Max(u,v):\n",
    "    return IfPos(u-v,u,v)\n",
    "def Fmax(A,B): # max. characteristic speed:\n",
    "    ha, hua, hva = A\n",
    "    hb, hub, hvb = B\n",
    "    vnorma = sqrt(hua**2+hva**2)/ha\n",
    "    vnormb = sqrt(hub**2+hvb**2)/hb\n",
    "    return Max(vnorma+sqrt(g*A[0]),vnormb+sqrt(g*B[0]))\n",
    "\n",
    "def Fhatn(U): # numerical flux\n",
    "    Uhat = U.Other(bnd=Ubnd)\n",
    "    return (0.5*F(U)+0.5*F(Uhat))*n + Fmax(U,Uhat)/2*(U-Uhat)"
   ]
  },
  {
   "cell_type": "code",
   "execution_count": 7,
   "id": "da30a816-a5f1-4b0a-bd8d-46bd92a8b219",
   "metadata": {},
   "outputs": [],
   "source": [
    "\n",
    "U0 = CF((eps, 0, 0))\n",
    "Ubnd = CF((h, -hu, -hv))"
   ]
  },
  {
   "cell_type": "code",
   "execution_count": 28,
   "id": "d6a1cb5d-bfe2-4511-a7c5-150175711cf0",
   "metadata": {},
   "outputs": [
    {
     "name": "stdout",
     "output_type": "stream",
     "text": [
      "(3, 2)\n",
      "(2, 3)\n",
      "(3, 2)\n",
      "(2, 3)\n"
     ]
    }
   ],
   "source": [
    "print(F(U).shape)\n",
    "print(F(U).trans.shape)\n",
    "print(Grad(V).shape)\n",
    "print(Grad(V).trans.shape)\n"
   ]
  },
  {
   "cell_type": "markdown",
   "id": "2a76dfa3-776a-4e3f-845b-34378f598d23",
   "metadata": {},
   "source": [
    "3. DG bilinear plus source terms (rain, bed-slope, friction)"
   ]
  },
  {
   "cell_type": "code",
   "execution_count": 8,
   "id": "2a23c0ed-d3f3-4699-a24b-895f0dfa5856",
   "metadata": {},
   "outputs": [],
   "source": [
    "def DGBilinearForm(fes,F,Fhatnd, Ubnd):\n",
    "    a = BilinearForm(fes, nonassemble=True)\n",
    "    a += - InnerProduct(F(U),Grad(V)) * dx\n",
    "    a += InnerProduct(Fhatn(U),V) * dx(element_boundary=True)\n",
    "    return a\n",
    "\n",
    "a = DGBilinearForm(fes,F,Fhatn, Ubnd)"
   ]
  },
  {
   "cell_type": "code",
   "execution_count": 9,
   "id": "80208cc5-67db-428e-a28d-b647283765c0",
   "metadata": {},
   "outputs": [],
   "source": [
    "from DGdiffusion import AddArtificialDiffusion\n",
    "\n",
    "artvisc = Parameter(1.0)\n",
    "if order > 0:\n",
    "    AddArtificialDiffusion(a,Ubnd,artvisc,compile=True)"
   ]
  },
  {
   "cell_type": "code",
   "execution_count": 10,
   "id": "8f8cdbf0-0589-41a8-9806-e17ba0ac3e75",
   "metadata": {},
   "outputs": [],
   "source": [
    "invMA = fes.Mass(1).Inverse() @ a.mat\n"
   ]
  },
  {
   "cell_type": "code",
   "execution_count": 11,
   "id": "6213e2ab-bc1f-4d0e-b73f-b2a38cf87636",
   "metadata": {},
   "outputs": [
    {
     "data": {
      "application/vnd.jupyter.widget-view+json": {
       "model_id": "0d7d5032739f4c0ebc763eb224f5b61e",
       "version_major": 2,
       "version_minor": 0
      },
      "text/plain": [
       "WebGuiWidget(layout=Layout(height='50vh', width='100%'), value={'gui_settings': {}, 'ngsolve_version': '6.2.25…"
      ]
     },
     "metadata": {},
     "output_type": "display_data"
    },
    {
     "data": {
      "application/vnd.jupyter.widget-view+json": {
       "model_id": "73bb4266e8db42c5854b6391e3a6d81b",
       "version_major": 2,
       "version_minor": 0
      },
      "text/plain": [
       "WebGuiWidget(layout=Layout(height='50vh', width='100%'), value={'gui_settings': {}, 'ngsolve_version': '6.2.25…"
      ]
     },
     "metadata": {},
     "output_type": "display_data"
    },
    {
     "data": {
      "application/vnd.jupyter.widget-view+json": {
       "model_id": "d5f02ac9055745dca3968114003815ff",
       "version_major": 2,
       "version_minor": 0
      },
      "text/plain": [
       "WebGuiWidget(layout=Layout(height='50vh', width='100%'), value={'gui_settings': {}, 'ngsolve_version': '6.2.25…"
      ]
     },
     "metadata": {},
     "output_type": "display_data"
    }
   ],
   "source": [
    "gfu = GridFunction(fes)\n",
    "gfu.Set(U0)\n",
    "\n",
    "gfh, gfhu, gfhv = gfu\n",
    "\n",
    "min_depth = 1e-5\n",
    "gfvu = IfPos(gfh - min_depth, gfhu/gfh, 0)\n",
    "gfvv = IfPos(gfh - min_depth, gfhv/gfh, 0)\n",
    "\n",
    "momentum = CF((gfhu, gfhv))\n",
    "velocity = CF((gfvu, gfvv))\n",
    "\n",
    "scenes = [ \n",
    "    Draw(momentum, mesh, \"mom\"),\n",
    "    Draw(velocity, mesh, \"vel\"),\n",
    "    Draw(gfh, mesh, \"h\") \n",
    "]"
   ]
  },
  {
   "cell_type": "code",
   "execution_count": 15,
   "id": "045ccaa3-5497-491e-a8d0-51a10effe871",
   "metadata": {},
   "outputs": [],
   "source": [
    "def Source(gfu_arg):\n",
    "    h_comp  = gfu_arg.components[0]\n",
    "    hu_comp = gfu_arg.components[1]\n",
    "    hv_comp = gfu_arg.components[2] # Ensure this exists if used\n",
    "\n",
    "    # Rainfall contribution\n",
    "    srain_h  = R      # Rainfall intensity (m/s)\n",
    "    srain_hu = 0.0\n",
    "    srain_hv = 0.0    # Assuming no momentum from rain in this simplified model\n",
    "\n",
    "    # Bed-slope contribution: g*h*S0\n",
    "    # Use a regularized h_comp for slope if h_comp can become problematic (e.g., negative)\n",
    "    h_for_slope = Max(h_comp, eps) # eps is your small positive number for initial depth\n",
    "    sslope_hu = g * h_for_slope * S0\n",
    "    sslope_hv = 0.0   # Assuming slope is only in x-direction\n",
    "\n",
    "    # Friction contribution: -g*h*S_f\n",
    "    # Sf_poiseuille returns (S_f_x, S_f_y)\n",
    "    friction_S_f_tuple = Sf_poiseuille((h_comp, hu_comp, hv_comp))\n",
    "\n",
    "    # Use a regularized h_comp for the -g*h*S_f term as well\n",
    "    h_for_friction_factor = Max(h_comp, eps)\n",
    "    s_friction_hu = -g * h_for_friction_factor * friction_S_f_tuple[0]\n",
    "    s_friction_hv = -g * h_for_friction_factor * friction_S_f_tuple[1]\n",
    "\n",
    "    # Total source terms\n",
    "    total_source_h  = srain_h\n",
    "    total_source_hu = srain_hu + sslope_hu + s_friction_hu\n",
    "    total_source_hv = srain_hv + sslope_hv + s_friction_hv # If 2D\n",
    "\n",
    "    return CF((0.0, 0.0, 0.0)) #return CF((total_source_h, total_source_hu, total_source_hv))"
   ]
  },
  {
   "cell_type": "markdown",
   "id": "7279c15d-5e0b-48af-870a-3fd8764222fc",
   "metadata": {},
   "source": [
    "4. Time integrator"
   ]
  },
  {
   "cell_type": "code",
   "execution_count": 16,
   "id": "76ba6541-6365-4fe0-8a20-538df45717a8",
   "metadata": {},
   "outputs": [],
   "source": [
    "def TimeLoop(a, gfu, dt, T, Source, nsamplings=100, scenes=scenes,\n",
    "             multidim_draw=False, md_nsamplings=20):\n",
    "    if multidim_draw:\n",
    "        gfu_t = GridFunction(gfu.space, multidim=True)\n",
    "    res = gfu.vec.CreateVector()\n",
    "    fes = a.space\n",
    "    t = 0; i = 0\n",
    "    nsteps = int(ceil(T / dt))\n",
    "    invma = fes.Mass(1).Inverse() @ a.mat\n",
    "\n",
    "    if multidim_draw:\n",
    "        gfu_t.AddMultiDimComponent(gfu.vec)\n",
    "    mass_inv = fes.Mass(1).Inverse()\n",
    "    log_interval = 50\n",
    "    max_h_threshold = 1.0\n",
    "    with TaskManager():\n",
    "        while t <= T - 0.5 * dt:\n",
    "            res.data = invma * gfu.vec\n",
    "            lf_source = LinearForm(fes)\n",
    "            lf_source += InnerProduct(Source(gfu), fes.TestFunction()) * dx\n",
    "            lf_source.Assemble()\n",
    "            source_term = mass_inv * lf_source.vec\n",
    "            res.data -= source_term\n",
    "            gfu.vec.data -= dt * res\n",
    "            t += dt\n",
    "            if (i + 1) % max(int(nsteps / nsamplings), 1) == 0:\n",
    "                for s in scenes:\n",
    "                    s.Redraw()\n",
    "            if (i + 1) % log_interval == 0:\n",
    "                h_coeffs = gfu.components[0].vec.FV().NumPy()\n",
    "                hu_coeffs = gfu.components[1].vec.FV().NumPy()\n",
    "                hv_coeffs = gfu.components[2].vec.FV().NumPy() \n",
    "                print(f\"\\nStep: {i+1}, Time: {t:.6f}\")\n",
    "                print(f\"  h min: {np.min(h_coeffs):.3e}, h max: {np.max(h_coeffs):.3e}\")\n",
    "                print(f\"  hu min: {np.min(hu_coeffs):.3e}, hu max: {np.max(hu_coeffs):.3e}\")\n",
    "                # print(f\"  hv min: {np.min(hv_coeffs):.3e}, hv max: {np.max(hv_coeffs):.3e}\") # Uncomment if hv is used\n",
    "                   \n",
    "            if multidim_draw and (i + 1) % max(int(nsteps / md_nsamplings), 1) == 0:\n",
    "                gfu_t.AddMultiDimComponent(gfu.vec)\n",
    "            i += 1\n",
    "            print(\"\\rt = {:.6f}\".format(t), end=\"\")\n",
    "    for s in scenes:\n",
    "        s.Redraw()\n",
    "    if multidim_draw:\n",
    "        return gfu_t\n",
    "gfu.Set(U0)\n",
    "dt = 0.0025\n",
    "T = 15"
   ]
  },
  {
   "cell_type": "code",
   "execution_count": 18,
   "id": "e74ec356-d1fd-4431-972c-ea5cee8efaa6",
   "metadata": {},
   "outputs": [
    {
     "data": {
      "application/vnd.jupyter.widget-view+json": {
       "model_id": "1cc76f264b514c1facbbae07bbad2759",
       "version_major": 2,
       "version_minor": 0
      },
      "text/plain": [
       "WebGuiWidget(layout=Layout(height='50vh', width='100%'), value={'gui_settings': {'camera': {'transformations':…"
      ]
     },
     "metadata": {},
     "output_type": "display_data"
    },
    {
     "data": {
      "text/plain": [
       "BaseWebGuiScene"
      ]
     },
     "execution_count": 18,
     "metadata": {},
     "output_type": "execute_result"
    }
   ],
   "source": [
    "Draw(gfu_t.components[0], mesh, \"h\", interpolate_multidim=True, animate=True,\n",
    "     deformation=True, settings={\"camera\": {\"transformations\": [\n",
    "         {\"type\": \"rotateX\", \"angle\": -20},\n",
    "         {\"type\": \"rotateZ\", \"angle\": 0}\n",
    "     ]}}, autoscale=True)"
   ]
  }
 ],
 "metadata": {
  "kernelspec": {
   "display_name": "Python 3 (ipykernel)",
   "language": "python",
   "name": "python3"
  },
  "language_info": {
   "codemirror_mode": {
    "name": "ipython",
    "version": 3
   },
   "file_extension": ".py",
   "mimetype": "text/x-python",
   "name": "python",
   "nbconvert_exporter": "python",
   "pygments_lexer": "ipython3",
   "version": "3.13.3"
  }
 },
 "nbformat": 4,
 "nbformat_minor": 5
}
