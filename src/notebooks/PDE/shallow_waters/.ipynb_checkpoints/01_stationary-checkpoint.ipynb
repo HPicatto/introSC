{
 "cells": [
  {
   "cell_type": "code",
   "execution_count": 1,
   "id": "7231fb14-7d56-44b3-a0ce-7b4497abe066",
   "metadata": {},
   "outputs": [],
   "source": [
    "from ngsolve import *\n",
    "from ngsolve.webgui import Draw\n",
    "mesh = Mesh(unit_square.GenerateMesh(maxh=0.05))"
   ]
  },
  {
   "cell_type": "code",
   "execution_count": 2,
   "id": "8077214e-6610-40da-a6d4-d17a119d3d88",
   "metadata": {},
   "outputs": [
    {
     "data": {
      "application/vnd.jupyter.widget-view+json": {
       "model_id": "a7bb6b1ca380463b8959081f179153b5",
       "version_major": 2,
       "version_minor": 0
      },
      "text/plain": [
       "WebGuiWidget(layout=Layout(height='50vh', width='100%'), value={'gui_settings': {}, 'ngsolve_version': '6.2.25…"
      ]
     },
     "metadata": {},
     "output_type": "display_data"
    }
   ],
   "source": [
    "b = CF( (1,0.5*sin(2*6.28*x)))\n",
    "Draw (b, mesh, \"wind\", min=0.8, max=1.2, vectors = { \"grid_size\" : 20 });"
   ]
  },
  {
   "cell_type": "code",
   "execution_count": 4,
   "id": "4e8aa258-925a-4018-bce3-bf401b767bd6",
   "metadata": {},
   "outputs": [],
   "source": [
    "fes = L2(mesh, order=2, dgjumps=True)\n",
    "\n",
    "u,v = fes.TnT()\n",
    "\n",
    "a = BilinearForm(fes)\n",
    "a += -b*u*grad(v)*dx\n",
    "\n",
    "# the upwind-term:\n",
    "n = specialcf.normal(2)\n",
    "uup = IfPos(b*n, u, u.Other())\n",
    "a += b*n*uup*v * dx(element_boundary=True)\n",
    "a.Assemble()\n",
    "\n",
    "f = LinearForm(fes)\n",
    "f += exp(-20**2*(y-0.5)**2)*v * ds(skeleton=True,definedon=mesh.Boundaries(\"left\"))\n",
    "f.Assemble();"
   ]
  },
  {
   "cell_type": "code",
   "execution_count": 5,
   "id": "3aa342fa-7650-416d-9c20-add9b4fbd1eb",
   "metadata": {},
   "outputs": [
    {
     "data": {
      "application/vnd.jupyter.widget-view+json": {
       "model_id": "bd54a05c0d8644f48e2215c52416f98e",
       "version_major": 2,
       "version_minor": 0
      },
      "text/plain": [
       "WebGuiWidget(layout=Layout(height='50vh', width='100%'), value={'gui_settings': {}, 'ngsolve_version': '6.2.25…"
      ]
     },
     "metadata": {},
     "output_type": "display_data"
    }
   ],
   "source": [
    "gfu = GridFunction(fes)\n",
    "gfu.vec.data = a.mat.Inverse() * f.vec\n",
    "\n",
    "Draw (gfu, order=3);"
   ]
  }
 ],
 "metadata": {
  "kernelspec": {
   "display_name": "Python 3 (ipykernel)",
   "language": "python",
   "name": "python3"
  },
  "language_info": {
   "codemirror_mode": {
    "name": "ipython",
    "version": 3
   },
   "file_extension": ".py",
   "mimetype": "text/x-python",
   "name": "python",
   "nbconvert_exporter": "python",
   "pygments_lexer": "ipython3",
   "version": "3.13.3"
  }
 },
 "nbformat": 4,
 "nbformat_minor": 5
}
