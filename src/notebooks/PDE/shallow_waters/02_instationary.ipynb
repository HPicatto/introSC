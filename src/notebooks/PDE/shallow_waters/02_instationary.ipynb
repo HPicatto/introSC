{
 "cells": [
  {
   "cell_type": "code",
   "execution_count": 1,
   "id": "e830f182-dd06-474c-9044-9ebff29a7b5f",
   "metadata": {},
   "outputs": [],
   "source": [
    "from ngsolve import *\n",
    "from ngsolve.webgui import Draw\n",
    "mesh = Mesh(unit_square.GenerateMesh(maxh=0.1))"
   ]
  },
  {
   "cell_type": "code",
   "execution_count": 2,
   "id": "3eeafb00-02d6-4c22-8cfe-8daf71914a70",
   "metadata": {},
   "outputs": [
    {
     "data": {
      "application/vnd.jupyter.widget-view+json": {
       "model_id": "8128a24d74f54f2d9f08e30c757f8929",
       "version_major": 2,
       "version_minor": 0
      },
      "text/plain": [
       "WebGuiWidget(layout=Layout(height='50vh', width='100%'), value={'gui_settings': {}, 'ngsolve_version': '6.2.25…"
      ]
     },
     "metadata": {},
     "output_type": "display_data"
    }
   ],
   "source": [
    "b = CF( (y-0.5, 0.5-x) )\n",
    "Draw (b, mesh, \"wind\", vectors={\"grid_size\" : 20 });"
   ]
  },
  {
   "cell_type": "code",
   "execution_count": 3,
   "id": "47f35ebf-8b53-49de-99be-f65790af68cc",
   "metadata": {
    "scrolled": true
   },
   "outputs": [
    {
     "data": {
      "application/vnd.jupyter.widget-view+json": {
       "model_id": "51ac50dfa6624cae9ffbcd12a7495fde",
       "version_major": 2,
       "version_minor": 0
      },
      "text/plain": [
       "WebGuiWidget(layout=Layout(height='50vh', width='100%'), value={'gui_settings': {}, 'ngsolve_version': '6.2.25…"
      ]
     },
     "metadata": {},
     "output_type": "display_data"
    }
   ],
   "source": [
    "fes = L2(mesh, order=3)\n",
    "\n",
    "u, v = fes.TnT()\n",
    "a = BilinearForm(fes, nonassemble=True)\n",
    "\n",
    "a += -b*u*grad(v)*dx\n",
    "\n",
    "# the upwind-term:\n",
    "n = specialcf.normal(2)\n",
    "uup = IfPos(b*n, u, u.Other(bnd=0))\n",
    "a += b*n*uup*v * dx(element_boundary=True)\n",
    "\n",
    "#f = LinearForm(fes).Assemble()\n",
    "\n",
    "gfu = GridFunction(fes)\n",
    "gfu.Set(exp(-10**2*((x-0.5)*(x-0.5) +(y-0.75)*(y-0.75))))\n",
    "\n",
    "scene = Draw(gfu, min=0, max=1, order=3, autoscale=False)"
   ]
  },
  {
   "cell_type": "code",
   "execution_count": 4,
   "id": "d08b11da-ed22-40b8-a0e3-7e7c5e67ef19",
   "metadata": {},
   "outputs": [],
   "source": [
    "tau = 0.001\n",
    "tend = 50\n",
    "t = 0\n",
    "cnt = 0\n",
    "\n",
    "w = gfu.vec.CreateVector()\n",
    "# the mass matrix (implemented matrix-free)\n",
    "invm = fes.Mass(rho=1).Inverse()\n",
    "SetNumThreads(3)\n",
    "with TaskManager():\n",
    "    while t < tend:\n",
    "        # print (t)\n",
    "        # apply the transport operator \n",
    "        a.Apply (gfu.vec, w)\n",
    "        gfu.vec.data -= tau * invm * w\n",
    "        if cnt%20 == 0:\n",
    "            scene.Redraw()    \n",
    "        t += tau\n",
    "        cnt +=1 "
   ]
  }
 ],
 "metadata": {
  "kernelspec": {
   "display_name": "Python 3 (ipykernel)",
   "language": "python",
   "name": "python3"
  },
  "language_info": {
   "codemirror_mode": {
    "name": "ipython",
    "version": 3
   },
   "file_extension": ".py",
   "mimetype": "text/x-python",
   "name": "python",
   "nbconvert_exporter": "python",
   "pygments_lexer": "ipython3",
   "version": "3.13.3"
  }
 },
 "nbformat": 4,
 "nbformat_minor": 5
}
