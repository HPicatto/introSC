{
 "cells": [
  {
   "cell_type": "code",
   "execution_count": 1,
   "id": "1ca87f53-a7c4-47ad-bb13-b9a5a8f428b6",
   "metadata": {},
   "outputs": [],
   "source": [
    "from ngsolve import *\n",
    "from ngsolve.webgui import Draw\n",
    "from netgen.occ import unit_square\n",
    "from time import sleep"
   ]
  },
  {
   "cell_type": "code",
   "execution_count": 3,
   "id": "de618af0-2dbe-460a-aef8-851b060c9f14",
   "metadata": {},
   "outputs": [
    {
     "data": {
      "application/vnd.jupyter.widget-view+json": {
       "model_id": "63d0522d34eb4abe88dcff31a506857c",
       "version_major": 2,
       "version_minor": 0
      },
      "text/plain": [
       "WebGuiWidget(layout=Layout(height='50vh', width='100%'), value={'ngsolve_version': 'Netgen x.x', 'mesh_dim': 3…"
      ]
     },
     "metadata": {},
     "output_type": "display_data"
    },
    {
     "data": {
      "application/vnd.jupyter.widget-view+json": {
       "model_id": "2982021f6a2847df8745ec4e7ce271ba",
       "version_major": 2,
       "version_minor": 0
      },
      "text/plain": [
       "WebGuiWidget(layout=Layout(height='50vh', width='100%'), value={'gui_settings': {}, 'ngsolve_version': '6.2.25…"
      ]
     },
     "metadata": {},
     "output_type": "display_data"
    }
   ],
   "source": [
    "from netgen.occ import *\n",
    "rect = MoveTo(-1,-1).Rectangle (2,2).Face()\n",
    "rect.edges.Min(X).name=\"left\"\n",
    "shape = rect\n",
    "mesh = Mesh (OCCGeometry( shape, dim=2).GenerateMesh(maxh=0.03)).Curve(5)\n",
    "Draw (shape)\n",
    "Draw (mesh);"
   ]
  },
  {
   "cell_type": "code",
   "execution_count": 4,
   "id": "3d693ee8-b2eb-4244-abd7-5ef628491039",
   "metadata": {},
   "outputs": [],
   "source": [
    "tau = 0.005\n",
    "tend = 2\n",
    "u0 = exp(-400*(x**2 + y**2)) \n",
    "v0 = 0\n",
    "\n",
    "fes = H1(mesh, order=3)\n",
    "u,v = fes.TnT()\n",
    "mform = u*v*dx\n",
    "aform = grad(u)*grad(v)*dx\n",
    "\n",
    "m = BilinearForm(mform).Assemble()\n",
    "a = BilinearForm(aform).Assemble()\n",
    "mstar = BilinearForm(mform+tau**2/4*aform).Assemble()\n",
    "mstarinv = mstar.mat.Inverse(inverse=\"sparsecholesky\")\n",
    "f = LinearForm(fes).Assemble()"
   ]
  },
  {
   "cell_type": "code",
   "execution_count": 5,
   "id": "950e87ad-c99f-41fb-a74e-00f7a1db9bdd",
   "metadata": {},
   "outputs": [
    {
     "data": {
      "application/vnd.jupyter.widget-view+json": {
       "model_id": "c2c431724c6e4792acce32f05b30f0a1",
       "version_major": 2,
       "version_minor": 0
      },
      "text/plain": [
       "WebGuiWidget(layout=Layout(height='50vh', width='100%'), value={'gui_settings': {}, 'ngsolve_version': '6.2.25…"
      ]
     },
     "metadata": {},
     "output_type": "display_data"
    }
   ],
   "source": [
    "gfu = GridFunction(fes)\n",
    "gfv = GridFunction(fes)\n",
    "\n",
    "gfu.Set(u0)\n",
    "gfv.Set(v0)\n",
    "\n",
    "scene = Draw (gfu, deformation=True, order=3)\n",
    "\n",
    "for j in range(int(tend/tau)):\n",
    "    gfu.vec.data += tau/2 * gfv.vec\n",
    "    gfv.vec.data += tau * mstarinv * (f.vec - a.mat * gfu.vec)\n",
    "    gfu.vec.data += tau/2 * gfv.vec\n",
    "\n",
    "    if j%2 == 0:\n",
    "        scene.Redraw()\n",
    "        # sleep(0.1)\n",
    "scene.Redraw()"
   ]
  },
  {
   "cell_type": "code",
   "execution_count": 6,
   "id": "1ea4526f-7afd-4afd-ae2a-d8dcf13ff6d0",
   "metadata": {},
   "outputs": [
    {
     "data": {
      "application/vnd.jupyter.widget-view+json": {
       "model_id": "046287c055d0496995f2ba97d143741f",
       "version_major": 2,
       "version_minor": 0
      },
      "text/plain": [
       "WebGuiWidget(layout=Layout(height='50vh', width='100%'), value={'ngsolve_version': 'Netgen x.x', 'mesh_dim': 3…"
      ]
     },
     "metadata": {},
     "output_type": "display_data"
    },
    {
     "data": {
      "application/vnd.jupyter.widget-view+json": {
       "model_id": "751e239726084cfa94ef775267012351",
       "version_major": 2,
       "version_minor": 0
      },
      "text/plain": [
       "WebGuiWidget(layout=Layout(height='50vh', width='100%'), value={'gui_settings': {}, 'ngsolve_version': '6.2.25…"
      ]
     },
     "metadata": {},
     "output_type": "display_data"
    },
    {
     "name": "stderr",
     "output_type": "stream",
     "text": [
      "used dof inconsistency\n",
      "(silence this warning by setting BilinearForm(...check_unused=False) )\n"
     ]
    },
    {
     "data": {
      "application/vnd.jupyter.widget-view+json": {
       "model_id": "60819b6c1e8e4064aa0dbc8a6ab1e01b",
       "version_major": 2,
       "version_minor": 0
      },
      "text/plain": [
       "WebGuiWidget(layout=Layout(height='50vh', width='100%'), value={'gui_settings': {}, 'ngsolve_version': '6.2.25…"
      ]
     },
     "metadata": {},
     "output_type": "display_data"
    },
    {
     "name": "stderr",
     "output_type": "stream",
     "text": [
      "/home/hpicatto/noASCII/tuwien/ASC-bla/.pixi/envs/research-intro-sc/lib/python3.13/site-packages/netgen/webgui.py:20: RuntimeWarning: overflow encountered in cast\n",
      "  values = np.array(data.flatten(), dtype=dtype)\n"
     ]
    }
   ],
   "source": [
    "from ngsolve import *\n",
    "from ngsolve.webgui import Draw\n",
    "from netgen.occ import unit_square # Not strictly used, but kept from original\n",
    "from time import sleep\n",
    "from netgen.occ import *\n",
    "\n",
    "# 1. Define the geometry (no changes needed here for basic ABC)\n",
    "# The boundary rect.edges.Min(X).name=\"left\" is not strictly necessary\n",
    "# for applying ABC on all boundaries if using ds() broadly, but doesn't hurt.\n",
    "# For clarity, if you wanted to ensure names for all boundaries to use explicitly:\n",
    "# rect = MoveTo(-1,-1).Rectangle (2,2).Face()\n",
    "# rect.edges.Min(X).name=\"left\"\n",
    "# rect.edges.Max(X).name=\"right\"\n",
    "# rect.edges.Min(Y).name=\"bottom\"\n",
    "# rect.edges.Max(Y).name=\"top\"\n",
    "# However, ds() without definedon will apply to all boundaries of the domain.\n",
    "rect = MoveTo(-1,-1).Rectangle (2,2).Face()\n",
    "rect.edges.Min(X).name=\"left\" # This naming is kept but not essential for below ABC\n",
    "shape = rect\n",
    "mesh = Mesh (OCCGeometry( shape, dim=2).GenerateMesh(maxh=0.03)).Curve(5)\n",
    "\n",
    "Draw (shape) # Draw the geometry shape\n",
    "Draw (mesh); # Draw the mesh\n",
    "\n",
    "tau = 0.005\n",
    "tend = 2\n",
    "\n",
    "# Initial conditions\n",
    "u0 = exp(-400*(x**2 + y**2))\n",
    "v0 = 0\n",
    "\n",
    "# Finite element space\n",
    "fes = H1(mesh, order=3)\n",
    "u,v = fes.TnT() # u is trial, v is test (or vice-versa, consistently)\n",
    "\n",
    "# Bilinear forms for mass and stiffness matrices\n",
    "mform = u*v*dx\n",
    "aform = grad(u)*grad(v)*dx\n",
    "\n",
    "m = BilinearForm(mform).Assemble()\n",
    "a = BilinearForm(aform).Assemble()\n",
    "\n",
    "# 2. Define the bilinear form for the absorbing boundary condition\n",
    "# This term corresponds to integral of v*w*ds on the boundary\n",
    "# Here, 'u' acts as the test function 'w', and 'v' as the trial function for 'v' itself.\n",
    "# ds() without a 'definedon' argument integrates over all boundaries of the domain.\n",
    "# If you have specifically named all your boundaries (e.g. \"left\", \"right\", \"top\", \"bottom\"),\n",
    "# you could use: ds(definedon=mesh.Boundaries(\"left|right|top|bottom\"))\n",
    "# Or more generally for all boundaries: ds(definedon=mesh.Boundaries(\".*\"))\n",
    "c_wave_speed = 1.0 # Wave speed, assumed to be 1\n",
    "bform_abc = (1/c_wave_speed) * u*v*ds # u is test, v is trial from fes.TnT()\n",
    "\n",
    "b_abc = BilinearForm(fes) # Important: use fes, not just bform_abc directly\n",
    "b_abc += bform_abc      # Add the symbolic form to the BilinearForm object\n",
    "b_abc.Assemble()\n",
    "\n",
    "# Modified mass matrix for the time integrator\n",
    "mstar = BilinearForm(mform+tau**2/4*aform).Assemble()\n",
    "mstarinv = mstar.mat.Inverse(inverse=\"sparsecholesky\")\n",
    "\n",
    "# Linear form (e.g., for sources, not used here as f.vec is zero)\n",
    "f = LinearForm(fes).Assemble() # f.vec will be a zero vector\n",
    "\n",
    "# Grid functions for solution u and its time derivative v\n",
    "gfu = GridFunction(fes)\n",
    "gfv = GridFunction(fes)\n",
    "\n",
    "gfu.Set(u0)\n",
    "gfv.Set(v0)\n",
    "\n",
    "scene = Draw (gfu, deformation=True, order=3) # deformation uses gfu for displacement\n",
    "\n",
    "# Time loop\n",
    "for j in range(int(tend/tau)):\n",
    "    # First half-step for u\n",
    "    gfu.vec.data += tau/2 * gfv.vec\n",
    "\n",
    "    # Update for v (with absorbing boundary condition)\n",
    "    # Original: res_v = f.vec - a.mat * gfu.vec\n",
    "    # Modified: include the damping term -b_abc.mat * gfv.vec\n",
    "    # This implements M* dv/dt = -A*u - B_abc*v\n",
    "    residual_v = f.vec.CreateVector() # ensure f.vec is not modified if it's non-zero later\n",
    "    residual_v.data = f.vec - a.mat * gfu.vec - b_abc.mat * gfv.vec\n",
    "    gfv.vec.data += tau * mstarinv * residual_v\n",
    "\n",
    "    # Second half-step for u\n",
    "    gfu.vec.data += tau/2 * gfv.vec\n",
    "\n",
    "    if j%20 == 0: # Redraw less frequently for speed\n",
    "        scene.Redraw()\n",
    "        # sleep(0.01) # Optional: slow down for visualization\n",
    "\n",
    "scene.Redraw() # Final redraw"
   ]
  }
 ],
 "metadata": {
  "kernelspec": {
   "display_name": "Python 3 (ipykernel)",
   "language": "python",
   "name": "python3"
  },
  "language_info": {
   "codemirror_mode": {
    "name": "ipython",
    "version": 3
   },
   "file_extension": ".py",
   "mimetype": "text/x-python",
   "name": "python",
   "nbconvert_exporter": "python",
   "pygments_lexer": "ipython3",
   "version": "3.13.3"
  }
 },
 "nbformat": 4,
 "nbformat_minor": 5
}
