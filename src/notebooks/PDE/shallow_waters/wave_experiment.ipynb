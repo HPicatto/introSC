{
 "cells": [
  {
   "cell_type": "code",
   "execution_count": 1,
   "id": "1ca87f53-a7c4-47ad-bb13-b9a5a8f428b6",
   "metadata": {},
   "outputs": [],
   "source": [
    "# geometry description (including boundary/mat names)\n",
    "from ngsolve import *\n",
    "from netgen.occ import *\n",
    "from ngsolve.webgui import *\n",
    "from ngsolve.webgui import Draw\n",
    "\n",
    "wp = WorkPlane()\n",
    "wp.MoveTo(-12,-5).LineTo(-3,-5).NameVertex(\"fillet\")\n",
    "wp.LineTo(-3,-1).NameVertex(\"fillet\")\n",
    "wp.LineTo(0,-1).LineTo(0,0).LineTo(-12,0).Close()\n",
    "geo = wp.Face()\n",
    "geo = geo.MakeFillet(list(set(geo.vertices[\"fillet\"])),2)\n",
    "geo = geo + geo.Mirror(Axis((0,0,0),X)).Reversed()\n",
    "geo = Glue([geo,geo.Mirror(Axis((0,0,0),Y)).Reversed()])\n",
    "geo.faces.Min(X).name=\"upperlevel\"\n",
    "geo.faces.Max(X).name=\"lowerlevel\"\n",
    "geo.edges.name = \"wall\"\n",
    "geo.edges.Nearest((0,0)).name = \"dam\"\n",
    "#Draw(geo)\n",
    "geo = OCCGeometry(geo,dim=2)\n",
    "mesh = Mesh(geo.GenerateMesh(maxh=2))\n",
    "mesh.Curve(3)\n",
    "Draw(mesh)"
   ]
  },
  {
   "cell_type": "code",
   "execution_count": 2,
   "id": "de618af0-2dbe-460a-aef8-851b060c9f14",
   "metadata": {},
   "outputs": [
    {
     "data": {
      "application/vnd.jupyter.widget-view+json": {
       "model_id": "9ebbb0bb8d894982b8e1b110d9b386f0",
       "version_major": 2,
       "version_minor": 0
      },
      "text/plain": [
       "WebGuiWidget(layout=Layout(height='50vh', width='100%'), value={'gui_settings': {}, 'ngsolve_version': '6.2.25…"
      ]
     },
     "metadata": {},
     "output_type": "display_data"
    },
    {
     "data": {
      "text/plain": [
       "BaseWebGuiScene"
      ]
     },
     "execution_count": 2,
     "metadata": {},
     "output_type": "execute_result"
    }
   ],
   "source": []
  },
  {
   "cell_type": "code",
   "execution_count": 3,
   "id": "3d693ee8-b2eb-4244-abd7-5ef628491039",
   "metadata": {},
   "outputs": [],
   "source": [
    "order = 2\n",
    "fes = L2(mesh,order=order)**3\n",
    "#fes = L2(mesh,order=order,dim=3)"
   ]
  },
  {
   "cell_type": "code",
   "execution_count": 4,
   "id": "950e87ad-c99f-41fb-a74e-00f7a1db9bdd",
   "metadata": {},
   "outputs": [],
   "source": [
    "U,V = fes.TnT() # \"Trial\" and \"Test\" function\n",
    "h, hu, hv = U\n",
    "\n",
    "# initial conditions\n",
    "h0mat = {\"upperlevel\" : 10, \"lowerlevel\" : 2}\n",
    "U0 = CF((mesh.MaterialCF(h0mat),0,0))\n",
    "\n",
    "# boundary conditions\n",
    "hbndreg = mesh.BoundaryCF({\"wall\" : h, \"dam\" : 0})\n",
    "hubndreg = mesh.BoundaryCF({\"wall\" : -hu, \"dam\" : 0})\n",
    "hvbndreg = mesh.BoundaryCF({\"wall\" : -hv, \"dam\" : 0})\n",
    "\n",
    "Ubnd = CF((hbndreg,hubndreg,hvbndreg))\n",
    "\n",
    "# constant for gravitational force\n",
    "g=1"
   ]
  },
  {
   "cell_type": "code",
   "execution_count": 5,
   "id": "1ea4526f-7afd-4afd-ae2a-d8dcf13ff6d0",
   "metadata": {},
   "outputs": [],
   "source": [
    "def F(U):\n",
    "    h, hvx, hvy = U\n",
    "    vx = hvx/h\n",
    "    vy = hvy/h\n",
    "    return CF(((hvx,hvy),\n",
    "               (hvx*vx + 0.5*g*h**2, hvx*vy),\n",
    "               (hvx*vy, hvy*vy + 0.5*g*h**2)),dims=(3,2))"
   ]
  },
  {
   "cell_type": "code",
   "execution_count": 6,
   "id": "98ae4372-a98b-420a-b0f6-345578dafd79",
   "metadata": {},
   "outputs": [],
   "source": [
    "n = specialcf.normal(mesh.dim)\n",
    "def Max(u,v):\n",
    "    return IfPos(u-v,u,v)\n",
    "def Fmax(A,B): # max. characteristic speed:\n",
    "    ha, hua, hva = A\n",
    "    hb, hub, hvb = B\n",
    "    vnorma = sqrt(hua**2+hva**2)/ha\n",
    "    vnormb = sqrt(hub**2+hvb**2)/hb\n",
    "    return Max(vnorma+sqrt(g*A[0]),vnormb+sqrt(g*B[0]))\n",
    "\n",
    "def Fhatn(U): # numerical flux\n",
    "    Uhat = U.Other(bnd=Ubnd)\n",
    "    return (0.5*F(U)+0.5*F(Uhat))*n + Fmax(U,Uhat)/2*(U-Uhat)"
   ]
  },
  {
   "cell_type": "code",
   "execution_count": 7,
   "id": "3a9c4246-3430-4005-91f0-1b9aaaa5e336",
   "metadata": {},
   "outputs": [],
   "source": [
    "def DGBilinearForm(fes,F,Fhatn,Ubnd):\n",
    "    a = BilinearForm(fes, nonassemble=True)\n",
    "    a += - InnerProduct(F(U),Grad(V)) * dx\n",
    "    a += InnerProduct(Fhatn(U),V) * dx(element_boundary=True)\n",
    "    return a\n",
    "\n",
    "a = DGBilinearForm(fes,F,Fhatn,Ubnd)"
   ]
  },
  {
   "cell_type": "code",
   "execution_count": 13,
   "id": "4cd59e5d-2ae8-44bc-9dec-9fa9bd515a76",
   "metadata": {},
   "outputs": [],
   "source": [
    "from DGdiffusion import AddArtificialDiffusion\n",
    "\n",
    "artvisc = Parameter(1.0)\n",
    "if order > 0:\n",
    "    AddArtificialDiffusion(a,Ubnd,artvisc,compile=True)"
   ]
  },
  {
   "cell_type": "code",
   "execution_count": 14,
   "id": "54374966-b022-42bc-8a8c-a062efbdfd6a",
   "metadata": {},
   "outputs": [
    {
     "data": {
      "application/vnd.jupyter.widget-view+json": {
       "model_id": "8682080cfba84041ac26e3c448fde23e",
       "version_major": 2,
       "version_minor": 0
      },
      "text/plain": [
       "WebGuiWidget(layout=Layout(height='50vh', width='100%'), value={'gui_settings': {}, 'ngsolve_version': '6.2.25…"
      ]
     },
     "metadata": {},
     "output_type": "display_data"
    },
    {
     "data": {
      "application/vnd.jupyter.widget-view+json": {
       "model_id": "57b1b75dc6104a85b90c8ba13884d81f",
       "version_major": 2,
       "version_minor": 0
      },
      "text/plain": [
       "WebGuiWidget(layout=Layout(height='50vh', width='100%'), value={'gui_settings': {}, 'ngsolve_version': '6.2.25…"
      ]
     },
     "metadata": {},
     "output_type": "display_data"
    },
    {
     "data": {
      "application/vnd.jupyter.widget-view+json": {
       "model_id": "e2ee16d62a48427f9eaea657302ab388",
       "version_major": 2,
       "version_minor": 0
      },
      "text/plain": [
       "WebGuiWidget(layout=Layout(height='50vh', width='100%'), value={'gui_settings': {}, 'ngsolve_version': '6.2.25…"
      ]
     },
     "metadata": {},
     "output_type": "display_data"
    }
   ],
   "source": [
    "gfu = GridFunction(fes)\n",
    "gfh, gfhu, gfhv = gfu\n",
    "gfvu = gfhu/gfh\n",
    "gfvv = gfhv/gfh\n",
    "momentum = CF((gfhu,gfhv))\n",
    "velocity = CF((gfvu,gfvv))\n",
    "gfu.Set(U0)\n",
    "scenes = [ \\\n",
    "    Draw(momentum,mesh,\"mom\"),\n",
    "    Draw(velocity,mesh,\"vel\"),\n",
    "    Draw(gfh,mesh,\"h\") ]"
   ]
  },
  {
   "cell_type": "code",
   "execution_count": 15,
   "id": "d4da32df-7197-47f0-9cf7-1c092084cb71",
   "metadata": {},
   "outputs": [],
   "source": [
    "def TimeLoop(a,gfu,dt,T,nsamplings=100,scenes=scenes,multidim_draw=False,md_nsamplings=20):\n",
    "    if multidim_draw:\n",
    "        gfu_t = GridFunction(gfu.space,multidim=True)\n",
    "    #gfu.Set(U0)\n",
    "    res = gfu.vec.CreateVector()\n",
    "    fes = a.space\n",
    "    t = 0; i = 0\n",
    "    nsteps = int(ceil(T/dt))\n",
    "    invma = fes.Mass(1).Inverse() @ a.mat\n",
    "    if multidim_draw:\n",
    "        gfu_t.AddMultiDimComponent(gfu.vec)\n",
    "    with TaskManager():\n",
    "        while t <= T - 0.5*dt:\n",
    "            res = invma * gfu.vec\n",
    "            gfu.vec.data -= dt * res\n",
    "            t += dt\n",
    "            if (i+1) % int(nsteps/nsamplings) == 0:\n",
    "                for s in scenes: s.Redraw()\n",
    "            if multidim_draw and (i+1) % int(nsteps/md_nsamplings) == 0:\n",
    "                gfu_t.AddMultiDimComponent(gfu.vec)\n",
    "            i+=1\n",
    "            print(\"\\rt = {:.10}\".format(t),end=\"\")\n",
    "    for s in scenes: s.Redraw()\n",
    "    if multidim_draw:\n",
    "        return gfu_t"
   ]
  },
  {
   "cell_type": "code",
   "execution_count": 16,
   "id": "99b16a01-61f3-4b14-a6ef-7d0aed09fef0",
   "metadata": {},
   "outputs": [
    {
     "name": "stdout",
     "output_type": "stream",
     "text": [
      "t = 15.0975"
     ]
    }
   ],
   "source": [
    "gfu.Set(U0)\n",
    "with TaskManager():\n",
    "    gfu_t = TimeLoop(a,gfu,dt=0.0025,T=15,multidim_draw=True,md_nsamplings=5)"
   ]
  },
  {
   "cell_type": "code",
   "execution_count": 17,
   "id": "e2796c66-3c5e-4919-8eae-64ecc8106dd8",
   "metadata": {},
   "outputs": [
    {
     "data": {
      "application/vnd.jupyter.widget-view+json": {
       "model_id": "a280229a38494d6aa25215f53d10f6f4",
       "version_major": 2,
       "version_minor": 0
      },
      "text/plain": [
       "WebGuiWidget(layout=Layout(height='50vh', width='100%'), value={'gui_settings': {'camera': {'transformations':…"
      ]
     },
     "metadata": {},
     "output_type": "display_data"
    },
    {
     "data": {
      "text/plain": [
       "BaseWebGuiScene"
      ]
     },
     "execution_count": 17,
     "metadata": {},
     "output_type": "execute_result"
    }
   ],
   "source": [
    "Draw(gfu_t.components[0],mesh,\"h\",interpolate_multidim=True,animate=True,\n",
    "     deformation=True, settings = {\"camera\" :\n",
    "                                   {\"transformations\" :\n",
    "                                    [{ \"type\": \"rotateX\", \"angle\": -20},\n",
    "                                     { \"type\": \"rotateZ\", \"angle\": 0}]}},\n",
    "     min=2, max=5, autoscale=False)"
   ]
  }
 ],
 "metadata": {
  "kernelspec": {
   "display_name": "Python 3 (ipykernel)",
   "language": "python",
   "name": "python3"
  },
  "language_info": {
   "codemirror_mode": {
    "name": "ipython",
    "version": 3
   },
   "file_extension": ".py",
   "mimetype": "text/x-python",
   "name": "python",
   "nbconvert_exporter": "python",
   "pygments_lexer": "ipython3",
   "version": "3.13.3"
  }
 },
 "nbformat": 4,
 "nbformat_minor": 5
}
