{
 "cells": [
  {
   "cell_type": "code",
   "execution_count": 1,
   "id": "09b170e9-a352-4243-ba62-048526d521f3",
   "metadata": {},
   "outputs": [],
   "source": [
    "from ngsolve import *\n",
    "from ngsolve.webgui import Draw\n",
    "mesh = Mesh(unit_square.GenerateMesh(maxh=0.05))"
   ]
  },
  {
   "cell_type": "code",
   "execution_count": 2,
   "id": "18bd7413-7994-42cc-9e5c-ccd9310b2613",
   "metadata": {},
   "outputs": [],
   "source": [
    "fes = H1(mesh, order=4, dirichlet=\"left|bottom\")\n",
    "u,v = fes.TnT()\n",
    "gfu = GridFunction(fes)\n",
    "\n",
    "wind = CF( (1, 0.2) )\n",
    "gfu.Set (exp(-100*( (x-0.2)**2 + (y-0.5)**2) ))"
   ]
  },
  {
   "cell_type": "code",
   "execution_count": 3,
   "id": "8febed38-3713-4169-8d47-84a5569dddd7",
   "metadata": {},
   "outputs": [],
   "source": [
    "n = specialcf.normal(2)\n",
    "Atrans = BilinearForm(-u*wind*grad(v)*dx + wind*n*u*v*ds).Assemble()\n",
    "f = LinearForm(fes)\n",
    "mass = BilinearForm(u*v*dx).Assemble()\n",
    "massinv = mass.mat.Inverse(freedofs=fes.FreeDofs(), inverse=\"sparsecholesky\")"
   ]
  },
  {
   "cell_type": "code",
   "execution_count": 4,
   "id": "c09a491b-4fa1-425d-b701-0973a9f88463",
   "metadata": {},
   "outputs": [
    {
     "data": {
      "application/vnd.jupyter.widget-view+json": {
       "model_id": "d21d3c25b5084ad1acfe4a471bbc5ff8",
       "version_major": 2,
       "version_minor": 0
      },
      "text/plain": [
       "WebGuiWidget(layout=Layout(height='50vh', width='100%'), value={'gui_settings': {}, 'ngsolve_version': '6.2.25…"
      ]
     },
     "metadata": {},
     "output_type": "display_data"
    }
   ],
   "source": [
    "scene = Draw(gfu, min=0, max=1)"
   ]
  },
  {
   "cell_type": "code",
   "execution_count": 5,
   "id": "ff20065e-0b10-4439-8250-3c5325b6c6ce",
   "metadata": {},
   "outputs": [],
   "source": [
    "dt = 0.0002\n",
    "tend = 0.8\n",
    "t = 0\n",
    "while t < tend:\n",
    "    gfu.vec.data += dt * massinv * (f.vec-Atrans.mat*gfu.vec)\n",
    "    t += dt\n",
    "    scene.Redraw()\n",
    "    "
   ]
  },
  {
   "cell_type": "markdown",
   "id": "cb65f74c-089c-4f9c-81d0-4f7fc5b08124",
   "metadata": {},
   "source": [
    "## Diffferent wind"
   ]
  },
  {
   "cell_type": "code",
   "execution_count": 6,
   "id": "d35eadc3-5358-423b-887e-152a16c73d36",
   "metadata": {},
   "outputs": [],
   "source": [
    "mesh = Mesh(unit_square.GenerateMesh(maxh=0.05))\n",
    "wind = CF( (1, 0.1 * sin(30 * x)) )\n",
    "gfu.Set (exp(-100*( (x-0.2)**2 + (y-0.5)**2) ))"
   ]
  },
  {
   "cell_type": "code",
   "execution_count": 7,
   "id": "f8fa7b10-85e9-4e21-97e2-0e8ec02ae752",
   "metadata": {},
   "outputs": [],
   "source": [
    "n = specialcf.normal(2)\n",
    "Atrans = BilinearForm(-u*wind*grad(v)*dx + wind*n*u*v*ds).Assemble()\n",
    "f = LinearForm(fes)\n",
    "mass = BilinearForm(u*v*dx).Assemble()\n",
    "massinv = mass.mat.Inverse(freedofs=fes.FreeDofs(), inverse=\"sparsecholesky\")"
   ]
  },
  {
   "cell_type": "code",
   "execution_count": 8,
   "id": "a60667a2-74d6-45b5-b717-4a296705a4b2",
   "metadata": {},
   "outputs": [
    {
     "data": {
      "application/vnd.jupyter.widget-view+json": {
       "model_id": "6654f4c7dd9045608f7407d13aed2c11",
       "version_major": 2,
       "version_minor": 0
      },
      "text/plain": [
       "WebGuiWidget(layout=Layout(height='50vh', width='100%'), value={'gui_settings': {}, 'ngsolve_version': '6.2.25…"
      ]
     },
     "metadata": {},
     "output_type": "display_data"
    }
   ],
   "source": [
    "scene = Draw(gfu, min=0, max=1)"
   ]
  },
  {
   "cell_type": "code",
   "execution_count": 9,
   "id": "625f6a3f-faae-435b-a701-bd82f7759763",
   "metadata": {},
   "outputs": [],
   "source": [
    "dt = 0.0002\n",
    "tend = 0.8\n",
    "t = 0\n",
    "while t < tend:\n",
    "    gfu.vec.data += dt * massinv * (f.vec-Atrans.mat*gfu.vec)\n",
    "    t += dt\n",
    "    scene.Redraw()"
   ]
  },
  {
   "cell_type": "markdown",
   "id": "20a09ff2-ce52-4acb-a9ea-70e3d7225283",
   "metadata": {},
   "source": [
    "### result:\n",
    "    now movement is not horizontal desplacement it has a really tiny osilation because of the sin"
   ]
  },
  {
   "cell_type": "markdown",
   "id": "1f4054a8-aa68-42b1-9c15-b017d4744a5f",
   "metadata": {},
   "source": [
    "### Make it not sin"
   ]
  },
  {
   "cell_type": "code",
   "execution_count": 49,
   "id": "fb44dac0-2017-444f-8d9b-bb044c4101ab",
   "metadata": {},
   "outputs": [],
   "source": [
    "mesh = Mesh(unit_square.GenerateMesh(maxh=0.05))\n",
    "wind = CF( (-(y-0.5), x-0.5) )\n",
    "gfu.Set (exp(-100*( (x-0.2)**2 + (y-0.5)**2) ))"
   ]
  },
  {
   "cell_type": "code",
   "execution_count": 50,
   "id": "5c0fead1-288d-4d63-8281-3165378c0641",
   "metadata": {},
   "outputs": [],
   "source": [
    "n = specialcf.normal(2)\n",
    "Atrans = BilinearForm(-u*wind*grad(v)*dx + wind*n*u*v*ds).Assemble()\n",
    "f = LinearForm(fes)\n",
    "mass = BilinearForm(u*v*dx).Assemble()\n",
    "massinv = mass.mat.Inverse(freedofs=fes.FreeDofs(), inverse=\"sparsecholesky\")"
   ]
  },
  {
   "cell_type": "code",
   "execution_count": 51,
   "id": "2de4e913-f7c1-49d8-b15b-b701ed4617a6",
   "metadata": {},
   "outputs": [
    {
     "data": {
      "application/vnd.jupyter.widget-view+json": {
       "model_id": "97f634bf356841cb88d2038136992b65",
       "version_major": 2,
       "version_minor": 0
      },
      "text/plain": [
       "WebGuiWidget(layout=Layout(height='50vh', width='100%'), value={'gui_settings': {}, 'ngsolve_version': '6.2.25…"
      ]
     },
     "metadata": {},
     "output_type": "display_data"
    }
   ],
   "source": [
    "scene = Draw(gfu, min=0, max=1)"
   ]
  },
  {
   "cell_type": "code",
   "execution_count": 53,
   "id": "88b05e1e-7ab2-4e79-92de-a402f40dcc7e",
   "metadata": {},
   "outputs": [],
   "source": [
    "dt = 0.0002\n",
    "tend = 0.8\n",
    "t = 0\n",
    "while t < tend:\n",
    "    gfu.vec.data += dt * massinv * (f.vec-Atrans.mat*gfu.vec)\n",
    "    t += dt\n",
    "    scene.Redraw()"
   ]
  },
  {
   "cell_type": "markdown",
   "id": "100477a7-9063-4eb5-92e2-fe26ef535d42",
   "metadata": {},
   "source": [
    "## improve timestepping to order Runge Kutta"
   ]
  },
  {
   "cell_type": "code",
   "execution_count": 56,
   "id": "e3a008c7-5c86-4ba7-b429-5b83ceb51626",
   "metadata": {},
   "outputs": [
    {
     "data": {
      "application/vnd.jupyter.widget-view+json": {
       "model_id": "17152e584a59479ea6b4e6da3c1f966c",
       "version_major": 2,
       "version_minor": 0
      },
      "text/plain": [
       "WebGuiWidget(layout=Layout(height='50vh', width='100%'), value={'gui_settings': {}, 'ngsolve_version': '6.2.25…"
      ]
     },
     "metadata": {},
     "output_type": "display_data"
    }
   ],
   "source": [
    "mesh = Mesh(unit_square.GenerateMesh(maxh=0.05))\n",
    "wind = CF( (1, 1.0 * sin(30 * x)) )\n",
    "gfu.Set (exp(-100*( (x-0.2)**2 + (y-0.5)**2) ))\n",
    "n = specialcf.normal(2)\n",
    "Atrans = BilinearForm(-u*wind*grad(v)*dx + wind*n*u*v*ds).Assemble()\n",
    "f = LinearForm(fes)\n",
    "mass = BilinearForm(u*v*dx).Assemble()\n",
    "massinv = mass.mat.Inverse(freedofs=fes.FreeDofs(), inverse=\"sparsecholesky\")\n",
    "scene = Draw(gfu, min=0, max=1)"
   ]
  },
  {
   "cell_type": "code",
   "execution_count": 57,
   "id": "65e78bb8-c6ee-49f6-85b9-c0e32c60c3fb",
   "metadata": {},
   "outputs": [],
   "source": [
    "dt = 0.0002\n",
    "tend = 0.8\n",
    "t = 0\n",
    "k1 = gfu.vec.CreateVector()\n",
    "k2 = gfu.vec.CreateVector()\n",
    "u_pred = gfu.vec.CreateVector()\n",
    "while t < tend:\n",
    "    k1.data = massinv * (f.vec - Atrans.mat * gfu.vec)\n",
    "    u_pred.data = gfu.vec + dt * k1\n",
    "    k2.data = massinv * (f.vec - Atrans.mat * u_pred)\n",
    "    gfu.vec.data += (dt/2) * (k1 + k2)\n",
    "    t += dt\n",
    "    scene.Redraw()"
   ]
  },
  {
   "cell_type": "markdown",
   "id": "afee255d-f7e5-4f7c-aa55-76c55b8f17d7",
   "metadata": {},
   "source": [
    "## Add a diffusion term to the transport equation:"
   ]
  },
  {
   "cell_type": "code",
   "execution_count": 15,
   "id": "11b4915c-83eb-4505-9a20-0afebd628f75",
   "metadata": {},
   "outputs": [],
   "source": [
    "mesh = Mesh(unit_square.GenerateMesh(maxh=0.05))\n",
    "fes = H1(mesh, order=4, dirichlet=\"left|bottom\")\n",
    "u,v = fes.TnT()\n",
    "gfu = GridFunction(fes)\n",
    "\n",
    "wind = CF( (1, 0.2) )\n",
    "gfu.Set (exp(-100*( (x-0.2)**2 + (y-0.5)**2) ))"
   ]
  },
  {
   "cell_type": "code",
   "execution_count": 16,
   "id": "77050371-5988-423b-bd35-7d73df0a3b9d",
   "metadata": {},
   "outputs": [
    {
     "data": {
      "application/vnd.jupyter.widget-view+json": {
       "model_id": "eb9d6c17809c4273af6edbacfdb5779f",
       "version_major": 2,
       "version_minor": 0
      },
      "text/plain": [
       "WebGuiWidget(layout=Layout(height='50vh', width='100%'), value={'gui_settings': {}, 'ngsolve_version': '6.2.25…"
      ]
     },
     "metadata": {},
     "output_type": "display_data"
    }
   ],
   "source": [
    "eps = 0.001\n",
    "n = specialcf.normal(2)\n",
    "Atrans = BilinearForm(-u*wind*grad(v)*dx + wind*n*u*v*ds).Assemble()\n",
    "f = LinearForm(fes)\n",
    "mass = BilinearForm(u*v*dx).Assemble()\n",
    "massinv = mass.mat.Inverse(freedofs=fes.FreeDofs(), inverse=\"sparsecholesky\")\n",
    "\n",
    "# 1. Convection Term: \n",
    "conv = BilinearForm(fes)\n",
    "conv += -wind * u * grad(v) * dx\n",
    "# outflow boundary\n",
    "conv += wind * n * u * v * ds(definedon=mesh.Boundaries(\"right|top\"))\n",
    "# 2. Diffusion Term\n",
    "laplace = BilinearForm(fes)\n",
    "laplace += eps * grad(u) * grad(v) * dx\n",
    "mass = BilinearForm(u*v*dx)\n",
    "f_source = LinearForm(fes)\n",
    "f_source.Assemble()\n",
    "\n",
    "conv.Assemble()\n",
    "laplace.Assemble()\n",
    "mass.Assemble()\n",
    "massinv = mass.mat.Inverse(freedofs=fes.FreeDofs(), inverse=\"sparsecholesky\")\n",
    "\n",
    "# Combine convection and diffusion matrices\n",
    "A_eff = laplace.mat + conv.mat \n",
    "scene = Draw(gfu, min=0, max=1)"
   ]
  },
  {
   "cell_type": "code",
   "execution_count": 17,
   "id": "efcafd34-38c9-4e7f-ac0b-d4cc54ccafe4",
   "metadata": {
    "scrolled": true
   },
   "outputs": [],
   "source": [
    "dt = 0.0002\n",
    "tend = 0.8\n",
    "t = 0\n",
    "last_update_t = t\n",
    "while t < tend:\n",
    "    rhs_vec = f_source.vec - A_eff * gfu.vec\n",
    "    gfu.vec.data += dt * massinv * rhs_vec\n",
    "    t_old = t\n",
    "    t += dt\n",
    "    scene.Redraw()"
   ]
  },
  {
   "cell_type": "markdown",
   "id": "eda6e13b-642a-4d3f-a60f-97c48a1e5143",
   "metadata": {},
   "source": [
    "### result:\n",
    "\n",
    "looks kinda as expected not only it moves horizontaly due to convection but we add a diffusion term so it almost doesn't reach to the corner without disapearing"
   ]
  },
  {
   "cell_type": "markdown",
   "id": "9d2d57e9-98a8-4967-a3f9-c9375fb0662d",
   "metadata": {},
   "source": [
    "## add a source term "
   ]
  },
  {
   "cell_type": "code",
   "execution_count": 22,
   "id": "f517e259-5a80-471f-aa61-b636e24adfe8",
   "metadata": {},
   "outputs": [],
   "source": [
    "mesh = Mesh(unit_square.GenerateMesh(maxh=0.05))\n",
    "fes = H1(mesh, order=4, dirichlet=\"left|bottom\")\n",
    "u,v = fes.TnT()\n",
    "gfu = GridFunction(fes)\n",
    "\n",
    "wind = CF( (1, 0.2) )\n",
    "gfu.Set (exp(-100*( (x-0.2)**2 + (y-0.5)**2) ))"
   ]
  },
  {
   "cell_type": "code",
   "execution_count": 23,
   "id": "f16cbd81-bd35-4aef-82e1-411ff4c59309",
   "metadata": {},
   "outputs": [
    {
     "data": {
      "application/vnd.jupyter.widget-view+json": {
       "model_id": "0d962acbc849457783f15c4da4e778bb",
       "version_major": 2,
       "version_minor": 0
      },
      "text/plain": [
       "WebGuiWidget(layout=Layout(height='50vh', width='100%'), value={'gui_settings': {}, 'ngsolve_version': '6.2.25…"
      ]
     },
     "metadata": {},
     "output_type": "display_data"
    }
   ],
   "source": [
    "eps = 0.001\n",
    "n = specialcf.normal(2)\n",
    "Atrans = BilinearForm(-u*wind*grad(v)*dx + wind*n*u*v*ds).Assemble()\n",
    "f = LinearForm(fes)\n",
    "mass = BilinearForm(u*v*dx).Assemble()\n",
    "massinv = mass.mat.Inverse(freedofs=fes.FreeDofs(), inverse=\"sparsecholesky\")\n",
    "\n",
    "# 1. Convection Term: \n",
    "conv = BilinearForm(fes)\n",
    "conv += -wind * u * grad(v) * dx\n",
    "# outflow boundary\n",
    "conv += wind * n * u * v * ds(definedon=mesh.Boundaries(\"right|top\"))\n",
    "# 2. Diffusion Term\n",
    "laplace = BilinearForm(fes)\n",
    "laplace += eps * grad(u) * grad(v) * dx\n",
    "mass = BilinearForm(u*v*dx)\n",
    "f_source = LinearForm(fes) \n",
    "source_cf = sin(pi*x) * sin(pi*y)\n",
    "f_source += source_cf * v * dx\n",
    "f_source.Assemble()\n",
    "\n",
    "conv.Assemble()\n",
    "laplace.Assemble()\n",
    "mass.Assemble()\n",
    "massinv = mass.mat.Inverse(freedofs=fes.FreeDofs(), inverse=\"sparsecholesky\")\n",
    "\n",
    "# Combine convection and diffusion matrices\n",
    "A_eff = laplace.mat + conv.mat \n",
    "scene = Draw(gfu, min=0, max=1)"
   ]
  },
  {
   "cell_type": "code",
   "execution_count": 24,
   "id": "790c5d9e-70c6-4665-9640-120f3f8a7675",
   "metadata": {},
   "outputs": [],
   "source": [
    "dt = 0.0002\n",
    "tend = 0.8\n",
    "t = 0\n",
    "last_update_t = t\n",
    "while t < tend:\n",
    "    rhs_vec = f_source.vec - A_eff * gfu.vec\n",
    "    gfu.vec.data += dt * massinv * rhs_vec\n",
    "    t_old = t\n",
    "    t += dt\n",
    "    scene.Redraw()"
   ]
  }
 ],
 "metadata": {
  "kernelspec": {
   "display_name": "Python 3 (ipykernel)",
   "language": "python",
   "name": "python3"
  },
  "language_info": {
   "codemirror_mode": {
    "name": "ipython",
    "version": 3
   },
   "file_extension": ".py",
   "mimetype": "text/x-python",
   "name": "python",
   "nbconvert_exporter": "python",
   "pygments_lexer": "ipython3",
   "version": "3.13.2"
  }
 },
 "nbformat": 4,
 "nbformat_minor": 5
}
