{
 "cells": [
  {
   "cell_type": "markdown",
   "metadata": {
    "collapsed": true,
    "jupyter": {
     "outputs_hidden": true
    }
   },
   "source": [
    "Stokes Equation\n",
    "===\n",
    "\n",
    "The Stokes equation is the basic model for incompressible fluids. While several terms of the advanced Navier-Stokes equations are skipped, the Stokes equation allows to study the difficulty of incompressibility constraints.\n",
    "\n",
    "The unknown fields are \n",
    "\n",
    "\\begin{eqnarray*}\n",
    "\\text{velocity} & & u : \\Omega \\rightarrow {\\mathbb R}^d \\\\\n",
    "\\text{pressure} & & p : \\Omega \\rightarrow {\\mathbb R}\n",
    "\\end{eqnarray*}\n",
    "\n",
    "The Stokes equation is a system of equations\n",
    "\n",
    "$$\n",
    "\\begin{array}{ccccl}\n",
    "-\\Delta u & + & \\nabla p & = & f \\\\\n",
    "\\operatorname{div} u & & & = & 0\n",
    "\\end{array}\n",
    "$$\n",
    "\n",
    "with a given force density $f : \\Omega \\rightarrow {\\mathbb R}^2$. The first equation models balance of momentum, the second one is the incompressibility constraint.\n",
    "In the simplest case, we set boundary conditions $u = 0$ on $\\partial \\Omega$\n",
    "\n",
    "\n"
   ]
  },
  {
   "cell_type": "markdown",
   "metadata": {},
   "source": [
    "Variational Formulation\n",
    "----\n",
    "\n",
    "The weak form is: Find $u \\in V := [H_0^1(\\Omega)]^d$ and $p \\in Q:=  L_2^0(\\Omega)$ such that\n",
    "\n",
    "$$\n",
    "\\begin{array}{ccccll}\n",
    "\\int \\nabla u \\nabla v & + & \\int \\operatorname{div} v \\, p & = & \\int f v & \\forall \\, v \\in V \\\\\n",
    "\\int \\operatorname{div} u \\, q & & & = & 0 & \\forall \\, q \\in Q\n",
    "\\end{array}\n",
    "$$\n",
    "\n",
    "The pressure is defined up to a constant, and the divergence equation is  satisfied for constant test-functions, anyway. Thus, we need the space $L_2^0$, which are $L_2$-functions with zero mean value. For the beauty of the equation, we have substituted $p$ by $-p$."
   ]
  },
  {
   "cell_type": "markdown",
   "metadata": {
    "collapsed": true,
    "jupyter": {
     "outputs_hidden": true
    }
   },
   "source": [
    "Finite Element Spaces\n",
    "---\n",
    "We discretize the Stokes equation by different finite element spaces. For the velocity we use continuous, $H^1$-conforming elements. For the pressure, which is a field in $L_2$, discontinuous finite elements are natural. But, alternatively, one may also use continuous elements.\n",
    "\n",
    "We try different combinations of finite element spaces for $V$ and $Q$."
   ]
  },
  {
   "cell_type": "code",
   "execution_count": 1,
   "metadata": {},
   "outputs": [],
   "source": [
    "from ngsolve import *\n",
    "from ngsolve.webgui import Draw\n",
    "mesh = Mesh(unit_square.GenerateMesh(maxh=0.05))"
   ]
  },
  {
   "cell_type": "markdown",
   "metadata": {},
   "source": [
    "Use continuous elements of order $k=2$ for each velocity component, and piece-wise constants for pressure:"
   ]
  },
  {
   "cell_type": "code",
   "execution_count": 2,
   "metadata": {},
   "outputs": [],
   "source": [
    "V = VectorH1(mesh, order=2, dirichlet=\".*\")\n",
    "Q = L2(mesh, order=0)\n",
    "X = V * Q"
   ]
  },
  {
   "cell_type": "code",
   "execution_count": 3,
   "metadata": {},
   "outputs": [],
   "source": [
    "def SolveStokes(X):\n",
    "    u,p = X.TrialFunction()\n",
    "    v,q = X.TestFunction()\n",
    "    a = BilinearForm(X)\n",
    "    a += (InnerProduct(grad(u),grad(v))+div(u)*q+div(v)*p)*dx\n",
    "    a += -1e-10*p*q*dx\n",
    "    a.Assemble()\n",
    "    a.mat[X.components[0].ndof,X.components[0].ndof]+=-1  # fixing pressure in one point\n",
    "\n",
    "    f = LinearForm( (x-0.5)*v[1]*dx).Assemble()\n",
    "\n",
    "    gfu = GridFunction(X)\n",
    "    try:\n",
    "        gfu.vec.data = a.mat.Inverse(X.FreeDofs()) * f.vec\n",
    "    except:\n",
    "        print (\"matrix singular\")\n",
    "    return gfu"
   ]
  },
  {
   "cell_type": "code",
   "execution_count": 4,
   "metadata": {},
   "outputs": [
    {
     "data": {
      "application/vnd.jupyter.widget-view+json": {
       "model_id": "491398dc069d4c3182d4c38194b93840",
       "version_major": 2,
       "version_minor": 0
      },
      "text/plain": [
       "WebGuiWidget(layout=Layout(height='50vh', width='100%'), value={'gui_settings': {}, 'ngsolve_version': '6.2.25…"
      ]
     },
     "metadata": {},
     "output_type": "display_data"
    },
    {
     "data": {
      "application/vnd.jupyter.widget-view+json": {
       "model_id": "fb9563ce0a694b4aab34b6a0252d5032",
       "version_major": 2,
       "version_minor": 0
      },
      "text/plain": [
       "WebGuiWidget(layout=Layout(height='50vh', width='100%'), value={'gui_settings': {}, 'ngsolve_version': '6.2.25…"
      ]
     },
     "metadata": {},
     "output_type": "display_data"
    }
   ],
   "source": [
    "gfu = SolveStokes(X)\n",
    "Draw (gfu.components[0], mesh, vectors={\"grid_size\" : 20 })\n",
    "Draw (gfu.components[1], mesh);"
   ]
  },
  {
   "cell_type": "markdown",
   "metadata": {},
   "source": [
    "Try a $P^2 \\times P^{1,dc}$ pairing:"
   ]
  },
  {
   "cell_type": "code",
   "execution_count": 5,
   "metadata": {},
   "outputs": [
    {
     "data": {
      "application/vnd.jupyter.widget-view+json": {
       "model_id": "b9416d238f784a749d3ddcc40b4ada83",
       "version_major": 2,
       "version_minor": 0
      },
      "text/plain": [
       "WebGuiWidget(layout=Layout(height='50vh', width='100%'), value={'gui_settings': {}, 'ngsolve_version': '6.2.25…"
      ]
     },
     "metadata": {},
     "output_type": "display_data"
    },
    {
     "data": {
      "application/vnd.jupyter.widget-view+json": {
       "model_id": "3ce9737795b14c98bac16bd3cbbb6110",
       "version_major": 2,
       "version_minor": 0
      },
      "text/plain": [
       "WebGuiWidget(layout=Layout(height='50vh', width='100%'), value={'gui_settings': {}, 'ngsolve_version': '6.2.25…"
      ]
     },
     "metadata": {},
     "output_type": "display_data"
    }
   ],
   "source": [
    "V = VectorH1(mesh, order=2, dirichlet=\".*\")\n",
    "Q = L2(mesh, order=1)\n",
    "X = V*Q\n",
    "gfu = SolveStokes(X)\n",
    "Draw (gfu.components[0], mesh, vectors={\"grid_size\" : 20 })\n",
    "Draw (gfu.components[1], mesh);"
   ]
  },
  {
   "cell_type": "markdown",
   "metadata": {},
   "source": [
    "$P^{2+} \\times P^{1,dc}$, i.e. adding cubic bubbles:"
   ]
  },
  {
   "cell_type": "code",
   "execution_count": 6,
   "metadata": {},
   "outputs": [
    {
     "data": {
      "application/vnd.jupyter.widget-view+json": {
       "model_id": "e97a1fb3a4444c98b64a61bc75c8b81a",
       "version_major": 2,
       "version_minor": 0
      },
      "text/plain": [
       "WebGuiWidget(layout=Layout(height='50vh', width='100%'), value={'gui_settings': {}, 'ngsolve_version': '6.2.25…"
      ]
     },
     "metadata": {},
     "output_type": "display_data"
    },
    {
     "data": {
      "application/vnd.jupyter.widget-view+json": {
       "model_id": "8c7cf6a807c14ac3b91abf37e8451d10",
       "version_major": 2,
       "version_minor": 0
      },
      "text/plain": [
       "WebGuiWidget(layout=Layout(height='50vh', width='100%'), value={'gui_settings': {}, 'ngsolve_version': '6.2.25…"
      ]
     },
     "metadata": {},
     "output_type": "display_data"
    }
   ],
   "source": [
    "V = VectorH1(mesh, order=2, dirichlet=\".*\")\n",
    "V.SetOrder(TRIG,3)\n",
    "V.Update()\n",
    "Q = L2(mesh, order=1)\n",
    "X = V*Q\n",
    "\n",
    "gfu = SolveStokes(X)\n",
    "Draw (gfu.components[0], mesh, vectors={\"grid_size\" : 20 })\n",
    "Draw (gfu.components[1], mesh);"
   ]
  },
  {
   "cell_type": "markdown",
   "metadata": {},
   "source": [
    "The Taylor Hood element $P^2 \\times P^1$ with continuous pressure:"
   ]
  },
  {
   "cell_type": "code",
   "execution_count": 7,
   "metadata": {},
   "outputs": [
    {
     "data": {
      "application/vnd.jupyter.widget-view+json": {
       "model_id": "8fb3bb096732482e82a3aa8407a53878",
       "version_major": 2,
       "version_minor": 0
      },
      "text/plain": [
       "WebGuiWidget(layout=Layout(height='50vh', width='100%'), value={'gui_settings': {}, 'ngsolve_version': '6.2.25…"
      ]
     },
     "metadata": {},
     "output_type": "display_data"
    },
    {
     "data": {
      "application/vnd.jupyter.widget-view+json": {
       "model_id": "9b57d9b1de1740b4a076a75164892555",
       "version_major": 2,
       "version_minor": 0
      },
      "text/plain": [
       "WebGuiWidget(layout=Layout(height='50vh', width='100%'), value={'gui_settings': {}, 'ngsolve_version': '6.2.25…"
      ]
     },
     "metadata": {},
     "output_type": "display_data"
    }
   ],
   "source": [
    "V = VectorH1(mesh, order=2, dirichlet=\".*\")\n",
    "Q = H1(mesh, order=1)\n",
    "X = V*Q\n",
    "\n",
    "gfu = SolveStokes(X)\n",
    "Draw (gfu.components[0], mesh, vectors={\"grid_size\" : 20 })\n",
    "Draw (gfu.components[1], mesh);"
   ]
  },
  {
   "cell_type": "markdown",
   "metadata": {},
   "source": [
    "We see that the pressure space must not be too rich, otherwise we obtain a singular system (or a bad solutions, in particular for the pressure). "
   ]
  },
  {
   "cell_type": "markdown",
   "metadata": {
    "jp-MarkdownHeadingCollapsed": true
   },
   "source": [
    "## Stokes as an optimization problem\n",
    "\n",
    "We consider the constrained minimization problem:\n",
    "\n",
    "$$\n",
    "\\min_{u \\in [H_0^1]^2 \\atop \\operatorname{div} u = 0} \\tfrac{1}{2} \\| \\nabla u \\|^2_{L_2} - (f,u)_{L_2}\n",
    "$$\n",
    "\n",
    "We use the method by Lagrange and define the Lagrange function\n",
    "\n",
    "$$\n",
    "L(u,p) = \\tfrac{1}{2} \\| \\nabla u \\|^2_{L_2} - (f,u)_{L_2} + (\\operatorname{div} u, p)_{L_2}\n",
    "$$\n",
    "\n",
    "Taking the variation w.r.t. the $u$-variable:\n",
    "\n",
    "$$\n",
    "\\partial_v L(u,p) = (\\nabla u, \\nabla v)_{L_2} - (f,v)_{L_2} + (\\operatorname{div} v, p)\n",
    "$$\n",
    "\n",
    "and the variation with respect to $p$:\n",
    "\n",
    "$$\n",
    "\\partial_q L(u,p) = (\\operatorname{div} u, q)\n",
    "$$\n",
    "\n",
    "Setting all derivatives to zero leads to the variational formulation of the Stokes equations.\n",
    "\n",
    "### Solvability theory\n",
    "\n",
    "The existence (and uniqueness) of the $u$-component is easy to prove: The sub-space $\\{ u \\in [H_0^1]^d : \\operatorname{div} u = 0 \\}$ is a Hilbert-space again, and thus Lax-Milgram provides the existence of the unique minimizer.\n",
    "\n",
    "The existence of the Lagrange parameter is non-trivial. It requires to show that the divergence operator is surjective\n",
    "\n",
    "$$\n",
    "\\operatorname{div} : [H_0^1]^d \\rightarrow L_2^0 ,\n",
    "$$\n",
    "\n",
    "i.e. \n",
    "\n",
    "$$\n",
    "\\forall \\, g \\in L_2^0 \\; \\exists u \\in [H_0^1]^d :  \\operatorname{div} u = g \\qquad \\text{with} \\qquad \\| u \\|_{H^1} \\leq c \\, \\| g \\|_{L_2}\n",
    "$$\n",
    "\n",
    "In the context of variational formulations surjectivity is usually expressed by the $\\inf \\sup$ condition: There exists $\\beta > 0$ such that\n",
    "\n",
    "$$\n",
    "\\inf_{p \\in L_2^0} \\sup_{u \\in [H_0^1]^d} \\frac{ \\int \\operatorname{div} u \\, p \\, dx}{\\| u \\|_{H_0^1} \\| p \\|_{L_2} } \\geq \\beta\n",
    "$$\n",
    "\n",
    "A corresponding discrete $\\inf \\sup$-condition must be satisfied by the combination of finite element spaces:\n",
    "\n",
    "$$\n",
    "\\inf_{p_h \\in Q_h} \\sup_{u_h \\in V_h} \\frac{ \\int \\operatorname{div} u_h \\, p_h \\, dx}{\\| u_h \\|_{H_0^1} \\| p_h \\|_{L_2} } \\geq \\beta\n",
    "$$\n",
    "\n",
    "The linear system has the matrix structure\n",
    "\n",
    "$$\n",
    "\\left( \\begin{array}{cc} A & B^T \\\\ B \\end{array} \\right)\n",
    "\\left( \\begin{array}{c} u \\\\ p \\end{array} \\right) = \n",
    "\\left( \\begin{array}{c} f \\\\ 0 \\end{array} \\right) \n",
    "$$\n",
    "\n",
    "The discrete $\\inf \\sup$ condition guarantees that the $B$ matrix has full rank."
   ]
  },
  {
   "cell_type": "code",
   "execution_count": null,
   "metadata": {},
   "outputs": [],
   "source": []
  }
 ],
 "metadata": {
  "kernelspec": {
   "display_name": "Python 3 (ipykernel)",
   "language": "python",
   "name": "python3"
  },
  "language_info": {
   "codemirror_mode": {
    "name": "ipython",
    "version": 3
   },
   "file_extension": ".py",
   "mimetype": "text/x-python",
   "name": "python",
   "nbconvert_exporter": "python",
   "pygments_lexer": "ipython3",
   "version": "3.13.2"
  },
  "widgets": {
   "application/vnd.jupyter.widget-state+json": {
    "state": {},
    "version_major": 2,
    "version_minor": 0
   }
  }
 },
 "nbformat": 4,
 "nbformat_minor": 4
}
