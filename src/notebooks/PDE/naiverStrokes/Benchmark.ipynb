{
 "cells": [
  {
   "cell_type": "code",
   "execution_count": 1,
   "id": "44b6b938-fd44-4c53-a36d-a62c9ecd6caa",
   "metadata": {},
   "outputs": [],
   "source": [
    "# Benchmark: Flow around a cylinder"
   ]
  },
  {
   "cell_type": "code",
   "execution_count": 2,
   "id": "a9d3279f-646a-4725-814a-92d34fc155a1",
   "metadata": {},
   "outputs": [],
   "source": [
    "from ngsolve import *\n",
    "from ngsolve.webgui import Draw"
   ]
  },
  {
   "cell_type": "code",
   "execution_count": 3,
   "id": "bb464081-3030-4120-88a6-850fc6daaefb",
   "metadata": {},
   "outputs": [
    {
     "data": {
      "application/vnd.jupyter.widget-view+json": {
       "model_id": "8b79d7d219374e528d44c2b53666cbec",
       "version_major": 2,
       "version_minor": 0
      },
      "text/plain": [
       "WebGuiWidget(layout=Layout(height='50vh', width='100%'), value={'ngsolve_version': 'Netgen x.x', 'mesh_dim': 3…"
      ]
     },
     "metadata": {},
     "output_type": "display_data"
    }
   ],
   "source": [
    "from netgen.occ import *\n",
    "\n",
    "shape = Rectangle(2,0.41).Circle(0.2,0.2,0.05).Reverse().Face()\n",
    "shape.edges.name=\"wall\"\n",
    "shape.edges.Min(X).name=\"inlet\"\n",
    "shape.edges.Max(X).name=\"outlet\"\n",
    "Draw (shape);"
   ]
  },
  {
   "cell_type": "code",
   "execution_count": 4,
   "id": "cc69e8bb-308f-453e-9bd2-184fae4a3c97",
   "metadata": {},
   "outputs": [
    {
     "data": {
      "application/vnd.jupyter.widget-view+json": {
       "model_id": "6369df034f6542b889b0c33495cbd7bd",
       "version_major": 2,
       "version_minor": 0
      },
      "text/plain": [
       "WebGuiWidget(layout=Layout(height='50vh', width='100%'), value={'gui_settings': {}, 'ngsolve_version': '6.2.25…"
      ]
     },
     "metadata": {},
     "output_type": "display_data"
    }
   ],
   "source": [
    "mesh = Mesh(OCCGeometry(shape, dim=2).GenerateMesh(maxh=0.07)).Curve(3)\n",
    "Draw (mesh);"
   ]
  },
  {
   "cell_type": "code",
   "execution_count": 5,
   "id": "2a2afd03-3ea6-4711-86f6-289fa789d848",
   "metadata": {},
   "outputs": [],
   "source": [
    "V = VectorH1(mesh,order=3, dirichlet=\"wall|cyl|inlet\")\n",
    "Q = H1(mesh,order=2)\n",
    "X = V*Q\n",
    "\n",
    "u,p = X.TrialFunction()\n",
    "v,q = X.TestFunction()\n",
    "\n",
    "nu = 0.001  # viscosity\n",
    "stokes = (nu*InnerProduct(grad(u), grad(v))+ \\\n",
    "    div(u)*q+div(v)*p - 1e-10*p*q)*dx\n",
    "\n",
    "a = BilinearForm(stokes).Assemble()\n",
    "\n",
    "# nothing here ...\n",
    "f = LinearForm(X).Assemble()\n",
    "\n",
    "# gridfunction for the solution\n",
    "gfu = GridFunction(X)"
   ]
  },
  {
   "cell_type": "code",
   "execution_count": 6,
   "id": "63f9f872-886d-4dac-90f3-7304c066a73f",
   "metadata": {},
   "outputs": [
    {
     "data": {
      "application/vnd.jupyter.widget-view+json": {
       "model_id": "c38ed35329d54db584e305ecbf37e961",
       "version_major": 2,
       "version_minor": 0
      },
      "text/plain": [
       "WebGuiWidget(layout=Layout(height='50vh', width='100%'), value={'gui_settings': {}, 'ngsolve_version': '6.2.25…"
      ]
     },
     "metadata": {},
     "output_type": "display_data"
    }
   ],
   "source": [
    "umean = 0.3\n",
    "uin = CoefficientFunction( (umean*4*y*(0.41-y)/(0.41*0.41), 0) )\n",
    "gfu.components[0].Set(uin, definedon=mesh.Boundaries(\"inlet\"))\n",
    "\n",
    "inv_stokes = a.mat.Inverse(X.FreeDofs())\n",
    "\n",
    "res = f.vec - a.mat*gfu.vec\n",
    "gfu.vec.data += inv_stokes * res\n",
    "\n",
    "Draw (gfu.components[0], mesh);"
   ]
  },
  {
   "cell_type": "code",
   "execution_count": 7,
   "id": "bfedc679-bcde-4645-8a3e-303522d60469",
   "metadata": {},
   "outputs": [],
   "source": [
    "tau = 0.001 # timestep\n",
    "\n",
    "mstar = BilinearForm(u*v*dx+tau*stokes).Assemble()\n",
    "inv = mstar.mat.Inverse(X.FreeDofs(), inverse=\"sparsecholesky\")"
   ]
  },
  {
   "cell_type": "code",
   "execution_count": 8,
   "id": "8df26b4c-5c08-4704-90af-ddf34afcaa6e",
   "metadata": {},
   "outputs": [],
   "source": [
    "conv = BilinearForm(X, nonassemble=True)\n",
    "conv += (Grad(u) * u) * v * dx"
   ]
  },
  {
   "cell_type": "code",
   "execution_count": 9,
   "id": "b79e9785-2ab4-408b-a335-b69e30683117",
   "metadata": {},
   "outputs": [
    {
     "data": {
      "application/vnd.jupyter.widget-view+json": {
       "model_id": "77e0d0f53d654df491939f3a2741366c",
       "version_major": 2,
       "version_minor": 0
      },
      "text/plain": [
       "WebGuiWidget(layout=Layout(height='50vh', width='100%'), value={'gui_settings': {}, 'ngsolve_version': '6.2.25…"
      ]
     },
     "metadata": {},
     "output_type": "display_data"
    }
   ],
   "source": [
    "t = 0; i = 0\n",
    "tend = 5\n",
    "vel = gfu.components[0]\n",
    "scene = Draw (gfu.components[0], mesh, min=0, max=0.4, autoscale=False)\n",
    "\n",
    "with TaskManager():\n",
    "    while t < tend:\n",
    "        res = conv.Apply(gfu.vec) + a.mat*gfu.vec\n",
    "        gfu.vec.data -= tau * inv * res    \n",
    "\n",
    "        t = t + tau; i = i + 1\n",
    "        if i%10 == 0: \n",
    "            scene.Redraw()\n",
    "            # print(f\"t = {t}\", end='\\r')"
   ]
  },
  {
   "cell_type": "code",
   "execution_count": 10,
   "id": "afab3fb0-1930-44e4-ac7b-b41c1326c542",
   "metadata": {},
   "outputs": [],
   "source": [
    "### Test case 2D-2 (unsteady):"
   ]
  },
  {
   "cell_type": "code",
   "execution_count": null,
   "id": "c20002b2-5891-4605-a92a-80de4e1a7b4f",
   "metadata": {},
   "outputs": [],
   "source": [
    "V = VectorH1(mesh,order=3, dirichlet=\"wall|cyl|inlet\")\n",
    "Q = H1(mesh,order=2)\n",
    "X = V*Q\n",
    "\n",
    "u,p = X.TrialFunction()\n",
    "v,q = X.TestFunction()\n",
    "\n",
    "nu = 0.001 \n",
    "stokes = (nu*InnerProduct(grad(u), grad(v))+ \\\n",
    "    div(u)*q+div(v)*p - 1e-10*p*q)*dx\n",
    "\n",
    "a = BilinearForm(stokes).Assemble()\n",
    "f = LinearForm(X).Assemble()\n",
    "gfu = GridFunction(X)\n",
    "\n",
    "umean = 1.5 # New value for 2D-2 [cite: 47]\n",
    "uin = CoefficientFunction( (umean*4*y*(0.41-y)/(0.41*0.41), 0) )\n",
    "gfu.components[0].Set(uin, definedon=mesh.Boundaries(\"inlet\"))\n",
    "\n",
    "inv_stokes = a.mat.Inverse(X.FreeDofs())\n",
    "res = f.vec - a.mat*gfu.vec\n",
    "gfu.vec.data += inv_stokes * res\n",
    "# Draw (gfu.components[0], mesh); # Visualize initial state if desired\n",
    "\n",
    "# --- Time Stepping Setup ---\n",
    "tau = 0.001 # timestep (may need to be smaller for Re=100)\n",
    "\n",
    "mstar = BilinearForm(u*v*dx+tau*stokes).Assemble()\n",
    "inv = mstar.mat.Inverse(X.FreeDofs(), inverse=\"sparsecholesky\")\n",
    "conv = BilinearForm(X, nonassemble=True)\n",
    "conv += (Grad(u) * u) * v * dx\n",
    "\n",
    "t = 0; i = 0\n",
    "# tend = 5 # Original end time\n",
    "tend = 20 # Increased end time for 2D-2 (adjust as needed)\n",
    "\n",
    "vel = gfu.components[0]\n",
    "# scene = Draw (gfu.components[0], mesh, min=0, max=0.4, autoscale=False) # Original draw\n",
    "scene = Draw (gfu.components[0], mesh, min=0, max=1.8, autoscale=False) # Adjusted max value\n",
    "\n",
    "# --- Add lists to store results for post-processing ---\n",
    "results_t = []\n",
    "results_cl = [] # Need to compute cL\n",
    "results_cd = [] # Need to compute cD\n",
    "\n",
    "with TaskManager():\n",
    "    while t < tend:\n",
    "        # --- Apply boundary conditions (constant for 2D-2) ---\n",
    "        # gfu.components[0].Set(uin, definedon=mesh.Boundaries(\"inlet\")) # Already set initially\n",
    "\n",
    "        res = conv.Apply(gfu.vec) + a.mat*gfu.vec\n",
    "        gfu.vec.data -= tau * inv * res\n",
    "\n",
    "        t = t + tau; i = i + 1\n",
    "\n",
    "        # --- Calculate and store cL, cD here (Requires defining integral forms) ---\n",
    "        # Placeholder:\n",
    "        current_cl = 0.0 # Replace with actual calculation\n",
    "        current_cd = 0.0 # Replace with actual calculation\n",
    "        results_t.append(t)\n",
    "        results_cl.append(current_cl)\n",
    "        results_cd.append(current_cd)\n",
    "        # --- End calculation ---\n",
    "\n",
    "        if i%50 == 0: # Draw less frequently for longer simulation\n",
    "            scene.Redraw()\n",
    "            # print(f\"t = {t:.3f}\", end='\\r')\n",
    "\n",
    "# --- Post-processing code needed here to analyze results_t, results_cl, results_cd ---\n",
    "# --- e.g., find period, max values, Strouhal number ---"
   ]
  }
 ],
 "metadata": {
  "kernelspec": {
   "display_name": "Python 3 (ipykernel)",
   "language": "python",
   "name": "python3"
  },
  "language_info": {
   "codemirror_mode": {
    "name": "ipython",
    "version": 3
   },
   "file_extension": ".py",
   "mimetype": "text/x-python",
   "name": "python",
   "nbconvert_exporter": "python",
   "pygments_lexer": "ipython3",
   "version": "3.13.2"
  }
 },
 "nbformat": 4,
 "nbformat_minor": 5
}
