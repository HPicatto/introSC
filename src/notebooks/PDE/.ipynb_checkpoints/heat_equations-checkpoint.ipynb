{
 "cells": [
  {
   "cell_type": "code",
   "execution_count": null,
   "metadata": {},
   "outputs": [],
   "source": [
    "! pip uninstall webgui_jupyter_widgets -y\n",
    "! pip install webgui_jupyter_widgets"
   ]
  },
  {
   "cell_type": "code",
   "execution_count": null,
   "metadata": {},
   "outputs": [],
   "source": [
    "from ngsolve import *\n",
    "from ngsolve.webgui import Draw\n",
    "from netgen.occ import unit_square\n",
    "from time import sleep\n",
    "\n",
    "mesh = Mesh(unit_square.GenerateMesh(maxh=0.05))"
   ]
  },
  {
   "cell_type": "code",
   "execution_count": null,
   "metadata": {},
   "outputs": [],
   "source": [
    "tend = 0.1\n",
    "u0 = exp(-100*( (x-0.5)**2 + (y-0.5)**2))\n",
    "\n",
    "fes = H1(mesh, order=3)\n",
    "u,v = fes.TnT()\n",
    "\n",
    "m = BilinearForm(u*v*dx).Assemble()\n",
    "a = BilinearForm(grad(u)*grad(v)*dx).Assemble()\n",
    "f = LinearForm(fes).Assemble()"
   ]
  },
  {
   "cell_type": "code",
   "execution_count": null,
   "metadata": {},
   "outputs": [],
   "source": [
    "tau = 0.005\n",
    "mstarinv = (m.mat + tau*a.mat).CreateSparseMatrix().Inverse()"
   ]
  },
  {
   "cell_type": "code",
   "execution_count": null,
   "metadata": {},
   "outputs": [],
   "source": [
    "gfu = GridFunction(fes)\n",
    "gfu.Set(u0)\n",
    "\n",
    "scene = Draw(gfu, deformation=True, euler_angles=[-60,-7,-15])\n",
    "sleep(3)\n",
    "\n",
    "for j in range(int(tend/tau)):\n",
    "    res = f.vec - a.mat * gfu.vec\n",
    "    w = mstarinv * res\n",
    "    gfu.vec.data += tau*w\n",
    "    scene.Redraw()\n",
    "    sleep(0.2)"
   ]
  },
  {
   "cell_type": "code",
   "execution_count": null,
   "metadata": {},
   "outputs": [],
   "source": [
    "ftot = LinearForm(1*v*dx).Assemble()\n",
    "print (\"total hear energy: \", InnerProduct(ftot.vec, gfu.vec))\n",
    "\n",
    "print (\"gfu(0.5, 0.5) =\", gfu(0.5, 0.5))\n",
    "\n",
    "fpoint = LinearForm(fes)\n",
    "fpoint += v(0.5, 0.5)\n",
    "fpoint.Assemble()\n",
    "print (\"point value: \", InnerProduct(fpoint.vec, gfu.vec))"
   ]
  },
  {
   "cell_type": "code",
   "execution_count": null,
   "metadata": {},
   "outputs": [],
   "source": [
    "energy_values = []\n",
    "time_values = []\n",
    "time_current = 0.0\n",
    "ftot = LinearForm(1*v*dx).Assemble()\n",
    "energy_initial = InnerProduct(ftot.vec, gfu.vec)\n",
    "energy_values.append(energy_initial)\n",
    "time_values.append(time_current)\n",
    "print(\"Initial total heat energy: \", energy_initial)\n",
    "num_steps = int(tend / tau)\n",
    "for j in range(num_steps):\n",
    "    res = f.vec - a.mat * gfu.vec\n",
    "    w = mstarinv * res\n",
    "    gfu.vec.data += tau * w\n",
    "    time_current += tau\n",
    "    current_energy = InnerProduct(ftot.vec, gfu.vec)\n",
    "    energy_values.append(current_energy)\n",
    "    time_values.append(time_current)\n",
    "    scene.Redraw()\n",
    "    sleep(0.2)"
   ]
  }
 ],
 "metadata": {
  "kernelspec": {
   "display_name": "research-intro-sc",
   "language": "python",
   "name": "python3"
  },
  "language_info": {
   "codemirror_mode": {
    "name": "ipython",
    "version": 3
   },
   "file_extension": ".py",
   "mimetype": "text/x-python",
   "name": "python",
   "nbconvert_exporter": "python",
   "pygments_lexer": "ipython3",
   "version": "3.13.2"
  }
 },
 "nbformat": 4,
 "nbformat_minor": 2
}
