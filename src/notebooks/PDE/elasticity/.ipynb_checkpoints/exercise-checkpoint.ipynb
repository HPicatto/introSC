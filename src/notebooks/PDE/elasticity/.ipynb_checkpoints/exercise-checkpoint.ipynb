{
 "cells": [
  {
   "cell_type": "code",
   "execution_count": 2,
   "id": "ceaeab79-3117-483b-86b7-f446c64a9435",
   "metadata": {},
   "outputs": [],
   "source": [
    "from ngsolve import *\n",
    "from ngsolve.webgui import Draw\n",
    "from ngsolve import *\n",
    "from ngsolve.webgui import Draw\n",
    "from netgen.occ import *\n",
    "import time # Added for visual delay"
   ]
  },
  {
   "cell_type": "code",
   "execution_count": 3,
   "id": "6034bd52-5cfe-4ec9-ba02-52be2c3c6f54",
   "metadata": {},
   "outputs": [
    {
     "data": {
      "application/vnd.jupyter.widget-view+json": {
       "model_id": "3204035919e94960a1ce53d6c3da9db1",
       "version_major": 2,
       "version_minor": 0
      },
      "text/plain": [
       "WebGuiWidget(layout=Layout(height='50vh', width='100%'), value={'gui_settings': {}, 'ngsolve_version': '6.2.25…"
      ]
     },
     "metadata": {},
     "output_type": "display_data"
    }
   ],
   "source": [
    "from netgen.occ import *\n",
    "shape = Rectangle(1,0.1).Face()\n",
    "shape.edges.Max(X).name=\"right\"\n",
    "shape.edges.Min(X).name=\"left\"\n",
    "shape.edges.Max(Y).name=\"top\"\n",
    "shape.edges.Min(Y).name=\"bot\"\n",
    "shape.vertices.Min(X+Y).maxh=0.01\n",
    "shape.vertices.Min(X-Y).maxh=0.01\n",
    "mesh = Mesh(OCCGeometry(shape, dim=2).GenerateMesh(maxh=0.05))\n",
    "Draw (mesh);E, nu = 210, 0.2\n",
    "mu  = E / 2 / (1+nu)\n",
    "lam = E * nu / ((1+nu)*(1-2*nu))\n",
    "\n",
    "def C(u):\n",
    "    F = Id(2) + Grad(u)\n",
    "    return F.trans * F\n",
    "\n",
    "def NeoHooke (C):\n",
    "    return 0.5*mu*(Trace(C-Id(2)) + 2*mu/lam*Det(C)**(-lam/2/mu)-1)\n",
    "\n",
    "tau = 0.02\n",
    "tend = 20\n",
    "force = CF( (0, -1) )"
   ]
  },
  {
   "cell_type": "code",
   "execution_count": 4,
   "id": "53fb60c3-74b9-4154-aaeb-5ce455cccce2",
   "metadata": {},
   "outputs": [],
   "source": [
    "E, nu = 210, 0.2\n",
    "mu  = E / 2 / (1+nu)\n",
    "lam = E * nu / ((1+nu)*(1-2*nu))\n",
    "\n",
    "def C(u):\n",
    "    F = Id(2) + Grad(u)\n",
    "    return F.trans * F\n",
    "\n",
    "def NeoHooke (C):\n",
    "    return 0.5*mu*(Trace(C-Id(2)) + 2*mu/lam*Det(C)**(-lam/2/mu)-1)\n",
    "\n",
    "tau = 0.02\n",
    "tend = 20\n",
    "force = CF( (0, -1) )"
   ]
  },
  {
   "cell_type": "code",
   "execution_count": 5,
   "id": "6db54411-8155-4fd5-a31b-a11ca5de2e58",
   "metadata": {},
   "outputs": [],
   "source": [
    "fes = VectorH1(mesh, order=3, dirichlet=\"left\")\n",
    "u,v = fes.TnT()\n",
    "\n",
    "gfu = GridFunction(fes)\n",
    "gfv = GridFunction(fes)\n",
    "gfa = GridFunction(fes)\n",
    "gfuold = GridFunction(fes)\n",
    "gfvold = GridFunction(fes)\n",
    "gfaold = GridFunction(fes)\n",
    "\n",
    "bfa = BilinearForm(fes)\n",
    "bfa += Variation(NeoHooke(C(u))*dx)\n",
    "\n",
    "vel_new = 2/tau * (u-gfuold) - gfvold\n",
    "acc_new = 2/tau * (vel_new-gfvold) - gfaold\n",
    "\n",
    "bfa += acc_new*v*dx\n",
    "bfa += -force*v*dx"
   ]
  },
  {
   "cell_type": "code",
   "execution_count": 6,
   "id": "bbc84f79-2f94-40db-951b-7150953cd5d0",
   "metadata": {},
   "outputs": [],
   "source": [
    "def MyNewton(a, u, printing=False):\n",
    "    for it in range(10):\n",
    "        res = a.Apply(gfu.vec)\n",
    "        if printing:\n",
    "            print (\"it=\", it, \"err=\", Norm(res))\n",
    "        a.AssembleLinearization(gfu.vec)\n",
    "        inv = a.mat.Inverse(fes.FreeDofs(), inverse=\"sparsecholesky\") \n",
    "        gfu.vec.data -= inv*res"
   ]
  },
  {
   "cell_type": "code",
   "execution_count": 7,
   "id": "c85a1611-be72-4159-80ae-1d69cf6afba6",
   "metadata": {
    "scrolled": true
   },
   "outputs": [
    {
     "data": {
      "application/vnd.jupyter.widget-view+json": {
       "model_id": "0e882db170ce4c9fa3843e33ea8bd9d3",
       "version_major": 2,
       "version_minor": 0
      },
      "text/plain": [
       "WebGuiWidget(layout=Layout(height='50vh', width='100%'), value={'gui_settings': {}, 'ngsolve_version': '6.2.25…"
      ]
     },
     "metadata": {},
     "output_type": "display_data"
    },
    {
     "data": {
      "application/vnd.jupyter.widget-view+json": {
       "model_id": "4717cfd7cf65483695ea34de2690f7fc",
       "version_major": 2,
       "version_minor": 0
      },
      "text/plain": [
       "WebGuiWidget(layout=Layout(height='50vh', width='100%'), value={'gui_settings': {}, 'ngsolve_version': '6.2.25…"
      ]
     },
     "metadata": {},
     "output_type": "display_data"
    },
    {
     "data": {
      "application/vnd.jupyter.widget-view+json": {
       "model_id": "fd7d669c7c194999b42ef29d6e893b9a",
       "version_major": 2,
       "version_minor": 0
      },
      "text/plain": [
       "WebGuiWidget(layout=Layout(height='50vh', width='100%'), value={'gui_settings': {}, 'ngsolve_version': '6.2.25…"
      ]
     },
     "metadata": {},
     "output_type": "display_data"
    },
    {
     "ename": "KeyboardInterrupt",
     "evalue": "",
     "output_type": "error",
     "traceback": [
      "\u001b[31m---------------------------------------------------------------------------\u001b[39m",
      "\u001b[31mKeyboardInterrupt\u001b[39m                         Traceback (most recent call last)",
      "\u001b[36mCell\u001b[39m\u001b[36m \u001b[39m\u001b[32mIn[7]\u001b[39m\u001b[32m, line 9\u001b[39m\n\u001b[32m      7\u001b[39m \u001b[38;5;28;01mwhile\u001b[39;00m t < tend:\n\u001b[32m      8\u001b[39m     t += tau\n\u001b[32m----> \u001b[39m\u001b[32m9\u001b[39m     \u001b[43mMyNewton\u001b[49m\u001b[43m(\u001b[49m\u001b[43ma\u001b[49m\u001b[43m=\u001b[49m\u001b[43mbfa\u001b[49m\u001b[43m,\u001b[49m\u001b[43m \u001b[49m\u001b[43mu\u001b[49m\u001b[43m=\u001b[49m\u001b[43mgfu\u001b[49m\u001b[43m,\u001b[49m\u001b[43m \u001b[49m\u001b[43mprinting\u001b[49m\u001b[43m=\u001b[49m\u001b[38;5;28;43;01mFalse\u001b[39;49;00m\u001b[43m)\u001b[49m\n\u001b[32m     10\u001b[39m     \u001b[38;5;66;03m# Newton(a=bfa, u=gfu, printing=False, inverse=\"sparsecholesky\")\u001b[39;00m\n\u001b[32m     12\u001b[39m     gfv.vec[:] = \u001b[32m2\u001b[39m/tau * (gfu.vec-gfuold.vec) - gfvold.vec\n",
      "\u001b[36mCell\u001b[39m\u001b[36m \u001b[39m\u001b[32mIn[6]\u001b[39m\u001b[32m, line 7\u001b[39m, in \u001b[36mMyNewton\u001b[39m\u001b[34m(a, u, printing)\u001b[39m\n\u001b[32m      5\u001b[39m     \u001b[38;5;28mprint\u001b[39m (\u001b[33m\"\u001b[39m\u001b[33mit=\u001b[39m\u001b[33m\"\u001b[39m, it, \u001b[33m\"\u001b[39m\u001b[33merr=\u001b[39m\u001b[33m\"\u001b[39m, Norm(res))\n\u001b[32m      6\u001b[39m a.AssembleLinearization(gfu.vec)\n\u001b[32m----> \u001b[39m\u001b[32m7\u001b[39m inv = \u001b[43ma\u001b[49m\u001b[43m.\u001b[49m\u001b[43mmat\u001b[49m\u001b[43m.\u001b[49m\u001b[43mInverse\u001b[49m\u001b[43m(\u001b[49m\u001b[43mfes\u001b[49m\u001b[43m.\u001b[49m\u001b[43mFreeDofs\u001b[49m\u001b[43m(\u001b[49m\u001b[43m)\u001b[49m\u001b[43m,\u001b[49m\u001b[43m \u001b[49m\u001b[43minverse\u001b[49m\u001b[43m=\u001b[49m\u001b[33;43m\"\u001b[39;49m\u001b[33;43msparsecholesky\u001b[39;49m\u001b[33;43m\"\u001b[39;49m\u001b[43m)\u001b[49m \n\u001b[32m      8\u001b[39m gfu.vec.data -= inv*res\n",
      "\u001b[31mKeyboardInterrupt\u001b[39m: "
     ]
    }
   ],
   "source": [
    "from ngsolve.solvers import Newton\n",
    "sceneu = Draw (gfu, deformation=True)\n",
    "scenev = Draw (gfv)\n",
    "scenea = Draw (gfa)\n",
    "gfu.vec[:] = 0\n",
    "t = 0\n",
    "while t < tend:\n",
    "    t += tau\n",
    "    MyNewton(a=bfa, u=gfu, printing=False)\n",
    "    # Newton(a=bfa, u=gfu, printing=False, inverse=\"sparsecholesky\")\n",
    "\n",
    "    gfv.vec[:] = 2/tau * (gfu.vec-gfuold.vec) - gfvold.vec\n",
    "    gfa.vec[:] = 2/tau * (gfv.vec-gfvold.vec) - gfaold.vec\n",
    "\n",
    "    sceneu.Redraw()\n",
    "    scenev.Redraw()\n",
    "    scenea.Redraw()\n",
    "    \n",
    "    gfuold.vec[:] = gfu.vec\n",
    "    gfvold.vec[:] = gfv.vec\n",
    "    gfaold.vec[:] = gfa.vec"
   ]
  },
  {
   "cell_type": "markdown",
   "id": "b76a88ad-e490-499a-9851-1955feaef040",
   "metadata": {},
   "source": [
    "## Dynamics of beams"
   ]
  },
  {
   "cell_type": "markdown",
   "id": "5fcf8475-b027-4086-939d-9082c4eee4b7",
   "metadata": {},
   "source": [
    "start from the notebook dynamics, and replace the Dirichlet boundary condition by mean value constraints for the displacement (but not for the rotation)."
   ]
  },
  {
   "cell_type": "code",
   "execution_count": 8,
   "id": "d4cd1820-c4c9-403b-850a-969836584c5a",
   "metadata": {},
   "outputs": [],
   "source": [
    "fes_u = VectorH1(mesh, order=3)\n",
    "fes_lm = NumberSpace(mesh)\n",
    "fes = fes_u * fes_lm * fes_lm\n",
    "\n",
    "(u, lam_x, lam_y), (v, mu_x, mu_y) = fes.TnT()\n",
    "sol = GridFunction(fes, name=\"solution\")\n",
    "gfu = sol.components[0]      # Displacement part of the solution\n",
    "gflam_x = sol.components[1]  # LM for x-constraint\n",
    "gflam_y = sol.components[2]  # LM for y-constraint\n",
    "\n",
    "\n",
    "gfu_old = GridFunction(fes_u, name=\"u_old\") # u at start of step\n",
    "gfv_old = GridFunction(fes_u, name=\"v_old\") # v at start of step\n",
    "gfa_old = GridFunction(fes_u, name=\"a_old\") # a at start of step\n",
    "\n",
    "gfv_cur = GridFunction(fes_u, name=\"v_current\") # v calculated at end of step\n",
    "gfa_cur = GridFunction(fes_u, name=\"a_current\") # a calculated at end of step"
   ]
  },
  {
   "cell_type": "code",
   "execution_count": 9,
   "id": "3a6748bd-4bf0-4e3e-8ee9-0ae74ee69296",
   "metadata": {},
   "outputs": [],
   "source": [
    "bfa = BilinearForm(fes, symmetric=False) \n",
    "bfa += Variation(NeoHooke(C(u)).Compile()*dx)\n",
    "\n",
    "vel_new = 2/tau * (u - gfu_old) - gfv_old\n",
    "acc_new = 2/tau * (vel_new - gfv_old) - gfa_old\n",
    "bfa += (acc_new * v * dx).Compile()\n",
    "\n",
    "bfa += (-force * v * dx).Compile()\n",
    "\n",
    "bnd_left = mesh.Boundaries(\"left\")\n",
    "bfa += (lam_x * v[0] * ds(definedon=bnd_left)).Compile()\n",
    "bfa += (mu_x * u[0] * ds(definedon=bnd_left)).Compile()\n",
    "bfa += (lam_y * v[1] * ds(definedon=bnd_left)).Compile()\n",
    "bfa += (mu_y * u[1] * ds(definedon=bnd_left)).Compile()\n",
    "left_boundary_integration = ds(definedon=bnd_left)"
   ]
  },
  {
   "cell_type": "code",
   "execution_count": 12,
   "id": "da5012cc-5769-4514-b38b-c17e5da705ed",
   "metadata": {},
   "outputs": [],
   "source": [
    "def MyNewton(a, u_full_gf, printing=False, max_iter=25, tolerance=1e-5):\n",
    "    \"\"\"\n",
    "    Newton solver adapted for the combined system.\n",
    "    'a': The BilinearForm defined on the combined space (e.g., bfa).\n",
    "    'u_full_gf': The GridFunction on the combined space holding the full solution (e.g., sol).\n",
    "    \"\"\"\n",
    "\n",
    "    full_vec = u_full_gf.vec\n",
    "    initial_norm_res = -1.0\n",
    "\n",
    "    for it in range(max_iter):\n",
    "        res = a.Apply(full_vec)\n",
    "        norm_res = Norm(res)\n",
    "\n",
    "        if it == 0: initial_norm_res = norm_res\n",
    "        if printing:\n",
    "            print (f\"Newton it={it}, ||res||={norm_res:.3e}\")\n",
    "\n",
    "        if norm_res < tolerance:\n",
    "            return True\n",
    "\n",
    "        if it > 4 and norm_res > initial_norm_res * 100:\n",
    "             print(f\"Newton residual increasing significantly (||res||={norm_res:.3e}). Stopping.\")\n",
    "             return False\n",
    "\n",
    "        a.AssembleLinearization(full_vec)\n",
    "\n",
    "        try:\n",
    "            inv = a.mat.Inverse(a.space.FreeDofs(), inverse=\"pardiso\")\n",
    "            full_vec.data -= inv * res\n",
    "        except Exception as e:\n",
    "            print(f\"Error during matrix inversion/solve: {e}\")\n",
    "            print(\"Newton iteration failed.\")\n",
    "            return False # Failed\n",
    "\n",
    "    print(f\"Newton did NOT converge after {max_iter} iterations! ||res||={norm_res:.3e}\")\n",
    "    return False"
   ]
  },
  {
   "cell_type": "code",
   "execution_count": 14,
   "id": "fdbe825b-06b8-4cce-8b8a-64a7c7d56c74",
   "metadata": {},
   "outputs": [
    {
     "data": {
      "application/vnd.jupyter.widget-view+json": {
       "model_id": "c7eb0d5e6ea3486eb16d6965ca59138d",
       "version_major": 2,
       "version_minor": 0
      },
      "text/plain": [
       "WebGuiWidget(layout=Layout(height='50vh', width='100%'), value={'gui_settings': {}, 'ngsolve_version': '6.2.25…"
      ]
     },
     "metadata": {},
     "output_type": "display_data"
    },
    {
     "name": "stdout",
     "output_type": "stream",
     "text": [
      "t = 20.000 / 20.000 "
     ]
    }
   ],
   "source": [
    "sceneu = Draw (gfu, deformation=True, min=0, max=1.0, autoscale=False) \n",
    "sol.vec[:] = 0      # Initialize full solution vector\n",
    "gfu_old.vec[:] = 0  # Initialize previous displacement\n",
    "gfv_old.vec[:] = 0  # Initialize previous velocity\n",
    "gfa_old.vec[:] = 0  # Initialize previous acceleration\n",
    "\n",
    "t = 0\n",
    "cnt = 0\n",
    "output_every = max(1, int(0.05 / tau))\n",
    "start_time = time.time()\n",
    "\n",
    "success = True\n",
    "while t < tend and success:\n",
    "    t += tau\n",
    "    gfu_old.vec.data = gfu.vec # gfu is sol.components[0]\n",
    "    success = MyNewton(a=bfa, u_full_gf=sol, printing=False)\n",
    "\n",
    "    if not success:\n",
    "        print(f\"Solver failed at t={t:.4f}. Stopping simulation.\")\n",
    "        break\n",
    "    gfv_cur.vec.data = 2/tau * (gfu.vec - gfu_old.vec) - gfv_old.vec\n",
    "    gfa_cur.vec.data = 2/tau * (gfv_cur.vec - gfv_old.vec) - gfa_old.vec\n",
    "    gfv_old.vec.data = gfv_cur.vec\n",
    "    gfa_old.vec.data = gfa_cur.vec\n",
    "    cnt += 1\n",
    "    if cnt % output_every == 0:\n",
    "        sceneu.Redraw()\n",
    "        print(f\"t = {t:.3f} / {tend:.3f} \", end='\\r')"
   ]
  },
  {
   "cell_type": "code",
   "execution_count": 16,
   "id": "368d1e1f-34be-4c8a-b968-e2f04a7d2ae3",
   "metadata": {},
   "outputs": [
    {
     "name": "stdout",
     "output_type": "stream",
     "text": [
      "Integral of u over left edge: (2.168e-19, 0.000e+00)\n",
      "Length of left edge: 0.1000\n",
      "Final average displacement on left edge: (2.168e-18, 0.000e+00)\n"
     ]
    }
   ],
   "source": [
    "try:\n",
    "    left_bnd_region = mesh.Boundaries(\"left\")\n",
    "    avg_u_left_integral = Integrate(gfu, mesh, definedon=left_bnd_region) # This is a VectorD result\n",
    "    left_edge_length = Integrate(CF(1), mesh, definedon=left_bnd_region) # This is a float result\n",
    "\n",
    "    print(f\"Integral of u over left edge: ({avg_u_left_integral[0]:.3e}, {avg_u_left_integral[1]:.3e})\")\n",
    "    print(f\"Length of left edge: {left_edge_length:.4f}\")\n",
    "    if left_edge_length > 1e-10:\n",
    "        avg_u_x = avg_u_left_integral[0] / left_edge_length\n",
    "        avg_u_y = avg_u_left_integral[1] / left_edge_length\n",
    "        print(f\"Final average displacement on left edge: ({avg_u_x:.3e}, {avg_u_y:.3e})\")\n",
    "    else:\n",
    "        print(\"Left edge length is too small to calculate average displacement.\")\n",
    "\n",
    "except Exception as e:\n",
    "    print(f\"An error occurred during final boundary integration check: {e}\")"
   ]
  },
  {
   "cell_type": "markdown",
   "id": "9d68d2d9-d724-443b-99a9-6569cc0e5331",
   "metadata": {},
   "source": [
    "simpulate a double pendulum by coupling two beams via mean value constraints"
   ]
  },
  {
   "cell_type": "code",
   "execution_count": 33,
   "id": "e0ac8d55-fb2c-48f5-a17f-9edddee53a23",
   "metadata": {},
   "outputs": [],
   "source": [
    "width  = 0.1\n",
    "depth  = 0.1\n",
    "length = 1.0\n",
    "\n",
    "beam1 = OrthoBrick(Pnt(-width/2, 0.0, -depth/2), Pnt(width/2, length, depth/2))\n",
    "beam2 = OrthoBrick(Pnt(-width/2, -length, -depth/2), Pnt(width/2, 0.0, depth/2))\n",
    "\n",
    "geo = CSGeometry()\n",
    "geo.Add(beam1)\n",
    "geo.Add(beam2)\n",
    "mesh = Mesh(geo.GenerateMesh(maxh=0.1))\n"
   ]
  },
  {
   "cell_type": "code",
   "execution_count": 34,
   "id": "449a5ad2-8e89-4602-a8cb-70cc1046aeed",
   "metadata": {},
   "outputs": [],
   "source": [
    "fes_u1 = VectorH1(mesh, order=3) # Displacement space for beam 1\n",
    "fes_u2 = VectorH1(mesh, order=3) # Displacement space for beam 2\n",
    "fes_lm  = NumberSpace(mesh) # Lagrange multiplier space for the coupling constraint\n",
    "\n",
    "fes = fes_u1 * fes_u2 * fes_lm * fes_lm\n",
    "(u1, u2, lam_x, lam_y), (v1, v2, mu_x, mu_y) = fes.TnT()\n",
    "\n",
    "sol = GridFunction(fes, name=\"solution\")\n",
    "\n",
    "gfu1 = sol.components[0]  # Displacement for beam 1\n",
    "gfu2 = sol.components[1]  # Displacement for beam 2\n",
    "gfu1_old = GridFunction(fes_u1, name=\"u1_old\")\n",
    "gfv1_old = GridFunction(fes_u1, name=\"v1_old\")\n",
    "gfa1_old = GridFunction(fes_u1, name=\"a1_old\")\n",
    "gfu2_old = GridFunction(fes_u2, name=\"u2_old\")\n",
    "gfv2_old = GridFunction(fes_u2, name=\"v2_old\")\n",
    "gfa2_old = GridFunction(fes_u2, name=\"a2_old\")\n",
    "\n",
    "gfv1_cur = GridFunction(fes_u1, name=\"v1_current\")\n",
    "gfa1_cur = GridFunction(fes_u1, name=\"a1_current\")\n",
    "gfv2_cur = GridFunction(fes_u2, name=\"v2_current\")\n",
    "gfa2_cur = GridFunction(fes_u2, name=\"a2_current\")\n",
    "\n",
    "bfa = BilinearForm(fes, symmetric=False)"
   ]
  },
  {
   "cell_type": "code",
   "execution_count": 46,
   "id": "96b0e429-b05f-483d-829f-50f45f6f184d",
   "metadata": {},
   "outputs": [],
   "source": [
    "def NeoHooke (C):\n",
    "    return 0.5*mu*(Trace(C-Id(3)) + 2*mu/lam*Det(C)**(-lam/2/mu)-1)\n",
    "\n",
    "def C(u):\n",
    "    F = Id(3) + Grad(u)\n",
    "    return F.trans * F"
   ]
  },
  {
   "cell_type": "code",
   "execution_count": 53,
   "id": "1aabfe83-8afc-4636-9584-b060f534e75b",
   "metadata": {},
   "outputs": [
    {
     "name": "stdout",
     "output_type": "stream",
     "text": [
      "warning: Materials( [int list] ) is deprecated, pls generate Region\n",
      "warning: Materials( [int list] ) is deprecated, pls generate Region\n"
     ]
    },
    {
     "ename": "TypeError",
     "evalue": "__call__(): incompatible function arguments. The following argument types are supported:\n    1. (self: ngsolve.comp.DifferentialSymbol, definedon: Optional[Union[ngsolve.comp.Region, str]] = None, element_boundary: bool = False, element_vb: ngsolve.comp.VorB = <VorB.VOL: 0>, skeleton: bool = False, bonus_intorder: int = 0, intrules: dict[ngsolve.fem.ET, ngsolve.fem.IntegrationRule] = {}, deformation: ngsolve.comp.GridFunction = None, definedonelements: pyngcore.pyngcore.BitArray = None) -> ngsolve.comp.DifferentialSymbol\n\nInvoked with: <ngsolve.comp.DifferentialSymbol object at 0x7fa1c3fb75b0>, 1",
     "output_type": "error",
     "traceback": [
      "\u001b[31m---------------------------------------------------------------------------\u001b[39m",
      "\u001b[31mTypeError\u001b[39m                                 Traceback (most recent call last)",
      "\u001b[36mCell\u001b[39m\u001b[36m \u001b[39m\u001b[32mIn[53]\u001b[39m\u001b[32m, line 7\u001b[39m\n\u001b[32m      5\u001b[39m vel1_new = \u001b[32m2\u001b[39m/tau * (u1 - gfu1_old) - gfv1_old\n\u001b[32m      6\u001b[39m acc1_new = \u001b[32m2\u001b[39m/tau * (vel1_new - gfv1_old) - gfa1_old\n\u001b[32m----> \u001b[39m\u001b[32m7\u001b[39m bfa += (acc1_new * v1 * \u001b[43mdx\u001b[49m\u001b[43m(\u001b[49m\u001b[32;43m1\u001b[39;49m\u001b[43m)\u001b[49m).Compile()\n",
      "\u001b[31mTypeError\u001b[39m: __call__(): incompatible function arguments. The following argument types are supported:\n    1. (self: ngsolve.comp.DifferentialSymbol, definedon: Optional[Union[ngsolve.comp.Region, str]] = None, element_boundary: bool = False, element_vb: ngsolve.comp.VorB = <VorB.VOL: 0>, skeleton: bool = False, bonus_intorder: int = 0, intrules: dict[ngsolve.fem.ET, ngsolve.fem.IntegrationRule] = {}, deformation: ngsolve.comp.GridFunction = None, definedonelements: pyngcore.pyngcore.BitArray = None) -> ngsolve.comp.DifferentialSymbol\n\nInvoked with: <ngsolve.comp.DifferentialSymbol object at 0x7fa1c3fb75b0>, 1"
     ]
    }
   ],
   "source": [
    "bfa += Variation(NeoHooke(C(u1)).Compile() * dx(definedon=mesh.Materials([0])))\n",
    "bfa += Variation(NeoHooke(C(u2)).Compile() * dx(definedon=mesh.Materials([1])))\n",
    "tau = 0.01      # time step size\n",
    "tend = 2.0      # end time\n",
    "vel1_new = 2/tau * (u1 - gfu1_old) - gfv1_old\n",
    "acc1_new = 2/tau * (vel1_new - gfv1_old) - gfa1_old\n",
    "bfa += (acc1_new * v1 * dx(1)).Compile()"
   ]
  },
  {
   "cell_type": "code",
   "execution_count": null,
   "id": "0e7a0479-d27f-479e-8c7a-e8457c9fd2e3",
   "metadata": {},
   "outputs": [],
   "source": []
  }
 ],
 "metadata": {
  "kernelspec": {
   "display_name": "Python 3 (ipykernel)",
   "language": "python",
   "name": "python3"
  },
  "language_info": {
   "codemirror_mode": {
    "name": "ipython",
    "version": 3
   },
   "file_extension": ".py",
   "mimetype": "text/x-python",
   "name": "python",
   "nbconvert_exporter": "python",
   "pygments_lexer": "ipython3",
   "version": "3.13.2"
  }
 },
 "nbformat": 4,
 "nbformat_minor": 5
}
