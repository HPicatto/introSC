{
 "cells": [
  {
   "cell_type": "markdown",
   "id": "cc348872-6f28-4791-9289-5fbf406a3a2a",
   "metadata": {},
   "source": [
    "# Waveguids"
   ]
  },
  {
   "cell_type": "code",
   "execution_count": 1,
   "id": "8c9c7e73-ebb9-45fc-aa85-7394a126bd4f",
   "metadata": {},
   "outputs": [],
   "source": [
    "from ngsolve import *\n",
    "from netgen.occ import *\n",
    "from ngsolve.webgui import Draw\n",
    "from time import sleep\n",
    "import sympy as sym"
   ]
  },
  {
   "cell_type": "code",
   "execution_count": 2,
   "id": "7ed4b436-a7fa-4345-bff4-51d4f13ae5e3",
   "metadata": {},
   "outputs": [
    {
     "data": {
      "application/vnd.jupyter.widget-view+json": {
       "model_id": "0d66b8827a9a4b99a885f7f1496e9661",
       "version_major": 2,
       "version_minor": 0
      },
      "text/plain": [
       "WebGuiWidget(layout=Layout(height='50vh', width='100%'), value={'ngsolve_version': 'Netgen x.x', 'mesh_dim': 3…"
      ]
     },
     "metadata": {},
     "output_type": "display_data"
    }
   ],
   "source": [
    "omega = 50\n",
    "epsr = 5\n",
    "thick = 0.04\n",
    "\n",
    "rect = Rectangle(1,1).Face()\n",
    "rect.edges.name=\"outer\"\n",
    "\n",
    "f = HalfSpace(Pnt(0,0,0), Vec(0,0,1)).faces[0]\n",
    "curve = MoveTo(-0.1,0.8).Line(0.7).Arc(0.2,-90).Line(0.5) \\\n",
    "    .Finish().Wire()\n",
    "thickcurve = curve.Offset(f, thick/2, 'arc', False)\n",
    "\n",
    "strip = Face(Wire(thickcurve.edges))\n",
    "board = rect-strip\n",
    "strip = rect*strip\n",
    "\n",
    "strip.faces.col=[1,0,0]\n",
    "board.faces.col=[0,0,1]\n",
    "strip.faces.name=\"strip\"\n",
    "board.faces.name=\"board\"\n",
    "\n",
    "shape = Glue([strip, board])\n",
    "Draw (shape);"
   ]
  },
  {
   "cell_type": "code",
   "execution_count": 3,
   "id": "801e92e7-8651-47c8-a4a4-34fa6c03b8c9",
   "metadata": {},
   "outputs": [
    {
     "data": {
      "application/vnd.jupyter.widget-view+json": {
       "model_id": "328b4bea91db4faca8a097987e118cc8",
       "version_major": 2,
       "version_minor": 0
      },
      "text/plain": [
       "WebGuiWidget(layout=Layout(height='50vh', width='100%'), value={'gui_settings': {}, 'ngsolve_version': '6.2.25…"
      ]
     },
     "metadata": {},
     "output_type": "display_data"
    }
   ],
   "source": [
    "mesh = Mesh(OCCGeometry(shape, dim=2).GenerateMesh(maxh=0.01)).Curve(3)\n",
    "Draw (mesh);"
   ]
  },
  {
   "cell_type": "code",
   "execution_count": 4,
   "id": "1729cedb-35ef-4241-8e54-6559cf184e6a",
   "metadata": {},
   "outputs": [
    {
     "name": "stdout",
     "output_type": "stream",
     "text": [
      "kx =  99.23929327365403 ky1 = 51.49332646611294 , ky2 =  85.72302683325124\n"
     ]
    }
   ],
   "source": [
    "ky1 = sym.symbols('ky1')\n",
    "ky1 = float(sym.nsolve( ky1**2 * (1+sym.tan(ky1*thick/2)**2) - (epsr-1)*omega**2, ky1, sqrt(epsr-1)*omega))\n",
    "\n",
    "kx = sqrt( epsr*omega**2 - ky1**2 )\n",
    "ky2 = sqrt (kx**2-omega**2)\n",
    "\n",
    "print (\"kx = \", kx, \"ky1 =\", ky1, \", ky2 = \", ky2)"
   ]
  },
  {
   "cell_type": "code",
   "execution_count": 5,
   "id": "20fb454c-74c0-4dee-bc8d-f89539b04863",
   "metadata": {},
   "outputs": [],
   "source": [
    "def uy(eta):\n",
    "    eta = IfPos(eta, eta, -eta)\n",
    "    return IfPos( thick/2-eta, \n",
    "                   cos(ky1 * eta),\n",
    "                   cos(ky1 * thick/2) * exp( -ky2 * (eta-thick/2) ))"
   ]
  },
  {
   "cell_type": "code",
   "execution_count": 6,
   "id": "d85fd21a-d602-43cc-ad7a-ad1836f80b53",
   "metadata": {},
   "outputs": [],
   "source": [
    "order=2   # order=1 or order=2 is supported\n",
    "\n",
    "tau = 5e-4\n",
    "tend = 2\n",
    "\n",
    "u0 = uy(eta=y-0.8) * sin(kx*x) * exp(-10**2 * (x-0.3)**2)\n",
    "\n",
    "v0 = 0\n",
    "\n",
    "fes = H1LumpingFESpace(mesh, order=order)  \n",
    "u,v = fes.TnT()\n",
    "\n",
    "cfepsr = mesh.MaterialCF( {\"strip\" : 5, \"board\" : 1} )\n",
    "mform = cfepsr*u*v*dx(intrules=fes.GetIntegrationRules())\n",
    "aform = grad(u)*grad(v)*dx\n",
    "rform = sqrt(BoundaryFromVolumeCF(epsr))*u*v*ds(\"outer\", intrules=fes.GetIntegrationRules())\n",
    "\n",
    "m = BilinearForm(mform, diagonal=True).Assemble()\n",
    "a = BilinearForm(aform).Assemble()\n",
    "r = BilinearForm(rform, diagonal=True, check_unused=False).Assemble()\n",
    "\n",
    "mstar = BilinearForm(mform+tau/2*rform, diagonal=True).Assemble()\n",
    "mstarinv = mstar.mat.Inverse(fes.FreeDofs())  "
   ]
  },
  {
   "cell_type": "code",
   "execution_count": 7,
   "id": "5eb4b514-540c-489e-8f7d-7467c7703ea5",
   "metadata": {},
   "outputs": [
    {
     "data": {
      "application/vnd.jupyter.widget-view+json": {
       "model_id": "291c19b417c04f62922ec9f7dc35cd19",
       "version_major": 2,
       "version_minor": 0
      },
      "text/plain": [
       "WebGuiWidget(layout=Layout(height='50vh', width='100%'), value={'gui_settings': {'camera': {'euler_angles': [-…"
      ]
     },
     "metadata": {},
     "output_type": "display_data"
    }
   ],
   "source": [
    "gfu = GridFunction(fes)\n",
    "gfu.Set(u0)\n",
    "\n",
    "scene = Draw(gfu, order=2, deformation=True, scale=1, euler_angles=[-60,0,-40])"
   ]
  },
  {
   "cell_type": "code",
   "execution_count": 8,
   "id": "48665f04-d24c-404d-896b-0c0cf0555fba",
   "metadata": {},
   "outputs": [],
   "source": [
    "unew = gfu.vec.CreateVector()\n",
    "uold = gfu.vec.CreateVector()\n",
    "uold.data = gfu.vec\n",
    "\n",
    "rhs = gfu.vec.CreateVector()\n",
    "\n",
    "with TaskManager(): \n",
    "    for n in range(int(tend/tau)):\n",
    "        rhs.data = 2*m.mat*gfu.vec - m.mat*uold - tau**2*a.mat*gfu.vec + tau/2*r.mat*uold\n",
    "        unew.data = mstarinv*rhs.data\n",
    "        uold.data = gfu.vec\n",
    "        gfu.vec.data = unew.data\n",
    "        if n % 10 == 0:\n",
    "            scene.Redraw()\n",
    "\n",
    "scene.Redraw()"
   ]
  },
  {
   "cell_type": "markdown",
   "id": "2074fdb6-6c26-4527-aca6-f6b397e5fa0e",
   "metadata": {},
   "source": [
    "## Extend the waveguide"
   ]
  },
  {
   "cell_type": "code",
   "execution_count": 8,
   "id": "aaa31b87-5399-46e8-92a9-e3e979051339",
   "metadata": {},
   "outputs": [],
   "source": [
    "tau = 5e-4\n",
    "tend = 4.0  "
   ]
  },
  {
   "cell_type": "code",
   "execution_count": 9,
   "id": "7d762dd9-9ec0-4124-8619-809270c793ea",
   "metadata": {},
   "outputs": [
    {
     "data": {
      "application/vnd.jupyter.widget-view+json": {
       "model_id": "f6dd44f9a3f14b4695904ca00a557774",
       "version_major": 2,
       "version_minor": 0
      },
      "text/plain": [
       "WebGuiWidget(layout=Layout(height='50vh', width='100%'), value={'gui_settings': {'camera': {'euler_angles': [-…"
      ]
     },
     "metadata": {},
     "output_type": "display_data"
    }
   ],
   "source": [
    "gfu = GridFunction(fes)\n",
    "gfu.Set(u0)\n",
    "\n",
    "scene = Draw(gfu, order=2, deformation=True, scale=1, euler_angles=[-60,0,-40])"
   ]
  },
  {
   "cell_type": "code",
   "execution_count": 10,
   "id": "ae69612b-56b5-4f6f-b7fe-6d23d0e2e944",
   "metadata": {},
   "outputs": [],
   "source": [
    "unew = gfu.vec.CreateVector()\n",
    "uold = gfu.vec.CreateVector()\n",
    "uold.data = gfu.vec\n",
    "\n",
    "rhs = gfu.vec.CreateVector()\n",
    "\n",
    "with TaskManager(): \n",
    "    for n in range(int(tend/tau)):\n",
    "        rhs.data = 2*m.mat*gfu.vec - m.mat*uold - tau**2*a.mat*gfu.vec + tau/2*r.mat*uold\n",
    "        unew.data = mstarinv*rhs.data\n",
    "        uold.data = gfu.vec\n",
    "        gfu.vec.data = unew.data\n",
    "        if n % 10 == 0:\n",
    "            scene.Redraw()\n",
    "\n",
    "scene.Redraw()"
   ]
  }
 ],
 "metadata": {
  "kernelspec": {
   "display_name": "Python 3 (ipykernel)",
   "language": "python",
   "name": "python3"
  },
  "language_info": {
   "codemirror_mode": {
    "name": "ipython",
    "version": 3
   },
   "file_extension": ".py",
   "mimetype": "text/x-python",
   "name": "python",
   "nbconvert_exporter": "python",
   "pygments_lexer": "ipython3",
   "version": "3.13.2"
  }
 },
 "nbformat": 4,
 "nbformat_minor": 5
}
