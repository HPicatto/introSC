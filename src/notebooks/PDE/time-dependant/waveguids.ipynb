{
 "cells": [
  {
   "cell_type": "markdown",
   "id": "cc348872-6f28-4791-9289-5fbf406a3a2a",
   "metadata": {},
   "source": [
    "# Waveguids"
   ]
  },
  {
   "cell_type": "code",
   "execution_count": 2,
   "id": "8fad7541-ac52-4323-bfb0-b4bf255e1282",
   "metadata": {},
   "outputs": [
    {
     "name": "stdout",
     "output_type": "stream",
     "text": [
      "Requirement already satisfied: simpy in /home/hpicatto/noASCII/tuwien/ASC-bla/.pixi/envs/research-intro-sc/lib/python3.13/site-packages (4.1.1)\n"
     ]
    }
   ],
   "source": [
    "! pip install simpy"
   ]
  },
  {
   "cell_type": "code",
   "execution_count": 1,
   "id": "8c9c7e73-ebb9-45fc-aa85-7394a126bd4f",
   "metadata": {},
   "outputs": [
    {
     "ename": "ModuleNotFoundError",
     "evalue": "No module named 'sympy'",
     "output_type": "error",
     "traceback": [
      "\u001b[31m---------------------------------------------------------------------------\u001b[39m",
      "\u001b[31mModuleNotFoundError\u001b[39m                       Traceback (most recent call last)",
      "\u001b[36mCell\u001b[39m\u001b[36m \u001b[39m\u001b[32mIn[1]\u001b[39m\u001b[32m, line 5\u001b[39m\n\u001b[32m      3\u001b[39m \u001b[38;5;28;01mfrom\u001b[39;00m\u001b[38;5;250m \u001b[39m\u001b[34;01mngsolve\u001b[39;00m\u001b[34;01m.\u001b[39;00m\u001b[34;01mwebgui\u001b[39;00m\u001b[38;5;250m \u001b[39m\u001b[38;5;28;01mimport\u001b[39;00m Draw\n\u001b[32m      4\u001b[39m \u001b[38;5;28;01mfrom\u001b[39;00m\u001b[38;5;250m \u001b[39m\u001b[34;01mtime\u001b[39;00m\u001b[38;5;250m \u001b[39m\u001b[38;5;28;01mimport\u001b[39;00m sleep\n\u001b[32m----> \u001b[39m\u001b[32m5\u001b[39m \u001b[38;5;28;01mimport\u001b[39;00m\u001b[38;5;250m \u001b[39m\u001b[34;01msympy\u001b[39;00m\u001b[38;5;250m \u001b[39m\u001b[38;5;28;01mas\u001b[39;00m\u001b[38;5;250m \u001b[39m\u001b[34;01msym\u001b[39;00m\n",
      "\u001b[31mModuleNotFoundError\u001b[39m: No module named 'sympy'"
     ]
    }
   ],
   "source": [
    "from ngsolve import *\n",
    "from netgen.occ import *\n",
    "from ngsolve.webgui import Draw\n",
    "from time import sleep\n",
    "import sympy as sym"
   ]
  },
  {
   "cell_type": "code",
   "execution_count": 3,
   "id": "7ed4b436-a7fa-4345-bff4-51d4f13ae5e3",
   "metadata": {},
   "outputs": [
    {
     "data": {
      "application/vnd.jupyter.widget-view+json": {
       "model_id": "525d76e4e27d42f29f3640f1be9e7e49",
       "version_major": 2,
       "version_minor": 0
      },
      "text/plain": [
       "WebGuiWidget(layout=Layout(height='50vh', width='100%'), value={'ngsolve_version': 'Netgen x.x', 'mesh_dim': 3…"
      ]
     },
     "metadata": {},
     "output_type": "display_data"
    }
   ],
   "source": [
    "omega = 50\n",
    "epsr = 5\n",
    "thick = 0.04\n",
    "\n",
    "rect = Rectangle(1,1).Face()\n",
    "rect.edges.name=\"outer\"\n",
    "\n",
    "f = HalfSpace(Pnt(0,0,0), Vec(0,0,1)).faces[0]\n",
    "curve = MoveTo(-0.1,0.8).Line(0.7).Arc(0.2,-90).Line(0.5) \\\n",
    "    .Finish().Wire()\n",
    "thickcurve = curve.Offset(f, thick/2, 'arc', False)\n",
    "\n",
    "strip = Face(Wire(thickcurve.edges))\n",
    "board = rect-strip\n",
    "strip = rect*strip\n",
    "\n",
    "strip.faces.col=[1,0,0]\n",
    "board.faces.col=[0,0,1]\n",
    "strip.faces.name=\"strip\"\n",
    "board.faces.name=\"board\"\n",
    "\n",
    "shape = Glue([strip, board])\n",
    "Draw (shape);"
   ]
  },
  {
   "cell_type": "code",
   "execution_count": 4,
   "id": "801e92e7-8651-47c8-a4a4-34fa6c03b8c9",
   "metadata": {},
   "outputs": [
    {
     "data": {
      "application/vnd.jupyter.widget-view+json": {
       "model_id": "37125c7aa9e341f4bd552848f549d011",
       "version_major": 2,
       "version_minor": 0
      },
      "text/plain": [
       "WebGuiWidget(layout=Layout(height='50vh', width='100%'), value={'gui_settings': {}, 'ngsolve_version': '6.2.25…"
      ]
     },
     "metadata": {},
     "output_type": "display_data"
    }
   ],
   "source": [
    "mesh = Mesh(OCCGeometry(shape, dim=2).GenerateMesh(maxh=0.01)).Curve(3)\n",
    "Draw (mesh);"
   ]
  },
  {
   "cell_type": "code",
   "execution_count": null,
   "id": "1729cedb-35ef-4241-8e54-6559cf184e6a",
   "metadata": {},
   "outputs": [],
   "source": [
    "ky1 = sym.symbols('ky1')\n",
    "ky1 = float(sym.nsolve( ky1**2 * (1+sym.tan(ky1*thick/2)**2) - (epsr-1)*omega**2, ky1, sqrt(epsr-1)*omega))\n",
    "\n",
    "kx = sqrt( epsr*omega**2 - ky1**2 )\n",
    "ky2 = sqrt (kx**2-omega**2)\n",
    "\n",
    "print (\"kx = \", kx, \"ky1 =\", ky1, \", ky2 = \", ky2)"
   ]
  }
 ],
 "metadata": {
  "kernelspec": {
   "display_name": "Python 3 (ipykernel)",
   "language": "python",
   "name": "python3"
  },
  "language_info": {
   "codemirror_mode": {
    "name": "ipython",
    "version": 3
   },
   "file_extension": ".py",
   "mimetype": "text/x-python",
   "name": "python",
   "nbconvert_exporter": "python",
   "pygments_lexer": "ipython3",
   "version": "3.13.2"
  }
 },
 "nbformat": 4,
 "nbformat_minor": 5
}
