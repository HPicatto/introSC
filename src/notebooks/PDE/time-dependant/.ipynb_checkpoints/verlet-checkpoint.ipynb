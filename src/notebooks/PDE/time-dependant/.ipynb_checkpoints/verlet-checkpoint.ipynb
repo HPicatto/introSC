{
 "cells": [
  {
   "cell_type": "code",
   "execution_count": 11,
   "id": "1d91a6bd-c3bf-48de-9838-60e19fe21226",
   "metadata": {},
   "outputs": [],
   "source": [
    "from ngsolve import *\n",
    "from ngsolve.webgui import Draw\n",
    "from netgen.occ import unit_square\n",
    "from time import sleep, time\n",
    "\n",
    "maxh = 0.15\n",
    "\n",
    "mesh = unit_square.GenerateMesh(maxh=maxh)\n",
    "for l in range(4): \n",
    "    mesh.Refine()\n",
    "    maxh /= 2\n",
    "mesh = Mesh(mesh)\n",
    "# Draw (mesh)"
   ]
  },
  {
   "cell_type": "code",
   "execution_count": 2,
   "id": "9675413b-24de-41f0-85c1-cfe615167a22",
   "metadata": {},
   "outputs": [],
   "source": [
    "order=2   # order=1 or order=2 is supported\n",
    "\n",
    "tau = maxh / (5*order)\n",
    "tend = 2\n",
    "u0 = exp(-50**2*( (x-0.5)**2 + (y-0.5)**2))\n",
    "v0 = 0\n",
    "\n",
    "fes = H1LumpingFESpace(mesh, order=order)  \n",
    "u,v = fes.TnT()\n",
    "\n",
    "mform = u*v*dx(intrules=fes.GetIntegrationRules())\n",
    "aform = grad(u)*grad(v)*dx\n",
    "\n",
    "m = BilinearForm(mform, diagonal=True).Assemble()\n",
    "a = BilinearForm(aform).Assemble()\n",
    "minv = m.mat.Inverse(fes.FreeDofs())  \n",
    "\n",
    "# or, in short:\n",
    "# minv = fes.Mass(rho=1).Inverse()"
   ]
  },
  {
   "cell_type": "code",
   "execution_count": 4,
   "id": "c382a046-ceb3-44f2-90b5-96c0986b145a",
   "metadata": {},
   "outputs": [
    {
     "data": {
      "application/vnd.jupyter.widget-view+json": {
       "model_id": "0c5bb6129d6d4bf0bd6651dc4f372363",
       "version_major": 2,
       "version_minor": 0
      },
      "text/plain": [
       "WebGuiWidget(layout=Layout(height='50vh', width='100%'), value={'gui_settings': {'camera': {'euler_angles': [-…"
      ]
     },
     "metadata": {},
     "output_type": "display_data"
    }
   ],
   "source": [
    "gfu = GridFunction(fes)\n",
    "gfu.Set(u0)\n",
    "\n",
    "scene = Draw(gfu, order=order, deformation=True, scale=3, euler_angles=[-60,0,-40])\n",
    "sleep (2)\n",
    "unew = gfu.vec.CreateVector()\n",
    "uold = gfu.vec.CreateVector()\n",
    "uold.data = gfu.vec\n",
    "\n",
    "with TaskManager(): \n",
    "    for n in range(int(tend/tau)):\n",
    "        unew.data = 2*gfu.vec - uold \n",
    "        unew.data -= tau**2 * minv@a.mat * gfu.vec\n",
    "        uold.data = gfu.vec\n",
    "        gfu.vec.data = unew.data\n",
    "        if n % 100 == 0:\n",
    "            scene.Redraw()\n",
    "\n",
    "scene.Redraw()"
   ]
  },
  {
   "cell_type": "markdown",
   "id": "8e21a601-c9f8-4efd-a7e7-b113303df918",
   "metadata": {},
   "source": [
    "## Try gaussian initial conditions"
   ]
  },
  {
   "cell_type": "code",
   "execution_count": 5,
   "id": "71079059-524d-47db-b447-801ce9ffd06f",
   "metadata": {},
   "outputs": [],
   "source": [
    "order=2   # order=1 or order=2 is supported\n",
    "\n",
    "tau = maxh / (5*order)\n",
    "tend = 2\n",
    "k = 3\n",
    "u0 = sin(k*y)*exp(-25*(x*x + y*y))\n",
    "v0 = k*cos(k*y)*exp(-25*(x*x + y*y))\n",
    "\n",
    "\n",
    "fes = H1LumpingFESpace(mesh, order=order)  \n",
    "u,v = fes.TnT()\n",
    "\n",
    "mform = u*v*dx(intrules=fes.GetIntegrationRules())\n",
    "aform = grad(u)*grad(v)*dx\n",
    "\n",
    "m = BilinearForm(mform, diagonal=True).Assemble()\n",
    "a = BilinearForm(aform).Assemble()\n",
    "minv = m.mat.Inverse(fes.FreeDofs())  \n",
    "\n",
    "# or, in short:\n",
    "# minv = fes.Mass(rho=1).Inverse()"
   ]
  },
  {
   "cell_type": "code",
   "execution_count": 16,
   "id": "cd11618f-3b53-4410-8d1c-0930b484ec70",
   "metadata": {},
   "outputs": [
    {
     "data": {
      "application/vnd.jupyter.widget-view+json": {
       "model_id": "7dba8ab8143a4dbcba12f42f8c190925",
       "version_major": 2,
       "version_minor": 0
      },
      "text/plain": [
       "WebGuiWidget(layout=Layout(height='50vh', width='100%'), value={'gui_settings': {'camera': {'euler_angles': [-…"
      ]
     },
     "metadata": {},
     "output_type": "display_data"
    }
   ],
   "source": [
    "gfu = GridFunction(fes)\n",
    "gfu.Set(u0)\n",
    "\n",
    "scene = Draw(gfu, order=order, deformation=True, scale=3, euler_angles=[-60,0,-40])\n",
    "sleep (2)\n",
    "unew = gfu.vec.CreateVector()\n",
    "uold = gfu.vec.CreateVector()\n",
    "uold.data = gfu.vec\n",
    "\n",
    "with TaskManager(): \n",
    "    for n in range(int(tend/tau)):\n",
    "        unew.data = 2*gfu.vec - uold \n",
    "        unew.data -= tau**2 * minv@a.mat * gfu.vec\n",
    "        uold.data = gfu.vec\n",
    "        gfu.vec.data = unew.data\n",
    "        if n % 100 == 0:\n",
    "            scene.Redraw()\n",
    "\n",
    "scene.Redraw()"
   ]
  },
  {
   "cell_type": "code",
   "execution_count": 13,
   "id": "48124883-2023-4035-bbda-ae98409119e1",
   "metadata": {},
   "outputs": [],
   "source": [
    "order=2   # order=1 or order=2 is supported\n",
    "\n",
    "tau = maxh / (5*order)\n",
    "tend = 2\n",
    "u0 = exp(-50**2*( (x-0.5)**2 + (y-0.5)**2))\n",
    "v0 = 0\n",
    "\n",
    "fes = H1LumpingFESpace(mesh, order=order)\n",
    "u, v = fes.TnT()\n",
    "\n",
    "mform = 1 * u*v*dx(intrules=fes.GetIntegrationRules())  # no IfPos here\n",
    "m = BilinearForm(mform, diagonal=True).Assemble()\n",
    "\n",
    "aform = grad(u)*grad(v)*dx\n",
    "a = BilinearForm(aform).Assemble()\n",
    "\n",
    "minv = m.mat.Inverse(fes.FreeDofs())  # invert diagonal M\n",
    "\n",
    "u0 = exp(-50**2*((x-0.5)**2 + (y-0.5)**2))  # same as your code\n",
    "gf_n1 = GridFunction(fes)\n",
    "gf_n1.Set(u0)\n",
    "\n",
    "unew = gf_n1.vec.CreateVector()\n",
    "uold = gf_n1.vec.CreateVector()\n",
    "uold.data = gf_n1.vec\n",
    "\n",
    "nsteps = int(tend / tau)\n",
    "for n in range(nsteps):\n",
    "    unew.data = 2*gf_n1.vec - uold\n",
    "    unew.data -= tau**2 * minv@a.mat * gfu.vec\n",
    "    uold.data = gf_n1.vec\n",
    "    gf_n1.vec.data = unew.data\n"
   ]
  },
  {
   "cell_type": "code",
   "execution_count": 14,
   "id": "17eb72e3-1e22-42b6-988e-003177b018f8",
   "metadata": {},
   "outputs": [],
   "source": [
    "fes = H1LumpingFESpace(mesh, order=order)\n",
    "u, v = fes.TnT()\n",
    "\n",
    "n2 = IfPos(x, 4, 1)\n",
    "mform = n2 * u*v*dx(intrules=fes.GetIntegrationRules())\n",
    "m = BilinearForm(mform, diagonal=True).Assemble()\n",
    "\n",
    "aform = grad(u)*grad(v)*dx\n",
    "a = BilinearForm(aform).Assemble()\n",
    "\n",
    "minv = m.mat.Inverse(fes.FreeDofs())\n",
    "\n",
    "# same initial condition\n",
    "gfn2_0 = exp(-50**2*((x-0.5)**2 + (y-0.5)**2))\n",
    "gf_n2 = GridFunction(fes)\n",
    "gf_n2.Set(gfn2_0)\n",
    "\n",
    "unew = gf_n2.vec.CreateVector()\n",
    "uold = gf_n2.vec.CreateVector()\n",
    "uold.data = gf_n2.vec\n",
    "\n",
    "nsteps = int(tend / tau)\n",
    "for n in range(nsteps):\n",
    "    unew.data = 2*gf_n2.vec - uold\n",
    "    unew.data -= tau**2 * minv@a.mat * gfu.vec\n",
    "    uold.data = gf_n2.vec\n",
    "    gf_n2.vec.data = unew.data\n",
    "\n",
    "# Done. gf_n2 now holds the final solution with piecewise n^2.\n"
   ]
  },
  {
   "cell_type": "code",
   "execution_count": 15,
   "id": "52a6a0c7-934d-4bbb-99c8-570412ffc7ed",
   "metadata": {},
   "outputs": [
    {
     "data": {
      "application/vnd.jupyter.widget-view+json": {
       "model_id": "0c1ef235d05f45efba2df09017fafb5d",
       "version_major": 2,
       "version_minor": 0
      },
      "text/plain": [
       "WebGuiWidget(layout=Layout(height='50vh', width='100%'), value={'gui_settings': {}, 'ngsolve_version': '6.2.25…"
      ]
     },
     "metadata": {},
     "output_type": "display_data"
    },
    {
     "data": {
      "text/plain": [
       "BaseWebGuiScene"
      ]
     },
     "execution_count": 15,
     "metadata": {},
     "output_type": "execute_result"
    }
   ],
   "source": [
    "diff = GridFunction(fes)\n",
    "diff.vec.data = gf_n2.vec - gf_n1.vec\n",
    "Draw(diff, mesh, \"difference_n2\")"
   ]
  },
  {
   "cell_type": "markdown",
   "id": "cd7663e3-0cb4-4cbe-9da7-25053ee62443",
   "metadata": {},
   "source": [
    "## Try problems in 3D"
   ]
  },
  {
   "cell_type": "code",
   "execution_count": 19,
   "id": "f321804c-ad7e-426a-9739-b6fbdf016355",
   "metadata": {},
   "outputs": [
    {
     "data": {
      "application/vnd.jupyter.widget-view+json": {
       "model_id": "f43abefc6a2f4d839fed9d5f0ae17a8e",
       "version_major": 2,
       "version_minor": 0
      },
      "text/plain": [
       "WebGuiWidget(layout=Layout(height='50vh', width='100%'), value={'gui_settings': {'camera': {'euler_angles': [-…"
      ]
     },
     "metadata": {},
     "output_type": "display_data"
    }
   ],
   "source": [
    "maxh = 0.2\n",
    "ng3dmesh = unit_cube.GenerateMesh(maxh=maxh)\n",
    "mesh = Mesh(ng3dmesh)\n",
    "order = 1\n",
    "tau = maxh / (5*order)\n",
    "tend = 1.5\n",
    "u0 = exp(-50**2 * ((x-0.5)**2 + (y-0.5)**2 + (z-0.5)**2))\n",
    "\n",
    "fes = H1LumpingFESpace(mesh, order=order)\n",
    "u, v = fes.TnT()\n",
    "\n",
    "mform = u*v*dx(intrules=fes.GetIntegrationRules())\n",
    "m = BilinearForm(mform, diagonal=True).Assemble()\n",
    "\n",
    "aform = grad(u)*grad(v)*dx\n",
    "a = BilinearForm(aform).Assemble()\n",
    "\n",
    "minv = m.mat.Inverse(fes.FreeDofs())  # diagonal inverse\n",
    "\n",
    "gfu = GridFunction(fes)\n",
    "gfu.Set(u0)\n",
    "\n",
    "scene = Draw(gfu, mesh, order=order, \n",
    "             deformation=True, scale=1, \n",
    "             euler_angles=[-60,0,-40])\n",
    "sleep(1)\n",
    "\n",
    "unew = gfu.vec.CreateVector()\n",
    "uold = gfu.vec.CreateVector()\n",
    "\n",
    "uold.data = gfu.vec\n",
    "\n",
    "nsteps = int(tend / tau)\n",
    "with TaskManager():\n",
    "    for n in range(nsteps):\n",
    "        # u^{n+1} = 2*u^n - u^{n-1} - τ^2 * M^-1 * A * u^n\n",
    "        tempvec = gfu.vec.CreateVector()\n",
    "        tempvec.data = a.mat * gfu.vec\n",
    "        unew.data = 2*gfu.vec - uold\n",
    "        unew.data -= tau**2 * (minv * tempvec)\n",
    "        # shift for next iteration\n",
    "        uold.data = gfu.vec\n",
    "        gfu.vec.data = unew.data\n",
    "        if n % 50 == 0:\n",
    "            scene.Redraw()\n",
    "\n",
    "scene.Redraw()\n"
   ]
  }
 ],
 "metadata": {
  "kernelspec": {
   "display_name": "Python 3 (ipykernel)",
   "language": "python",
   "name": "python3"
  },
  "language_info": {
   "codemirror_mode": {
    "name": "ipython",
    "version": 3
   },
   "file_extension": ".py",
   "mimetype": "text/x-python",
   "name": "python",
   "nbconvert_exporter": "python",
   "pygments_lexer": "ipython3",
   "version": "3.13.2"
  }
 },
 "nbformat": 4,
 "nbformat_minor": 5
}
