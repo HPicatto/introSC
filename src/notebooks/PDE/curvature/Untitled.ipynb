{
 "cells": [
  {
   "cell_type": "code",
   "execution_count": 1,
   "id": "e35a43b6-3e5c-4c93-8d1c-d93b1ea8e0fc",
   "metadata": {},
   "outputs": [],
   "source": [
    "from netgen.occ import *\n",
    "from netgen import meshing\n",
    "from ngsolve import *\n",
    "from ngsolve.webgui import Draw\n",
    "\n",
    "MESHSURF = meshing.MeshingStep.MESHSURFACE"
   ]
  },
  {
   "cell_type": "code",
   "execution_count": 16,
   "id": "0737823c-bb5c-42a1-bc12-6ee440e0fb0b",
   "metadata": {},
   "outputs": [],
   "source": [
    "sp = Sphere(Pnt(0,0,0), r=1)\n",
    "spmesh = Mesh(OCCGeometry(sp).GenerateMesh(maxh=0.2,perfstepsend=MESHSURF))\n",
    "spmesh.Curve(2);"
   ]
  },
  {
   "cell_type": "code",
   "execution_count": 17,
   "id": "319b78db-89e9-4872-90e7-60204d0d9f60",
   "metadata": {},
   "outputs": [],
   "source": [
    "nsurf = specialcf.normal(3)\n",
    "GaussCurv = Cof(Grad(nsurf))*nsurf*nsurf"
   ]
  },
  {
   "cell_type": "code",
   "execution_count": 22,
   "id": "3122e50a-4ceb-4f2c-ac80-c82c61adec8f",
   "metadata": {},
   "outputs": [
    {
     "data": {
      "application/vnd.jupyter.widget-view+json": {
       "model_id": "0c40cb00a9b94a8785d16dfb861e078d",
       "version_major": 2,
       "version_minor": 0
      },
      "text/plain": [
       "WebGuiWidget(layout=Layout(height='50vh', width='100%'), value={'gui_settings': {}, 'ngsolve_version': '6.2.25…"
      ]
     },
     "metadata": {},
     "output_type": "display_data"
    }
   ],
   "source": [
    "Draw (GaussCurv, spmesh, min=0.9, max=1.1);"
   ]
  },
  {
   "cell_type": "code",
   "execution_count": 23,
   "id": "c8b6a3e6-9ee2-470c-b08b-20679f5b01cd",
   "metadata": {},
   "outputs": [
    {
     "name": "stdout",
     "output_type": "stream",
     "text": [
      "integrated curvature: 0.9785248353112735\n"
     ]
    }
   ],
   "source": [
    "print (\"integrated curvature:\",\n",
    "       Integrate (GaussCurv, spmesh.Boundaries(\".*\")) / (4*pi))"
   ]
  },
  {
   "cell_type": "markdown",
   "id": "d0538790-43a5-4b4a-8499-a2fa718a0276",
   "metadata": {},
   "source": [
    "## CYLINDER"
   ]
  },
  {
   "cell_type": "code",
   "execution_count": 6,
   "id": "b314abb2-6d59-43e7-aca3-5ba984a4b9f1",
   "metadata": {},
   "outputs": [
    {
     "data": {
      "application/vnd.jupyter.widget-view+json": {
       "model_id": "4770b7297ae94732814ee7bee9c69df1",
       "version_major": 2,
       "version_minor": 0
      },
      "text/plain": [
       "WebGuiWidget(layout=Layout(height='50vh', width='100%'), value={'gui_settings': {}, 'ngsolve_version': '6.2.25…"
      ]
     },
     "metadata": {},
     "output_type": "display_data"
    }
   ],
   "source": [
    "cyl = Cylinder( (0,0,0), Z, r=1, h = 2)\n",
    "cylmesh = Mesh(OCCGeometry(cyl).GenerateMesh(maxh=0.2,perfstepsend=MESHSURF)).Curve(5)\n",
    "Draw (GaussCurv, cylmesh, min=-0.0001, max=0.0001);"
   ]
  }
 ],
 "metadata": {
  "kernelspec": {
   "display_name": "Python 3 (ipykernel)",
   "language": "python",
   "name": "python3"
  },
  "language_info": {
   "codemirror_mode": {
    "name": "ipython",
    "version": 3
   },
   "file_extension": ".py",
   "mimetype": "text/x-python",
   "name": "python",
   "nbconvert_exporter": "python",
   "pygments_lexer": "ipython3",
   "version": "3.13.3"
  }
 },
 "nbformat": 4,
 "nbformat_minor": 5
}
