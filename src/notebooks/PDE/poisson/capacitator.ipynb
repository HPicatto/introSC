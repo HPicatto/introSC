{
 "cells": [
  {
   "cell_type": "code",
   "execution_count": 2,
   "id": "348295f1-b023-43dc-be51-491bb61bc2a8",
   "metadata": {},
   "outputs": [],
   "source": [
    "from ngsolve import *\n",
    "from netgen.occ import *\n",
    "from ngsolve.webgui import Draw"
   ]
  },
  {
   "cell_type": "code",
   "execution_count": 3,
   "id": "6179e558-9cb8-43eb-9947-cde73a2bb4ab",
   "metadata": {},
   "outputs": [],
   "source": [
    "def MakeMesh():\n",
    "    shape = MoveTo(0,0).RectangleC(20,20) \\\n",
    "        .MoveTo(0,1).RectangleC(5,0.5, \"el1\").Reverse() \\\n",
    "        .MoveTo(0,-1).RectangleC(5,0.5, \"el2\").Reverse() \\\n",
    "        .Face()\n",
    "    shape.edges[\"el.*\"].vertices.hpref=1\n",
    "    mesh = Mesh(OCCGeometry(shape, dim=2).GenerateMesh(maxh=2))\n",
    "    return shape,mesh"
   ]
  },
  {
   "cell_type": "code",
   "execution_count": 4,
   "id": "147547e7-106d-4b0a-b93e-8aa7201039d0",
   "metadata": {},
   "outputs": [
    {
     "data": {
      "application/vnd.jupyter.widget-view+json": {
       "model_id": "144dc2e6f6f645278b516192d5e26d99",
       "version_major": 2,
       "version_minor": 0
      },
      "text/plain": [
       "WebGuiWidget(layout=Layout(height='50vh', width='100%'), value={'ngsolve_version': 'Netgen x.x', 'mesh_dim': 3…"
      ]
     },
     "metadata": {},
     "output_type": "display_data"
    },
    {
     "data": {
      "application/vnd.jupyter.widget-view+json": {
       "model_id": "b72ae0f0bfa74fafa4c569ad2dafd206",
       "version_major": 2,
       "version_minor": 0
      },
      "text/plain": [
       "WebGuiWidget(layout=Layout(height='50vh', width='100%'), value={'gui_settings': {}, 'ngsolve_version': '6.2.25…"
      ]
     },
     "metadata": {},
     "output_type": "display_data"
    }
   ],
   "source": [
    "geo, mesh = MakeMesh()\n",
    "Draw (geo)\n",
    "Draw (mesh);"
   ]
  },
  {
   "cell_type": "code",
   "execution_count": 5,
   "id": "55dfe026-c76e-4aa6-8681-6648f371d356",
   "metadata": {},
   "outputs": [
    {
     "data": {
      "application/vnd.jupyter.widget-view+json": {
       "model_id": "1a5c58b3e80e43c0b0113e28b8f16678",
       "version_major": 2,
       "version_minor": 0
      },
      "text/plain": [
       "WebGuiWidget(layout=Layout(height='50vh', width='100%'), value={'gui_settings': {'camera': {'euler_angles': [-…"
      ]
     },
     "metadata": {},
     "output_type": "display_data"
    }
   ],
   "source": [
    "eps0 = 8.854e-12\n",
    "\n",
    "def SolveProblem(mesh):\n",
    "    fes = H1(mesh, order=5, dirichlet=\"el.*\")\n",
    "    u,v = fes.TnT()\n",
    "\n",
    "    gfu = GridFunction(fes)\n",
    "    gfu.Interpolate( mesh.BoundaryCF( {\"el1\":1, \"el2\":-1 }), mesh.Boundaries(\".*\"))\n",
    "\n",
    "    a = BilinearForm(eps0*grad(u)*grad(v)*dx).Assemble()\n",
    "    inv = a.mat.Inverse(freedofs=fes.FreeDofs())\n",
    "    gfu.vec.data -= inv@a.mat * gfu.vec\n",
    "    return gfu\n",
    "\n",
    "gfu = SolveProblem(mesh)\n",
    "\n",
    "ea = { \"euler_angles\" : [-70,0,-40]} \n",
    "Draw (gfu, deformation=True, scale=5, **ea);"
   ]
  },
  {
   "cell_type": "code",
   "execution_count": 6,
   "id": "bb1fcfee-6225-4dbb-b9a5-597cb625af95",
   "metadata": {},
   "outputs": [
    {
     "data": {
      "application/vnd.jupyter.widget-view+json": {
       "model_id": "2c2744dc891c4738865d6514a4ee6de8",
       "version_major": 2,
       "version_minor": 0
      },
      "text/plain": [
       "WebGuiWidget(layout=Layout(height='50vh', width='100%'), value={'gui_settings': {'camera': {'euler_angles': [-…"
      ]
     },
     "metadata": {},
     "output_type": "display_data"
    }
   ],
   "source": [
    "Draw (Norm(grad(gfu)), mesh, order=3, deformation=True, min=0, max=3, **ea);"
   ]
  },
  {
   "cell_type": "code",
   "execution_count": 7,
   "id": "368f2ecf-d759-4a23-a3a4-de65320d88e0",
   "metadata": {},
   "outputs": [
    {
     "data": {
      "application/vnd.jupyter.widget-view+json": {
       "model_id": "f9e2369b7f484180a19525ce9472a1a4",
       "version_major": 2,
       "version_minor": 0
      },
      "text/plain": [
       "WebGuiWidget(layout=Layout(height='50vh', width='100%'), value={'gui_settings': {'camera': {'euler_angles': [-…"
      ]
     },
     "metadata": {},
     "output_type": "display_data"
    },
    {
     "data": {
      "application/vnd.jupyter.widget-view+json": {
       "model_id": "16151077236d4db5b7c5edfaf88126b1",
       "version_major": 2,
       "version_minor": 0
      },
      "text/plain": [
       "WebGuiWidget(layout=Layout(height='50vh', width='100%'), value={'gui_settings': {'camera': {'euler_angles': [-…"
      ]
     },
     "metadata": {},
     "output_type": "display_data"
    }
   ],
   "source": [
    "geo, mesh = MakeMesh()\n",
    "mesh.RefineHP(3, 0.25)\n",
    "gfu = SolveProblem(mesh)\n",
    "Draw (gfu, deformation=True, scale=5, **ea)\n",
    "Draw (Norm(grad(gfu)), mesh, order=3, deformation=True, min=0, max=3, **ea);"
   ]
  },
  {
   "cell_type": "code",
   "execution_count": 13,
   "id": "fbd62af3-1e29-4253-ab33-576d7053e886",
   "metadata": {},
   "outputs": [
    {
     "data": {
      "application/vnd.jupyter.widget-view+json": {
       "model_id": "8191eba673964a799bb2dbc0de06ff1a",
       "version_major": 2,
       "version_minor": 0
      },
      "text/plain": [
       "WebGuiWidget(layout=Layout(height='50vh', width='100%'), value={'ngsolve_version': 'Netgen x.x', 'mesh_dim': 3…"
      ]
     },
     "metadata": {},
     "output_type": "display_data"
    },
    {
     "data": {
      "application/vnd.jupyter.widget-view+json": {
       "model_id": "ac6071d495844f9698c9026a4a56a660",
       "version_major": 2,
       "version_minor": 0
      },
      "text/plain": [
       "WebGuiWidget(layout=Layout(height='50vh', width='100%'), value={'gui_settings': {}, 'ngsolve_version': '6.2.25…"
      ]
     },
     "metadata": {},
     "output_type": "display_data"
    }
   ],
   "source": [
    "geo, mesh = MakeMeshRounded()\n",
    "Draw(geo)\n",
    "Draw (mesh);"
   ]
  },
  {
   "cell_type": "code",
   "execution_count": 10,
   "id": "94e4a6a6-67e2-42ad-839d-2e30533167a0",
   "metadata": {},
   "outputs": [
    {
     "data": {
      "application/vnd.jupyter.widget-view+json": {
       "model_id": "1631d2ac14924eb8bc5d7504a29a36bd",
       "version_major": 2,
       "version_minor": 0
      },
      "text/plain": [
       "WebGuiWidget(layout=Layout(height='50vh', width='100%'), value={'gui_settings': {'camera': {'euler_angles': [-…"
      ]
     },
     "metadata": {},
     "output_type": "display_data"
    },
    {
     "data": {
      "application/vnd.jupyter.widget-view+json": {
       "model_id": "7e0cd3ec54e240ad8c7ae4d6b75c79ad",
       "version_major": 2,
       "version_minor": 0
      },
      "text/plain": [
       "WebGuiWidget(layout=Layout(height='50vh', width='100%'), value={'gui_settings': {'camera': {'euler_angles': [-…"
      ]
     },
     "metadata": {},
     "output_type": "display_data"
    }
   ],
   "source": [
    "gfu = SolveProblem(mesh)\n",
    "Draw (gfu, deformation=True, scale=5, **ea)\n",
    "Draw (Norm(grad(gfu)), mesh, order=3, deformation=True, min=0, max=2, **ea);"
   ]
  },
  {
   "cell_type": "code",
   "execution_count": 11,
   "id": "27a05f7d-7922-4c15-9a8f-709229ed0f5b",
   "metadata": {},
   "outputs": [
    {
     "data": {
      "application/vnd.jupyter.widget-view+json": {
       "model_id": "1ef7b9e1f35b4321b4d60d0bb4977efe",
       "version_major": 2,
       "version_minor": 0
      },
      "text/plain": [
       "WebGuiWidget(layout=Layout(height='50vh', width='100%'), value={'gui_settings': {}, 'ngsolve_version': '6.2.25…"
      ]
     },
     "metadata": {},
     "output_type": "display_data"
    },
    {
     "data": {
      "application/vnd.jupyter.widget-view+json": {
       "model_id": "591437504ade453292616fba1219f94f",
       "version_major": 2,
       "version_minor": 0
      },
      "text/plain": [
       "WebGuiWidget(layout=Layout(height='50vh', width='100%'), value={'gui_settings': {'camera': {'euler_angles': [-…"
      ]
     },
     "metadata": {},
     "output_type": "display_data"
    },
    {
     "data": {
      "application/vnd.jupyter.widget-view+json": {
       "model_id": "1a3a0e5f1a1b43ffb1f7d874f61f3dd0",
       "version_major": 2,
       "version_minor": 0
      },
      "text/plain": [
       "WebGuiWidget(layout=Layout(height='50vh', width='100%'), value={'gui_settings': {'camera': {'euler_angles': [-…"
      ]
     },
     "metadata": {},
     "output_type": "display_data"
    }
   ],
   "source": [
    "geo, mesh = MakeMeshRounded()\n",
    "mesh.Curve(5)\n",
    "\n",
    "Draw (mesh)\n",
    "gfu = SolveProblem(mesh)\n",
    "Draw (gfu, deformation=True, scale=5, **ea)\n",
    "Draw (Norm(grad(gfu)), mesh, order=3, deformation=True, min=0, max=3, **ea);"
   ]
  },
  {
   "cell_type": "markdown",
   "id": "c31d1715-be7b-423a-8865-e8faf4da7aa5",
   "metadata": {},
   "source": [
    "## Exercise"
   ]
  },
  {
   "cell_type": "code",
   "execution_count": null,
   "id": "381a4689-6bed-4976-a04f-b7a46110ba99",
   "metadata": {},
   "outputs": [],
   "source": [
    "Compute the total energy in the electrostatic field \n",
    " "
   ]
  },
  {
   "cell_type": "code",
   "execution_count": 18,
   "id": "e50bce49-ac82-4961-9481-92d18ee6075f",
   "metadata": {},
   "outputs": [
    {
     "ename": "AttributeError",
     "evalue": "'netgen.libngpy._NgOCC.WorkPlane' object has no attribute 'edges'",
     "output_type": "error",
     "traceback": [
      "\u001b[31m---------------------------------------------------------------------------\u001b[39m",
      "\u001b[31mAttributeError\u001b[39m                            Traceback (most recent call last)",
      "\u001b[36mCell\u001b[39m\u001b[36m \u001b[39m\u001b[32mIn[18]\u001b[39m\u001b[32m, line 23\u001b[39m\n\u001b[32m     20\u001b[39m     \u001b[38;5;28;01mreturn\u001b[39;00m gfu, energy\n\u001b[32m     22\u001b[39m rect_el1 = MoveTo(-\u001b[32m0.4\u001b[39m,  \u001b[32m0.3\u001b[39m).Rectangle(\u001b[32m0.8\u001b[39m, \u001b[32m0.1\u001b[39m)\n\u001b[32m---> \u001b[39m\u001b[32m23\u001b[39m \u001b[43mrect_el1\u001b[49m\u001b[43m.\u001b[49m\u001b[43medges\u001b[49m.name = \u001b[33m\"\u001b[39m\u001b[33mel1\u001b[39m\u001b[33m\"\u001b[39m  \u001b[38;5;66;03m# <--- name the boundary edges\u001b[39;00m\n\u001b[32m     24\u001b[39m el1 = rect_el1.Face()\n\u001b[32m     25\u001b[39m rect_el2 = MoveTo(-\u001b[32m0.4\u001b[39m, -\u001b[32m0.4\u001b[39m).Rectangle(\u001b[32m0.8\u001b[39m, \u001b[32m0.1\u001b[39m)\n",
      "\u001b[31mAttributeError\u001b[39m: 'netgen.libngpy._NgOCC.WorkPlane' object has no attribute 'edges'"
     ]
    }
   ],
   "source": [
    "def SolveElectroStatic(shape, order, refs, other_info=False):\n",
    "    mesh = Mesh(OCCGeometry(shape, dim=2).GenerateMesh(maxh=3))\n",
    "    for l in range(refs):\n",
    "        mesh.Refine()\n",
    "\n",
    "    fes = H1(mesh, order=order, dirichlet=\"el.*\")\n",
    "    gfu = GridFunction(fes)\n",
    "\n",
    "    u, v = fes.TnT()\n",
    "    eps0 = 8.854e-12\n",
    "    a = BilinearForm(eps0*grad(u)*grad(v)*dx).Assemble()\n",
    "    f = LinearForm(fes).Assemble()\n",
    "\n",
    "    bc = mesh.BoundaryCF({\"el1\": 1, \"el2\": -1}, default=0)\n",
    "    gfu.Set(bc, definedon=mesh.Boundaries(\"el.*\"))\n",
    "\n",
    "    gfu.vec.data += a.mat.Inverse(fes.FreeDofs()) * (f.vec - a.mat * gfu.vec)\n",
    "\n",
    "    energy = 0.5 * InnerProduct(a.mat*gfu.vec, gfu.vec)\n",
    "    return gfu, energy\n",
    "    \n",
    "rect_el1 = MoveTo(-0.4,  0.3).Rectangle(0.8, 0.1)\n",
    "rect_el1.edges.name = \"el1\"  # <--- name the boundary edges\n",
    "el1 = rect_el1.Face()\n",
    "rect_el2 = MoveTo(-0.4, -0.4).Rectangle(0.8, 0.1)\n",
    "rect_el2.edges.name = \"el2\"  # <--- name the boundary edges\n",
    "el2 = rect_el2.Face()\n",
    "outer = MoveTo(-5, -5).Rectangle(10, 10).Face()\n",
    "shape = outer - el1 - el2\n",
    "order = 3\n",
    "refs  = 1\n",
    "gfu, energy = SolveElectroStatic(shape, order=order, refs=refs, other_info=True)\n",
    "print(\"Computed electrostatic energy =\", energy)\n"
   ]
  },
  {
   "cell_type": "code",
   "execution_count": 12,
   "id": "fbc8163d-9dd1-4915-8833-a0f40bf8cd0e",
   "metadata": {},
   "outputs": [
    {
     "name": "stdout",
     "output_type": "stream",
     "text": [
      "Total charge on electrode el1 = -9.194763738508046e-43\n",
      "Total charge on electrode el2 = 7.457520084934101e-44\n"
     ]
    }
   ],
   "source": [
    "n = specialcf.normal(2)\n",
    "D = eps0 * grad(gfu)\n",
    "sigma = D*n   # i.e. normal flux\n",
    "\n",
    "Q_el1 = Integrate(sigma, mesh, definedon=mesh.Boundaries(\"el1\"))\n",
    "print(\"Total charge on electrode el1 =\", Q_el1)\n",
    "\n",
    "Q_el2 = Integrate(sigma, mesh, definedon=mesh.Boundaries(\"el2\"))\n",
    "print(\"Total charge on electrode el2 =\", Q_el2)\n"
   ]
  }
 ],
 "metadata": {
  "kernelspec": {
   "display_name": "Python 3 (ipykernel)",
   "language": "python",
   "name": "python3"
  },
  "language_info": {
   "codemirror_mode": {
    "name": "ipython",
    "version": 3
   },
   "file_extension": ".py",
   "mimetype": "text/x-python",
   "name": "python",
   "nbconvert_exporter": "python",
   "pygments_lexer": "ipython3",
   "version": "3.13.2"
  }
 },
 "nbformat": 4,
 "nbformat_minor": 5
}
