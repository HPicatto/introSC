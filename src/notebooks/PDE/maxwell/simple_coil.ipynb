{
 "cells": [
  {
   "cell_type": "markdown",
   "id": "af0feecd-84c2-4aee-a718-c7eb46e3aa2c",
   "metadata": {},
   "source": [
    "# A simple coil\n",
    "\n",
    "We model a current density in a cylindrical coil, and simulate the magnetic field caused by this current."
   ]
  },
  {
   "cell_type": "code",
   "execution_count": 1,
   "id": "f8c7e7df-bca9-45a9-ba85-f61c677c1e18",
   "metadata": {},
   "outputs": [],
   "source": [
    "from ngsolve import *\n",
    "from netgen.occ import *\n",
    "from ngsolve.webgui import Draw, FieldLines"
   ]
  },
  {
   "cell_type": "code",
   "execution_count": 2,
   "id": "9b1a3d55-d76e-43ee-89d1-db719667c8d6",
   "metadata": {},
   "outputs": [
    {
     "data": {
      "application/vnd.jupyter.widget-view+json": {
       "model_id": "707a65ebcf13416ca91ee46935ea7090",
       "version_major": 2,
       "version_minor": 0
      },
      "text/plain": [
       "WebGuiWidget(layout=Layout(height='50vh', width='100%'), value={'ngsolve_version': 'Netgen x.x', 'mesh_dim': 3…"
      ]
     },
     "metadata": {},
     "output_type": "display_data"
    }
   ],
   "source": [
    "coil = Cylinder(Axes((0,0,-0.4),Z), r=0.4, h=0.8) - \\\n",
    "     Cylinder(Axes((0,0,-0.4),Z), r=0.2, h=0.8)\n",
    "coil.solids.name=\"coil\"\n",
    "coil.faces.col=(1,0,0)\n",
    "coil.faces.maxh=0.1\n",
    "\n",
    "box = Box((-2,-2,-2), (2,2,2) )\n",
    "box.faces.col=(0,0,1,0.5)\n",
    "box.faces.name=\"outer\"\n",
    "\n",
    "air = box-coil\n",
    "air.solids.name=\"air\"\n",
    "\n",
    "shape = Glue([coil,air])\n",
    "\n",
    "ea = { \"euler_angles\" : (-60, 0, -11) }\n",
    "Draw (shape, **ea);"
   ]
  },
  {
   "cell_type": "code",
   "execution_count": 3,
   "id": "97ce30d3-f770-457c-95f4-f26b576853d3",
   "metadata": {},
   "outputs": [
    {
     "data": {
      "application/vnd.jupyter.widget-view+json": {
       "model_id": "d9629d1ad2a345e58cfc91a92c6c9c22",
       "version_major": 2,
       "version_minor": 0
      },
      "text/plain": [
       "WebGuiWidget(layout=Layout(height='50vh', width='100%'), value={'gui_settings': {'camera': {'euler_angles': (-…"
      ]
     },
     "metadata": {},
     "output_type": "display_data"
    }
   ],
   "source": [
    "mesh = Mesh(OCCGeometry(shape).GenerateMesh(maxh=0.5)).Curve(3)\n",
    "Draw (mesh, **ea);"
   ]
  },
  {
   "cell_type": "markdown",
   "id": "dab8a4e6-abd9-4e75-b37e-626b44bdd084",
   "metadata": {},
   "source": [
    "The variational formulation for the magnetic vector-potential is: find $u \\in H(\\operatorname{curl})$\n",
    "\n",
    "$$\n",
    "\\int \\mu^{-1} \\operatorname{curl} u \\, \\operatorname{curl} v \\, dx = \\int j v \\, dx\n",
    "\\qquad \\forall \\, v\n",
    "$$"
   ]
  },
  {
   "cell_type": "code",
   "execution_count": 4,
   "id": "00063250-e12c-4bc2-b3f6-ea2936b6bf4e",
   "metadata": {},
   "outputs": [],
   "source": [
    "fes = HCurl(mesh, order=3, dirichlet=\"outer\")\n",
    "u,v = fes.TnT()\n",
    "\n",
    "mu = 4*pi*1e-7\n",
    "a = BilinearForm(1/mu*curl(u)*curl(v)*dx + 1e-6/mu*u*v*dx)\n",
    "pre = preconditioners.BDDC(a)\n",
    "a.Assemble()\n",
    "\n",
    "inv = solvers.CGSolver(a.mat, pre.mat, plotrates=True)"
   ]
  },
  {
   "cell_type": "markdown",
   "id": "3264d163-85cf-4dc9-bd3e-679021eef625",
   "metadata": {},
   "source": [
    "The current in the coil consisting of many turns is modeled as homogeneous current density:\n",
    "$$\n",
    "    j = \\frac{N I}{A} \\tau\n",
    "$$\n",
    "with number of turns $N$, current $I$, coil crosssection $A$, and $\\tau$ is a normalized vectorfield in azimuthal direction."
   ]
  },
  {
   "cell_type": "code",
   "execution_count": 5,
   "id": "36d02113-0b66-48da-9c80-c56e2a8b4e9b",
   "metadata": {},
   "outputs": [],
   "source": [
    "tau = CF((y,-x,0))\n",
    "tau = tau/Norm(tau)\n",
    "\n",
    "N = 1000 # turns\n",
    "I = 1  # current\n",
    "crosssection = 0.2*0.8\n",
    "j = N*I/crosssection\n",
    "\n",
    "f = LinearForm(j*tau*v*dx(\"coil\", bonus_intorder=6)).Assemble()"
   ]
  },
  {
   "cell_type": "code",
   "execution_count": 6,
   "id": "0076528b-0e23-4382-91ce-c6f0e38abb64",
   "metadata": {},
   "outputs": [
    {
     "data": {
      "image/png": "[encoded data removed]",
      "text/plain": [
       "<Figure size 640x480 with 1 Axes>"
      ]
     },
     "metadata": {},
     "output_type": "display_data"
    },
    {
     "data": {
      "text/plain": [
       "<Figure size 640x480 with 0 Axes>"
      ]
     },
     "metadata": {},
     "output_type": "display_data"
    }
   ],
   "source": [
    "gfu = GridFunction(fes)\n",
    "gfu.vec.data = inv*f.vec"
   ]
  },
  {
   "cell_type": "code",
   "execution_count": 7,
   "id": "469347d6-4fd7-4404-9acc-d999263dbd22",
   "metadata": {},
   "outputs": [
    {
     "data": {
      "application/vnd.jupyter.widget-view+json": {
       "model_id": "62826226ca0843dfb963b739e131a58e",
       "version_major": 2,
       "version_minor": 0
      },
      "text/plain": [
       "WebGuiWidget(layout=Layout(height='50vh', width='100%'), value={'gui_settings': {'Objects': {'Surface': False,…"
      ]
     },
     "metadata": {},
     "output_type": "display_data"
    }
   ],
   "source": [
    "ea = { \"euler_angles\" : (-60, 0, -11) }\n",
    "clipping = { \"clipping\" : { \"y\":1, \"z\":0, \"dist\":0.5} }\n",
    "\n",
    "fieldlines = FieldLines(curl(gfu), mesh.Materials(\".*\"), length=2, num_lines=100)\n",
    "\n",
    "Draw(curl(gfu), mesh,  \"X\", draw_vol=False, draw_surf=True, objects=[fieldlines], \\\n",
    "     min=0, max=5e-4, autoscale=False, settings={\"Objects\": {\"Surface\": False, \"Wireframe\": False}},\n",
    "    **ea); # , **clipping);"
   ]
  },
  {
   "cell_type": "code",
   "execution_count": null,
   "id": "b18a0220-ed43-40bf-82ac-96c7ce1cd2cd",
   "metadata": {},
   "outputs": [],
   "source": []
  },
  {
   "cell_type": "code",
   "execution_count": null,
   "id": "c59fad7c-b417-4537-b2d3-0420199f3365",
   "metadata": {},
   "outputs": [],
   "source": []
  },
  {
   "cell_type": "code",
   "execution_count": null,
   "id": "17a124b4-735f-4590-869d-befc9af313fd",
   "metadata": {},
   "outputs": [],
   "source": []
  },
  {
   "cell_type": "markdown",
   "id": "333bee5c-71af-430d-8e30-c072aa4c880f",
   "metadata": {},
   "source": [
    "## Permanent magnet"
   ]
  },
  {
   "cell_type": "code",
   "execution_count": 28,
   "id": "292db54b-46c6-4af6-b770-400daca830b1",
   "metadata": {},
   "outputs": [
    {
     "data": {
      "application/vnd.jupyter.widget-view+json": {
       "model_id": "8ac05e9f61164eeaab42c6138b1bfd85",
       "version_major": 2,
       "version_minor": 0
      },
      "text/plain": [
       "WebGuiWidget(layout=Layout(height='50vh', width='100%'), value={'ngsolve_version': 'Netgen x.x', 'mesh_dim': 3…"
      ]
     },
     "metadata": {},
     "output_type": "display_data"
    }
   ],
   "source": [
    "from ngsolve import *\n",
    "from netgen.occ import *\n",
    "from ngsolve.webgui import Draw, FieldLines\n",
    "import math # For pi\n",
    "\n",
    "# --- 1. Geometry Definition ---\n",
    "\n",
    "magnet_radius = 0.2\n",
    "magnet_height = 0.8\n",
    "magnet_center_z = -0.4\n",
    "magnet = Cylinder(Axes((0,0,magnet_center_z), Z), r=magnet_radius, h=magnet_height)\n",
    "magnet.solids.name=\"magnet\"\n",
    "magnet.faces.col=(0.5, 0.5, 0.6)\n",
    "\n",
    "box_size = 2\n",
    "air_box = Box((-box_size,-box_size,-box_size), (box_size,box_size,box_size))\n",
    "air_box.faces.name=\"outer\" \n",
    "air_box.faces.col=(0,0,1,0.1)\n",
    "\n",
    "air = air_box - magnet\n",
    "air.solids.name=\"air\"\n",
    "\n",
    "shape = Glue([magnet, air])\n",
    "\n",
    "ea = { \"euler_angles\" : (-60, 0, -11) }\n",
    "Draw (shape, **ea);"
   ]
  },
  {
   "cell_type": "code",
   "execution_count": 35,
   "id": "97640bd2-8963-4b97-b341-43e71efcc069",
   "metadata": {},
   "outputs": [
    {
     "data": {
      "application/vnd.jupyter.widget-view+json": {
       "model_id": "a62217e72e304e6e91bcf0bd821527ea",
       "version_major": 2,
       "version_minor": 0
      },
      "text/plain": [
       "WebGuiWidget(layout=Layout(height='50vh', width='100%'), value={'gui_settings': {'camera': {'euler_angles': (-…"
      ]
     },
     "metadata": {},
     "output_type": "display_data"
    }
   ],
   "source": [
    "geo = OCCGeometry(shape)\n",
    "mesh = Mesh(geo.GenerateMesh(maxh=0.5)).Curve(3)\n",
    "Draw (mesh, **ea);\n"
   ]
  },
  {
   "cell_type": "code",
   "execution_count": 30,
   "id": "ec344086-5084-41ef-be8b-85b2f9f86273",
   "metadata": {},
   "outputs": [],
   "source": [
    "fes = HCurl(mesh, order=3, dirichlet=\"outer\")\n",
    "u, v = fes.TnT()\n",
    "\n",
    "mu0 = 4 * math.pi * 1e-7 # Permeability of free space\n",
    "\n",
    "M_magnitude = 1e6 # Magnetization strength in A/m\n",
    "\n",
    "M = CoefficientFunction(IfPos(mesh.MaterialCF({\"magnet\": 1}, default=0),\n",
    "                              (0, 0, M_magnitude), # Value if in \"magnet\"\n",
    "                              (0, 0, 0)))          # Value otherwise (in \"air\")\n",
    "\n",
    "eps_reg = 1e-6 # Regularization parameter\n",
    "a = BilinearForm(fes)\n",
    "a += (1/mu0) * curl(u) * curl(v) * dx\n",
    "a += (eps_reg/mu0) * u * v * dx # Regularization term\n",
    "\n",
    "f = LinearForm(fes)\n",
    "f += M * curl(v) * dx\n",
    "\n",
    "pre = preconditioners.BDDC(a)\n",
    "\n",
    "a.Assemble()\n",
    "f.Assemble()\n",
    "pre.Update()\n"
   ]
  },
  {
   "cell_type": "code",
   "execution_count": 37,
   "id": "e04ec7ee-e931-4efd-aec0-cc52b9ffe791",
   "metadata": {},
   "outputs": [
    {
     "data": {
      "image/png": "[encoded data removed]",
      "text/plain": [
       "<Figure size 640x480 with 1 Axes>"
      ]
     },
     "metadata": {},
     "output_type": "display_data"
    }
   ],
   "source": [
    "gfu_A = GridFunction(fes)\n",
    "inv = solvers.CGSolver(a.mat, pre.mat, maxiter=500, tol=1e-6, plotrates=True)\n",
    "gfu_A.vec.data = inv * f.vec"
   ]
  },
  {
   "cell_type": "code",
   "execution_count": 32,
   "id": "e8ccdb17-d9f8-48e6-a895-d0c4e84a481b",
   "metadata": {},
   "outputs": [],
   "source": [
    "B = curl(gfu_A)\n",
    "ea = { \"euler_angles\" : (-60, 0, -11) }\n",
    "clipping = { \"clipping\" : { \"y\":1, \"z\":0, \"dist\":0.5} }\n",
    "box_lim = box_size * 0.8\n",
    "N_lines = 10"
   ]
  },
  {
   "cell_type": "code",
   "execution_count": 33,
   "id": "6db85cb6-0dce-4e80-8ee0-5fe5cda16b4d",
   "metadata": {},
   "outputs": [
    {
     "data": {
      "application/vnd.jupyter.widget-view+json": {
       "model_id": "76bd1af4b4c24f108e30069b629f3af0",
       "version_major": 2,
       "version_minor": 0
      },
      "text/plain": [
       "WebGuiWidget(layout=Layout(height='50vh', width='100%'), value={'gui_settings': {'Objects': {'Surface': False,…"
      ]
     },
     "metadata": {},
     "output_type": "display_data"
    }
   ],
   "source": [
    "fieldlines = FieldLines(B, mesh.Materials(\".*\"), length=box_size*1.5, num_lines=100)\n",
    "Draw(B, mesh, \"B_magnitude\", draw_vol=False, draw_surf=True, objects=[fieldlines],\n",
    "     min=0, max=M_magnitude*mu0*0.1, autoscale=False, # Adjust max value based on expected field\n",
    "     settings={\"Objects\": {\"Surface\": False, \"Wireframe\": False}}, # Hide mesh surface\n",
    "     **ea); #, **clipping); # Optional clipping"
   ]
  },
  {
   "cell_type": "code",
   "execution_count": 34,
   "id": "18322eca-d597-4fd8-be07-c927748c7c6c",
   "metadata": {},
   "outputs": [
    {
     "data": {
      "application/vnd.jupyter.widget-view+json": {
       "model_id": "a95587ee98e24b289c0f145eaec64cf3",
       "version_major": 2,
       "version_minor": 0
      },
      "text/plain": [
       "WebGuiWidget(layout=Layout(height='50vh', width='100%'), value={'gui_settings': {'camera': {'euler_angles': (-…"
      ]
     },
     "metadata": {},
     "output_type": "display_data"
    }
   ],
   "source": [
    "Draw (B, mesh, draw_surf=False,\n",
    "       min=0, max=M_magnitude*mu0*0.1, clipping = { \"y\":1, \"z\" : 0, \"function\":False},\n",
    "       vectors = { \"grid_size\":30}, **ea);\n"
   ]
  },
  {
   "cell_type": "markdown",
   "id": "e53550a2-aa9c-4d27-a4d7-9b10b7c7dd2e",
   "metadata": {},
   "source": [
    "## Coil with iron core"
   ]
  },
  {
   "cell_type": "code",
   "execution_count": 39,
   "id": "72edd3f4-f43c-4f54-b17b-421e005cdf18",
   "metadata": {},
   "outputs": [],
   "source": [
    "from ngsolve import *\n",
    "from netgen.occ import *\n",
    "from ngsolve.webgui import Draw, FieldLines\n",
    "import math\n",
    "\n",
    "coil_inner_radius = 0.2\n",
    "coil_outer_radius = 0.4\n",
    "coil_height = 0.8\n",
    "coil_center_z = -0.4 # Center the coil vertically\n",
    "core_radius = coil_inner_radius # Core fills the inside of the coil\n",
    "\n",
    "core = Cylinder(Axes((0,0,coil_center_z), Z), r=core_radius, h=coil_height)\n",
    "core.solids.name=\"core\"\n",
    "core.faces.col=(0.7, 0.7, 0.7)\n",
    "\n",
    "coil_outer_cyl = Cylinder(Axes((0,0,coil_center_z), Z), r=coil_outer_radius, h=coil_height)\n",
    "coil = coil_outer_cyl - core\n",
    "coil.solids.name=\"coil\"\n",
    "coil.faces.col=(0.8, 0.5, 0.2)\n",
    "coil.faces.maxh=0.1\n",
    "\n",
    "box_size = 2\n",
    "air_box = Box((-box_size,-box_size,-box_size), (box_size,box_size,box_size))\n",
    "air_box.faces.name=\"outer\"\n",
    "air_box.faces.col=(0,0,1,0.1)\n",
    "\n",
    "air = air_box - coil - core\n",
    "air.solids.name=\"air\"\n",
    "\n",
    "shape = Glue([core, coil, air])"
   ]
  },
  {
   "cell_type": "code",
   "execution_count": 40,
   "id": "5a3ddf50-f516-4b49-a770-288dbeff15e9",
   "metadata": {},
   "outputs": [
    {
     "data": {
      "application/vnd.jupyter.widget-view+json": {
       "model_id": "ce4bab5a69a94d598286b78a919d3f0f",
       "version_major": 2,
       "version_minor": 0
      },
      "text/plain": [
       "WebGuiWidget(layout=Layout(height='50vh', width='100%'), value={'ngsolve_version': 'Netgen x.x', 'mesh_dim': 3…"
      ]
     },
     "metadata": {},
     "output_type": "display_data"
    }
   ],
   "source": [
    "ea = { \"euler_angles\" : (-60, 0, -11) }\n",
    "Draw (shape, **ea);"
   ]
  },
  {
   "cell_type": "code",
   "execution_count": 43,
   "id": "5e8f121d-acac-43b6-a51e-4ab036eccbb1",
   "metadata": {},
   "outputs": [],
   "source": [
    "geo = OCCGeometry(shape)\n",
    "mesh = Mesh(geo.GenerateMesh(maxh=0.5)).Curve(3)\n",
    "fes = HCurl(mesh, order=3, dirichlet=\"outer\")"
   ]
  },
  {
   "cell_type": "code",
   "execution_count": 44,
   "id": "960f8413-70b3-4ca0-a763-7b19876b2701",
   "metadata": {},
   "outputs": [],
   "source": [
    "u, v = fes.TnT()\n",
    "\n",
    "mu0 = 4 * math.pi * 1e-7 # Permeability of free space\n",
    "mu_r_iron = 10000        # Relative permeability of the iron core\n",
    "\n",
    "# mu = mu_r * mu_0 in core, mu = mu_0 elsewhere\n",
    "mu = CoefficientFunction(IfPos(mesh.MaterialCF({\"core\": mu_r_iron}, default=1),\n",
    "                               mu0 * mesh.MaterialCF({\"core\": mu_r_iron}, default=1),\n",
    "                               mu0))\n",
    "inv_mu = 1/mu\n",
    "\n",
    "tau = CoefficientFunction((y,-x,0))\n",
    "tau_normalized = tau / Norm(tau)\n",
    "\n",
    "N_turns = 1000\n",
    "Current = 1"
   ]
  },
  {
   "cell_type": "code",
   "execution_count": 45,
   "id": "bb9e3762-fe65-41ce-bf1b-464850ff793b",
   "metadata": {},
   "outputs": [],
   "source": [
    "coil_cross_section_area = math.pi * (coil_outer_radius**2 - coil_inner_radius**2)\n",
    "j_magnitude = N_turns * Current / coil_cross_section_area\n",
    "\n",
    "j = CoefficientFunction(IfPos(mesh.MaterialCF({\"coil\": 1}, default=0),\n",
    "                              j_magnitude * tau_normalized,\n",
    "                              (0, 0, 0)))"
   ]
  },
  {
   "cell_type": "code",
   "execution_count": 46,
   "id": "aa2a9187-73da-4919-8800-49d1243ca6f5",
   "metadata": {},
   "outputs": [],
   "source": [
    "eps_reg = 1e-6 # Regularization parameter\n",
    "a = BilinearForm(fes)\n",
    "a += inv_mu * curl(u) * curl(v) * dx\n",
    "\n",
    "a += eps_reg * inv_mu * u * v * dx\n",
    "\n",
    "\n",
    "f = LinearForm(fes)\n",
    "f += j * v * dx(definedon=mesh.Materials(\"coil\"))\n",
    "\n",
    "pre = preconditioners.BDDC(a)\n",
    "\n",
    "a.Assemble()\n",
    "f.Assemble()\n",
    "pre.Update()"
   ]
  },
  {
   "cell_type": "code",
   "execution_count": 47,
   "id": "cbd02a06-674a-41c5-801d-0aa12ab223fd",
   "metadata": {},
   "outputs": [
    {
     "data": {
      "image/png": "[encoded data removed]",
      "text/plain": [
       "<Figure size 640x480 with 1 Axes>"
      ]
     },
     "metadata": {},
     "output_type": "display_data"
    }
   ],
   "source": [
    "gfu_A = GridFunction(fes)\n",
    "inv = solvers.CGSolver(a.mat, pre.mat, plotrates=True, maxsteps=1000, tol=1e-6)\n",
    "gfu_A.vec.data = inv * f.vec"
   ]
  },
  {
   "cell_type": "code",
   "execution_count": 48,
   "id": "8a7e597d-90f4-43e6-9fab-915f363916a6",
   "metadata": {},
   "outputs": [],
   "source": [
    "B = curl(gfu_A)\n",
    "ea = { \"euler_angles\" : (-60, 0, -11) }\n",
    "clipping = { \"clipping\" : { \"y\":1, \"z\":0, \"dist\":0.5} }\n",
    "fieldlines = FieldLines(B, mesh.Materials(\".*\"), length=box_size*1.5, num_lines=150) # More lines"
   ]
  },
  {
   "cell_type": "code",
   "execution_count": 49,
   "id": "db409e96-ea03-4af9-8663-336643bef9df",
   "metadata": {},
   "outputs": [
    {
     "data": {
      "application/vnd.jupyter.widget-view+json": {
       "model_id": "ecadf74d67d343699aa6600d8b9bc089",
       "version_major": 2,
       "version_minor": 0
      },
      "text/plain": [
       "WebGuiWidget(layout=Layout(height='50vh', width='100%'), value={'gui_settings': {'Objects': {'Surface': False,…"
      ]
     },
     "metadata": {},
     "output_type": "display_data"
    }
   ],
   "source": [
    "max_B_expected = mu0 * mu_r_iron * j_magnitude * (coil_outer_radius - coil_inner_radius) * 0.1 # Rough estimate\n",
    "Draw(B, mesh, \"B_magnitude\", draw_vol=False, draw_surf=True, objects=[fieldlines],\n",
    "     min=0, max=max_B_expected, autoscale=False,\n",
    "     logarithmic=True,\n",
    "     settings={\"Objects\": {\"Surface\": False, \"Wireframe\": False}},\n",
    "     **ea);\n"
   ]
  },
  {
   "cell_type": "code",
   "execution_count": 50,
   "id": "50b6aa1b-a22c-4986-82e7-2785979efdd9",
   "metadata": {},
   "outputs": [
    {
     "data": {
      "application/vnd.jupyter.widget-view+json": {
       "model_id": "a95b4ba31b59430fa91ccc3149a507dd",
       "version_major": 2,
       "version_minor": 0
      },
      "text/plain": [
       "WebGuiWidget(layout=Layout(height='50vh', width='100%'), value={'gui_settings': {'camera': {'euler_angles': (-…"
      ]
     },
     "metadata": {},
     "output_type": "display_data"
    }
   ],
   "source": [
    "Draw (B, mesh, draw_surf=False,\n",
    "      min=0, max=max_B_expected, clipping = { \"y\":1, \"z\" : 0, \"function\":False},\n",
    "      logarithmic=True, vectors = { \"grid_size\":30}, **ea);\n"
   ]
  },
  {
   "cell_type": "markdown",
   "id": "625de886-5366-4731-984e-1aebf8e96241",
   "metadata": {},
   "source": [
    "## Model a simple transformer"
   ]
  },
  {
   "cell_type": "code",
   "execution_count": 96,
   "id": "8882b2eb-6004-409c-96e5-92e1f16c712c",
   "metadata": {},
   "outputs": [
    {
     "data": {
      "application/vnd.jupyter.widget-view+json": {
       "model_id": "8094c001005646dc924040a1cba12ec0",
       "version_major": 2,
       "version_minor": 0
      },
      "text/plain": [
       "WebGuiWidget(layout=Layout(height='50vh', width='100%'), value={'ngsolve_version': 'Netgen x.x', 'mesh_dim': 3…"
      ]
     },
     "metadata": {},
     "output_type": "display_data"
    }
   ],
   "source": [
    "from ngsolve import *\n",
    "from netgen.occ import *\n",
    "from ngsolve.webgui import Draw, FieldLines\n",
    "import math\n",
    "\n",
    "coil_inner_radius = 0.2\n",
    "coil_outer_radius = 0.4\n",
    "coil_height = 0.8\n",
    "# Center the height around z=0\n",
    "coil_z_min = -coil_height / 2\n",
    "coil_z_max = coil_height / 2\n",
    "core_radius = coil_inner_radius\n",
    "\n",
    "# Define separation distance between core centers\n",
    "core_separation = 1.0\n",
    "\n",
    "# Calculate centered positions for cores\n",
    "core1_center_y = -core_separation / 2\n",
    "core2_center_y = core_separation / 2\n",
    "\n",
    "# Core 1 (centered at y = -separation/2)\n",
    "core1 = Cylinder(Axes((0, core1_center_y, coil_z_min), Z), r=core_radius, h=coil_height)\n",
    "core1.solids.name=\"core\" # Keep material name consistent for properties\n",
    "core1.solids.col = (0.6, 0.6, 0.7) # Grey\n",
    "\n",
    "# Core 2 (centered at y = +separation/2)\n",
    "core2 = Cylinder(Axes((0, core2_center_y, coil_z_min), Z), r=core_radius, h=coil_height)\n",
    "core2.solids.name=\"core\" # Keep material name consistent\n",
    "core2.solids.col = (0.6, 0.6, 0.7) # Grey\n",
    "\n",
    "# --- Add Top and Bottom Yokes ---\n",
    "yoke_thickness = 0.2 # Thickness of the yokes in Z\n",
    "yoke_width = 2 * core_radius # Width of the yokes in X (match core diameter)\n",
    "\n",
    "# Bottom Yoke (bar1)\n",
    "yoke_bottom_z_center = coil_z_min - yoke_thickness / 2\n",
    "yoke_bottom = Box( (-yoke_width/2, core1_center_y-.5, yoke_bottom_z_center - yoke_thickness/2),\n",
    "                   ( yoke_width/2, core2_center_y+.5, yoke_bottom_z_center + yoke_thickness/2) )\n",
    "yoke_bottom.solids.name = \"core\"\n",
    "yoke_bottom.solids.col = (0.6, 0.6, 0.7) # Grey\n",
    "\n",
    "# Top Yoke (bar2)\n",
    "yoke_top_z_center = coil_z_max + yoke_thickness / 2\n",
    "yoke_top = Box( (-yoke_width/2, core1_center_y-.5, yoke_top_z_center - yoke_thickness/2),\n",
    "                ( yoke_width/2, core2_center_y+.5, yoke_top_z_center + yoke_thickness/2) )\n",
    "yoke_top.solids.name = \"core\"\n",
    "yoke_top.solids.col = (0.6, 0.6, 0.7) # Grey\n",
    "\n",
    "# --- Define Coils (around original core positions) ---\n",
    "# Coil 1 (around where Core 1 was)\n",
    "coil1_outer_cyl = Cylinder(Axes((0, core1_center_y, coil_z_min), Z), r=coil_outer_radius, h=coil_height)\n",
    "# Subtract the core1 shape to ensure no overlap\n",
    "temp_core1_shape = Cylinder(Axes((0, core1_center_y, coil_z_min), Z), r=core_radius, h=coil_height) # Recreate for subtraction\n",
    "coil1 = coil1_outer_cyl - temp_core1_shape\n",
    "coil1.solids.name=\"coil1\" # Primary coil\n",
    "coil1.faces.col=(0.8, 0.5, 0.2) # Copper color\n",
    "coil1.faces.maxh=0.1\n",
    "\n",
    "# Coil 2 (around where Core 2 was)\n",
    "coil2_outer_cyl = Cylinder(Axes((0, core2_center_y, coil_z_min), Z), r=coil_outer_radius, h=coil_height)\n",
    "temp_core2_shape = Cylinder(Axes((0, core2_center_y, coil_z_min), Z), r=core_radius, h=coil_height) # Recreate for subtraction\n",
    "coil2 = coil2_outer_cyl - temp_core2_shape\n",
    "coil2.solids.name=\"coil2\" # Secondary coil\n",
    "coil2.faces.col=(0.9, 0.6, 0.3) # Lighter Copper color\n",
    "coil2.faces.maxh=0.1\n",
    "\n",
    "# --- Define Air Box centered around origin ---\n",
    "box_margin = 0.5 # Margin around the structure\n",
    "box_hx = yoke_width/2 + box_margin # Half-width in x based on yoke\n",
    "box_hy = core_separation / 2 + coil_outer_radius + box_margin # Half-width in y\n",
    "# Adjust half-height based on yoke position\n",
    "box_hz = yoke_top_z_center + yoke_thickness/2 + box_margin\n",
    "\n",
    "air_box = Box((-box_hx, -box_hy, -box_hz), (box_hx, box_hy, box_hz))\n",
    "air_box.faces.name=\"outer\"\n",
    "air_box.faces.col=(0,0,1,0.1) # Transparent blue\n",
    "\n",
    "air = air_box - core1 - core2 - yoke_bottom - yoke_top - coil1 - coil2\n",
    "air.solids.name=\"air\"\n",
    "\n",
    "shape = Glue([core1, core2, yoke_bottom, yoke_top, coil1, coil2, air])\n",
    "\n",
    "ea = { \"euler_angles\" : (-60, 0, -11) }\n",
    "Draw (shape, **ea);\n"
   ]
  },
  {
   "cell_type": "code",
   "execution_count": 97,
   "id": "9732cc39-c740-4f3f-b1a2-8a401e84dd0a",
   "metadata": {},
   "outputs": [
    {
     "data": {
      "application/vnd.jupyter.widget-view+json": {
       "model_id": "9ce37773a44f41a6a409588477e8376e",
       "version_major": 2,
       "version_minor": 0
      },
      "text/plain": [
       "WebGuiWidget(layout=Layout(height='50vh', width='100%'), value={'gui_settings': {'camera': {'euler_angles': (-…"
      ]
     },
     "metadata": {},
     "output_type": "display_data"
    }
   ],
   "source": [
    "geo = OCCGeometry(shape)\n",
    "mesh = Mesh(geo.GenerateMesh(maxh=0.2)).Curve(3) # Adjusted maxh\n",
    "Draw (mesh, **ea); # Uncomment to view mesh"
   ]
  },
  {
   "cell_type": "code",
   "execution_count": 98,
   "id": "d745f77e-6340-4592-a606-2de60f6c5b9a",
   "metadata": {},
   "outputs": [],
   "source": [
    "fes = HCurl(mesh, order=2, dirichlet=\"outer\") # Order 2 for faster computation\n",
    "u, v = fes.TnT()\n",
    "mu0 = 4 * math.pi * 1e-7 # Permeability of free space\n",
    "mu_r_iron = 4000         # Relative permeability of the iron core\n",
    "mu = CoefficientFunction(IfPos(mesh.MaterialCF({\"core\": mu_r_iron}, default=1),\n",
    "                               mu0 * mesh.MaterialCF({\"core\": mu_r_iron}, default=1),\n",
    "                               mu0))\n",
    "inv_mu = 1/mu\n",
    "N_primary = 200\n",
    "primary_current = 1\n",
    "\n",
    "coil1_cross_section_area = math.pi * (coil_outer_radius**2 - coil_inner_radius**2)\n",
    "coil1_cross_section_area = max(coil1_cross_section_area, 1e-9) # Avoid division by zero\n",
    "j1_magnitude = N_primary * primary_current / coil1_cross_section_area"
   ]
  },
  {
   "cell_type": "code",
   "execution_count": 102,
   "id": "7592c6ec-6e68-4e3d-911d-d1314e43c647",
   "metadata": {},
   "outputs": [],
   "source": [
    "tau1 = CoefficientFunction((-(y-core1_center_y), x, 0)) # Shifted center for rotation\n",
    "norm_tau1 = Norm(tau1)\n",
    "tau1_normalized = IfPos(norm_tau1 - 1e-12, tau1 / norm_tau1, CoefficientFunction((0,0,0))) # Add small value to avoid Norm(0) at center\n",
    "# Source current density - ONLY in coil1\n",
    "j_source = CoefficientFunction(IfPos(mesh.MaterialCF({\"coil1\": 1}, default=0),\n",
    "                                     j1_magnitude * tau1_normalized,\n",
    "                                     (0,0,0) ))\n",
    "\n",
    "a = BilinearForm(fes)\n",
    "a += ( inv_mu * curl(u) * curl(v) ) * dx  # Magnetic energy term\n",
    "eps_reg = 1e-6\n",
    "a += eps_reg * inv_mu * u * v * dx\n",
    "\n",
    "f = LinearForm(fes)\n",
    "f += j_source * v * dx(definedon=mesh.Materials(\"coil1\"))\n",
    "pre = preconditioners.BDDC(a)\n",
    "\n",
    "a.Assemble()\n",
    "f.Assemble()\n",
    "pre.Update()"
   ]
  },
  {
   "cell_type": "code",
   "execution_count": 103,
   "id": "c4867f54-8192-408a-9a4a-01af8115805c",
   "metadata": {},
   "outputs": [
    {
     "data": {
      "image/png": "[encoded data removed]",
      "text/plain": [
       "<Figure size 640x480 with 1 Axes>"
      ]
     },
     "metadata": {},
     "output_type": "display_data"
    }
   ],
   "source": [
    "gfu_A = GridFunction(fes) # Grid function for static A\n",
    "inv = solvers.CGSolver(a.mat, pre.mat, tol=1e-6, maxsteps=2000, plotrates=True)\n",
    "gfu_A.vec.data = inv * f.vec"
   ]
  },
  {
   "cell_type": "code",
   "execution_count": 109,
   "id": "96575f4b-750a-4ef9-9c2a-124a1da2edf7",
   "metadata": {},
   "outputs": [
    {
     "data": {
      "application/vnd.jupyter.widget-view+json": {
       "model_id": "a38602d760e84530988bf062858acf80",
       "version_major": 2,
       "version_minor": 0
      },
      "text/plain": [
       "WebGuiWidget(layout=Layout(height='50vh', width='100%'), value={'gui_settings': {'Objects': {'Surface': False,…"
      ]
     },
     "metadata": {},
     "output_type": "display_data"
    }
   ],
   "source": [
    "B = curl(gfu_A)\n",
    "B_mag = Norm(B)\n",
    "fieldlines = FieldLines(B, mesh.Materials(\".*\"), length=1.5, num_lines=200)\n",
    "Draw(B_mag, mesh, \"|B|\", draw_vol=False, draw_surf=True, objects=[fieldlines],\n",
    "     logarithmic=True, # Log scale often useful\n",
    "     settings={\"Objects\": {\"Surface\": False, \"Wireframe\": False}},\n",
    "     **ea);"
   ]
  },
  {
   "cell_type": "code",
   "execution_count": 113,
   "id": "73f58184-5b64-4dec-83b5-7c81a5e48d58",
   "metadata": {},
   "outputs": [
    {
     "data": {
      "application/vnd.jupyter.widget-view+json": {
       "model_id": "56eb5c386621462b9e96d28f834c1913",
       "version_major": 2,
       "version_minor": 0
      },
      "text/plain": [
       "WebGuiWidget(layout=Layout(height='50vh', width='100%'), value={'gui_settings': {'camera': {'euler_angles': (-…"
      ]
     },
     "metadata": {},
     "output_type": "display_data"
    }
   ],
   "source": [
    "Draw (B, mesh, draw_surf=False,\n",
    "      min=0, max=max_B_expected, clipping = { \"x\":1, \"z\" : 0, \"function\":False},\n",
    "      logarithmic=False, vectors = { \"grid_size\":10}, **ea);"
   ]
  },
  {
   "cell_type": "markdown",
   "id": "2dd00a8f-b150-4b41-9393-ca81301bb215",
   "metadata": {},
   "source": [
    "## Eddy current problem"
   ]
  },
  {
   "cell_type": "code",
   "execution_count": 117,
   "id": "01364906-5fb9-4eb3-af62-01492954cbeb",
   "metadata": {},
   "outputs": [
    {
     "data": {
      "application/vnd.jupyter.widget-view+json": {
       "model_id": "2f3f0c942608437f886bac39de52ac1d",
       "version_major": 2,
       "version_minor": 0
      },
      "text/plain": [
       "WebGuiWidget(layout=Layout(height='50vh', width='100%'), value={'ngsolve_version': 'Netgen x.x', 'mesh_dim': 3…"
      ]
     },
     "metadata": {},
     "output_type": "display_data"
    }
   ],
   "source": [
    "from ngsolve import *\n",
    "from netgen.occ import *\n",
    "from ngsolve.webgui import Draw, FieldLines\n",
    "import math\n",
    "\n",
    "coil_inner_radius = 0.2\n",
    "coil_outer_radius = 0.3 # Made coil thinner\n",
    "coil_height = 0.6\n",
    "# Center the coil height around z=0\n",
    "coil_z_min = -coil_height / 2\n",
    "coil_z_max = coil_height / 2\n",
    "coil_center_y = -0.4\n",
    "\n",
    "\n",
    "coil_cyl_outer = Cylinder(Axes((0, coil_center_y, coil_z_min), Z), r=coil_outer_radius, h=coil_height)\n",
    "coil_cyl_inner = Cylinder(Axes((0, coil_center_y, coil_z_min), Z), r=coil_inner_radius, h=coil_height)\n",
    "coil = coil_cyl_outer - coil_cyl_inner\n",
    "coil.solids.name=\"coil\"\n",
    "coil.solids.col=(0.8, 0.5, 0.2) # Copper color\n",
    "\n",
    "block_size_x = 0.3\n",
    "block_size_y = 0.3\n",
    "block_size_z = 0.6\n",
    "block_center_y = 0.4 # Position block next to coil\n",
    "block_z_min = -block_size_z / 2\n",
    "block_z_max = block_size_z / 2\n",
    "\n",
    "# Define the aluminum block\n",
    "alu_block = Box( (-block_size_x/2, block_center_y - block_size_y/2, block_z_min),\n",
    "                 ( block_size_x/2, block_center_y + block_size_y/2, block_z_max) )\n",
    "alu_block.solids.name=\"conductor\" # Name for the aluminum block\n",
    "alu_block.solids.col=(0.8, 0.8, 0.85) # Light grey/silver color\n",
    "\n",
    "\n",
    "box_margin = 0.5 # Margin around the structure\n",
    "box_hx = max(coil_outer_radius, block_size_x/2) + box_margin\n",
    "box_hy = max(abs(coil_center_y)+coil_outer_radius, abs(block_center_y)+block_size_y/2) + box_margin\n",
    "box_hz = max(coil_height/2, block_size_z/2) + box_margin\n",
    "\n",
    "air_box = Box((-box_hx, -box_hy, -box_hz), (box_hx, box_hy, box_hz))\n",
    "air_box.faces.name=\"outer\"\n",
    "air_box.faces.col=(0,0,1,0.1) # Transparent blue\n",
    "\n",
    "# Define Air Region\n",
    "# Subtract coil and block from the air box\n",
    "air = air_box - coil - alu_block\n",
    "air.solids.name=\"air\"\n",
    "\n",
    "# Glue Final Shape\n",
    "# Combine all parts\n",
    "shape = Glue([coil, alu_block, air])\n",
    "\n",
    "ea = { \"euler_angles\" : (-60, 0, -11) }\n",
    "Draw (shape, **ea);"
   ]
  },
  {
   "cell_type": "code",
   "execution_count": 119,
   "id": "c137d0c7-36bd-4d61-8070-b9c7eb7a7c82",
   "metadata": {},
   "outputs": [
    {
     "data": {
      "application/vnd.jupyter.widget-view+json": {
       "model_id": "b87593371f2e4eb6bf01f2091274413b",
       "version_major": 2,
       "version_minor": 0
      },
      "text/plain": [
       "WebGuiWidget(layout=Layout(height='50vh', width='100%'), value={'gui_settings': {'camera': {'euler_angles': (-…"
      ]
     },
     "metadata": {},
     "output_type": "display_data"
    }
   ],
   "source": [
    "geo = OCCGeometry(shape)\n",
    "mesh = Mesh(geo.GenerateMesh(maxh=0.1)).Curve(3)\n",
    "Draw (mesh, **ea);"
   ]
  },
  {
   "cell_type": "code",
   "execution_count": 120,
   "id": "d024e97e-04f1-4b01-9d9b-9a340769f2dd",
   "metadata": {},
   "outputs": [],
   "source": [
    "fes = HCurl(mesh, order=2, dirichlet=\"outer\", complex=True)\n",
    "u, v = fes.TnT() \n",
    "mu = mu0\n",
    "inv_mu = 1/mu\n",
    "sigma = mesh.MaterialCF({\"coil\": sigma_copper, \"conductor\": sigma_alu}, default=sigma_air)\n",
    "coil_cross_section_area = math.pi * (coil_outer_radius**2 - coil_inner_radius**2)\n",
    "coil_cross_section_area = max(coil_cross_section_area, 1e-9) # Avoid division by zero\n",
    "j_magnitude = N_turns * coil_current / coil_cross_section_area # Amplitude\n",
    "tau_coil = CoefficientFunction((-(y-coil_center_y), x, 0)) # Shifted center for rotation\n",
    "norm_tau_coil = Norm(tau_coil)\n",
    "tau_coil_normalized = IfPos(norm_tau_coil - 1e-12, tau_coil / norm_tau_coil, CoefficientFunction((0,0,0)))\n",
    "j_source = CoefficientFunction(IfPos(mesh.MaterialCF({\"coil\": 1}, default=0),\n",
    "                                     j_magnitude * tau_coil_normalized,\n",
    "                                     (0,0,0) ))"
   ]
  },
  {
   "cell_type": "code",
   "execution_count": 125,
   "id": "5508af1c-97b8-4fac-ae1b-61c09024a877",
   "metadata": {},
   "outputs": [],
   "source": [
    "a = BilinearForm(fes)\n",
    "a += ( 1j * omega * sigma * InnerProduct(u, v) ) * dx\n",
    "# Term from Eddy Current equation: curl(mu^-1 curl(A)) -> weak form\n",
    "a += ( inv_mu * InnerProduct(curl(u), curl(v)) ) * dx\n",
    "eps_reg = 1e-6 * inv_mu\n",
    "a += eps_reg * InnerProduct(u, v) * dx\n",
    "f = LinearForm(fes)\n",
    "# Source term from j_coil\n",
    "f += InnerProduct(j_source, v) * dx(definedon=mesh.Materials(\"coil\"))\n",
    "pre = preconditioners.BDDC(a)\n",
    "a.Assemble()\n",
    "f.Assemble()\n",
    "pre.Update()"
   ]
  },
  {
   "cell_type": "code",
   "execution_count": 129,
   "id": "3912eb84-a749-454f-9962-743c4c56deb5",
   "metadata": {},
   "outputs": [
    {
     "data": {
      "image/png": "[encoded data removed]",
      "text/plain": [
       "<Figure size 640x480 with 1 Axes>"
      ]
     },
     "metadata": {},
     "output_type": "display_data"
    }
   ],
   "source": [
    "gfu_A = GridFunction(fes)\n",
    "inv = solvers.CGSolver(a.mat, pre.mat, tol=1e-6, maxiter=3000, plotrates=True) \n",
    "gfu_A.vec.data = inv * f.vec"
   ]
  },
  {
   "cell_type": "code",
   "execution_count": 130,
   "id": "eb59396b-522e-445a-940c-01bb03f3ab86",
   "metadata": {},
   "outputs": [],
   "source": [
    "B = curl(gfu_A)\n",
    "B_mag = Norm(B) # Magnitude of complex B phasor\n",
    "sigma_cond = mesh.MaterialCF({\"conductor\": sigma_alu}, default=0)\n",
    "J_eddy = -1j * omega * sigma_cond * gfu_A\n",
    "J_eddy_mag = Norm(J_eddy) # Magnitude of complex J_eddy phasor"
   ]
  },
  {
   "cell_type": "code",
   "execution_count": 133,
   "id": "e53d8bb8-a2cf-4a5b-8b8a-e465204053c2",
   "metadata": {
    "scrolled": true
   },
   "outputs": [
    {
     "data": {
      "application/vnd.jupyter.widget-view+json": {
       "model_id": "32cf9fcbf2d24682a69b65fc110cff4a",
       "version_major": 2,
       "version_minor": 0
      },
      "text/plain": [
       "WebGuiWidget(layout=Layout(height='50vh', width='100%'), value={'gui_settings': {'Objects': {'Surface': False,…"
      ]
     },
     "metadata": {},
     "output_type": "display_data"
    }
   ],
   "source": [
    "Draw(B_mag, mesh, \"|B|\", draw_vol=True, draw_surf=True,\n",
    "     logarithmic=True,\n",
    "     settings={\"Objects\": {\"Surface\": False, \"Wireframe\": False}},\n",
    "     **ea);"
   ]
  },
  {
   "cell_type": "code",
   "execution_count": 132,
   "id": "010d6caa-96a7-41ea-838b-a70d8b710b00",
   "metadata": {},
   "outputs": [
    {
     "ename": "NgException",
     "evalue": "Try to evaluate domainwise function defined on VOL on BND\n",
     "output_type": "error",
     "traceback": [
      "\u001b[31m---------------------------------------------------------------------------\u001b[39m",
      "\u001b[31mNgException\u001b[39m                               Traceback (most recent call last)",
      "\u001b[36mCell\u001b[39m\u001b[36m \u001b[39m\u001b[32mIn[132]\u001b[39m\u001b[32m, line 1\u001b[39m\n\u001b[32m----> \u001b[39m\u001b[32m1\u001b[39m \u001b[43mDraw\u001b[49m\u001b[43m(\u001b[49m\u001b[43mJ_eddy_mag\u001b[49m\u001b[43m,\u001b[49m\u001b[43m \u001b[49m\u001b[43mmesh\u001b[49m\u001b[43m,\u001b[49m\u001b[43m \u001b[49m\u001b[33;43m\"\u001b[39;49m\u001b[33;43m|J_eddy|\u001b[39;49m\u001b[33;43m\"\u001b[39;49m\u001b[43m,\u001b[49m\u001b[43m \u001b[49m\u001b[43mclipping\u001b[49m\u001b[43m \u001b[49m\u001b[43m=\u001b[49m\u001b[43m \u001b[49m\u001b[43m{\u001b[49m\u001b[33;43m\"\u001b[39;49m\u001b[33;43mz\u001b[39;49m\u001b[33;43m\"\u001b[39;49m\u001b[43m:\u001b[49m\u001b[32;43m0\u001b[39;49m\u001b[43m,\u001b[49m\u001b[43m \u001b[49m\u001b[33;43m\"\u001b[39;49m\u001b[33;43mfunction\u001b[39;49m\u001b[33;43m\"\u001b[39;49m\u001b[43m:\u001b[49m\u001b[38;5;28;43;01mFalse\u001b[39;49;00m\u001b[43m}\u001b[49m\u001b[43m,\u001b[49m\u001b[43m \u001b[49m\u001b[38;5;66;43;03m# Clip to see inside block\u001b[39;49;00m\n\u001b[32m      2\u001b[39m \u001b[43m     \u001b[49m\u001b[43msettings\u001b[49m\u001b[43m=\u001b[49m\u001b[43m{\u001b[49m\u001b[33;43m\"\u001b[39;49m\u001b[33;43mObjects\u001b[39;49m\u001b[33;43m\"\u001b[39;49m\u001b[43m:\u001b[49m\u001b[43m \u001b[49m\u001b[43m{\u001b[49m\u001b[33;43m\"\u001b[39;49m\u001b[33;43mSurface\u001b[39;49m\u001b[33;43m\"\u001b[39;49m\u001b[43m:\u001b[49m\u001b[43m \u001b[49m\u001b[38;5;28;43;01mFalse\u001b[39;49;00m\u001b[43m,\u001b[49m\u001b[43m \u001b[49m\u001b[33;43m\"\u001b[39;49m\u001b[33;43mWireframe\u001b[39;49m\u001b[33;43m\"\u001b[39;49m\u001b[43m:\u001b[49m\u001b[43m \u001b[49m\u001b[38;5;28;43;01mFalse\u001b[39;49;00m\u001b[43m}\u001b[49m\u001b[43m}\u001b[49m\u001b[43m,\u001b[49m\n\u001b[32m      3\u001b[39m \u001b[43m     \u001b[49m\u001b[43m*\u001b[49m\u001b[43m*\u001b[49m\u001b[43mea\u001b[49m\u001b[43m)\u001b[49m;\n",
      "\u001b[36mFile \u001b[39m\u001b[32m~/noASCII/tuwien/ASC-bla/.pixi/envs/research-intro-sc/lib/python3.13/site-packages/netgen/webgui.py:417\u001b[39m, in \u001b[36mDraw\u001b[39m\u001b[34m(obj, show, *args, **kwargs)\u001b[39m\n\u001b[32m    415\u001b[39m             scene.Draw()\n\u001b[32m    416\u001b[39m         \u001b[38;5;28;01melse\u001b[39;00m:\n\u001b[32m--> \u001b[39m\u001b[32m417\u001b[39m             \u001b[43mscene\u001b[49m\u001b[43m.\u001b[49m\u001b[43mDraw\u001b[49m\u001b[43m(\u001b[49m\n\u001b[32m    418\u001b[39m \u001b[43m                \u001b[49m\u001b[43mkwargs_with_defaults\u001b[49m\u001b[43m[\u001b[49m\u001b[33;43m\"\u001b[39;49m\u001b[33;43mwidth\u001b[39;49m\u001b[33;43m\"\u001b[39;49m\u001b[43m]\u001b[49m\u001b[43m,\u001b[49m\u001b[43m \u001b[49m\u001b[43mkwargs_with_defaults\u001b[49m\u001b[43m[\u001b[49m\u001b[33;43m\"\u001b[39;49m\u001b[33;43mheight\u001b[39;49m\u001b[33;43m\"\u001b[39;49m\u001b[43m]\u001b[49m\n\u001b[32m    419\u001b[39m \u001b[43m            \u001b[49m\u001b[43m)\u001b[49m\n\u001b[32m    420\u001b[39m \u001b[38;5;28;01mif\u001b[39;00m \u001b[33m\"\u001b[39m\u001b[33mfilename\u001b[39m\u001b[33m\"\u001b[39m \u001b[38;5;129;01min\u001b[39;00m kwargs_with_defaults:\n\u001b[32m    421\u001b[39m     scene.GenerateHTML(filename=kwargs_with_defaults[\u001b[33m\"\u001b[39m\u001b[33mfilename\u001b[39m\u001b[33m\"\u001b[39m])\n",
      "\u001b[36mFile \u001b[39m\u001b[32m~/noASCII/tuwien/ASC-bla/.pixi/envs/research-intro-sc/lib/python3.13/site-packages/webgui_jupyter_widgets/widget.py:76\u001b[39m, in \u001b[36mBaseWebGuiScene.Draw\u001b[39m\u001b[34m(self, width, height)\u001b[39m\n\u001b[32m     74\u001b[39m \u001b[38;5;28mself\u001b[39m.widget = WebGuiWidget(layout=layout)\n\u001b[32m     75\u001b[39m \u001b[38;5;28mself\u001b[39m.encoding=\u001b[33m'\u001b[39m\u001b[33mbinary\u001b[39m\u001b[33m'\u001b[39m\n\u001b[32m---> \u001b[39m\u001b[32m76\u001b[39m \u001b[38;5;28mself\u001b[39m.widget.value = \u001b[38;5;28;43mself\u001b[39;49m\u001b[43m.\u001b[49m\u001b[43mGetData\u001b[49m\u001b[43m(\u001b[49m\u001b[43m)\u001b[49m\n\u001b[32m     77\u001b[39m display(\u001b[38;5;28mself\u001b[39m.widget)\n",
      "\u001b[36mFile \u001b[39m\u001b[32m~/noASCII/tuwien/ASC-bla/.pixi/envs/research-intro-sc/lib/python3.13/site-packages/netgen/webgui.py:248\u001b[39m, in \u001b[36mWebGLScene.GetData\u001b[39m\u001b[34m(self, set_minmax)\u001b[39m\n\u001b[32m    246\u001b[39m d = \u001b[38;5;28;01mNone\u001b[39;00m\n\u001b[32m    247\u001b[39m \u001b[38;5;28;01mif\u001b[39;00m \u001b[38;5;28mtype\u001b[39m(\u001b[38;5;28mself\u001b[39m.obj) \u001b[38;5;129;01min\u001b[39;00m _registered_draw_types:\n\u001b[32m--> \u001b[39m\u001b[32m248\u001b[39m     d = \u001b[43m_registered_draw_types\u001b[49m\u001b[43m[\u001b[49m\u001b[43mtyp\u001b[49m\u001b[43m]\u001b[49m\u001b[43m(\u001b[49m\u001b[38;5;28;43mself\u001b[39;49m\u001b[43m.\u001b[49m\u001b[43mobj\u001b[49m\u001b[43m,\u001b[49m\u001b[43m \u001b[49m\u001b[38;5;28;43mself\u001b[39;49m\u001b[43m.\u001b[49m\u001b[43margs\u001b[49m\u001b[43m,\u001b[49m\u001b[43m \u001b[49m\u001b[38;5;28;43mself\u001b[39;49m\u001b[43m.\u001b[49m\u001b[43mkwargs\u001b[49m\u001b[43m)\u001b[49m\n\u001b[32m    249\u001b[39m \u001b[38;5;28;01melse\u001b[39;00m:\n\u001b[32m    250\u001b[39m     \u001b[38;5;28;01mimport\u001b[39;00m\u001b[38;5;250m \u001b[39m\u001b[34;01minspect\u001b[39;00m\n",
      "\u001b[36mFile \u001b[39m\u001b[32m~/noASCII/tuwien/ASC-bla/.pixi/envs/research-intro-sc/lib/python3.13/site-packages/ngsolve/webgui.py:162\u001b[39m, in \u001b[36mGetData\u001b[39m\u001b[34m(obj, args, kwargs)\u001b[39m\n\u001b[32m    160\u001b[39m \u001b[38;5;28;01mif\u001b[39;00m \u001b[33m'\u001b[39m\u001b[33mintpoints\u001b[39m\u001b[33m'\u001b[39m \u001b[38;5;129;01mnot\u001b[39;00m \u001b[38;5;129;01min\u001b[39;00m kwargs:\n\u001b[32m    161\u001b[39m     kwargs[\u001b[33m'\u001b[39m\u001b[33mintpoints\u001b[39m\u001b[33m'\u001b[39m]  = \u001b[38;5;28;01mNone\u001b[39;00m\n\u001b[32m--> \u001b[39m\u001b[32m162\u001b[39m d = \u001b[43mBuildRenderData\u001b[49m\u001b[43m(\u001b[49m\u001b[43mmesh\u001b[49m\u001b[43m,\u001b[49m\u001b[43m \u001b[49m\u001b[43mcf\u001b[49m\u001b[43m,\u001b[49m\u001b[43m \u001b[49m\u001b[43morder\u001b[49m\u001b[43m=\u001b[49m\u001b[43mkwargs\u001b[49m\u001b[43m[\u001b[49m\u001b[33;43m'\u001b[39;49m\u001b[33;43morder\u001b[39;49m\u001b[33;43m'\u001b[39;49m\u001b[43m]\u001b[49m\u001b[43m,\u001b[49m\u001b[43m \u001b[49m\u001b[43mdraw_surf\u001b[49m\u001b[43m=\u001b[49m\u001b[43mkwargs\u001b[49m\u001b[43m[\u001b[49m\u001b[33;43m'\u001b[39;49m\u001b[33;43mdraw_surf\u001b[39;49m\u001b[33;43m'\u001b[39;49m\u001b[43m]\u001b[49m\u001b[43m,\u001b[49m\u001b[43m \u001b[49m\u001b[43mdraw_vol\u001b[49m\u001b[43m=\u001b[49m\u001b[43mkwargs\u001b[49m\u001b[43m[\u001b[49m\u001b[33;43m'\u001b[39;49m\u001b[33;43mdraw_vol\u001b[39;49m\u001b[33;43m'\u001b[39;49m\u001b[43m]\u001b[49m\u001b[43m,\u001b[49m\u001b[43m \u001b[49m\u001b[43mintpoints\u001b[49m\u001b[43m=\u001b[49m\u001b[43mkwargs\u001b[49m\u001b[43m[\u001b[49m\u001b[33;43m'\u001b[39;49m\u001b[33;43mintpoints\u001b[39;49m\u001b[33;43m'\u001b[39;49m\u001b[43m]\u001b[49m\u001b[43m,\u001b[49m\u001b[43m \u001b[49m\u001b[43mdeformation\u001b[49m\u001b[43m=\u001b[49m\u001b[43mkwargs\u001b[49m\u001b[43m[\u001b[49m\u001b[33;43m'\u001b[39;49m\u001b[33;43mdeformation\u001b[39;49m\u001b[33;43m'\u001b[39;49m\u001b[43m]\u001b[49m\u001b[43m,\u001b[49m\u001b[43m \u001b[49m\u001b[43mregions\u001b[49m\u001b[43m=\u001b[49m\u001b[43mregions\u001b[49m\u001b[43m,\u001b[49m\u001b[43m \u001b[49m\u001b[43mobjects\u001b[49m\u001b[43m=\u001b[49m\u001b[43mkwargs\u001b[49m\u001b[43m[\u001b[49m\u001b[33;43m'\u001b[39;49m\u001b[33;43mobjects\u001b[39;49m\u001b[33;43m'\u001b[39;49m\u001b[43m]\u001b[49m\u001b[43m,\u001b[49m\u001b[43m \u001b[49m\u001b[43mnodal_p1\u001b[49m\u001b[43m=\u001b[49m\u001b[43mkwargs\u001b[49m\u001b[43m[\u001b[49m\u001b[33;43m'\u001b[39;49m\u001b[33;43mnodal_p1\u001b[39;49m\u001b[33;43m'\u001b[39;49m\u001b[43m]\u001b[49m\u001b[43m,\u001b[49m\u001b[43m \u001b[49m\u001b[43msettings\u001b[49m\u001b[43m=\u001b[49m\u001b[43mkwargs\u001b[49m\u001b[43m[\u001b[49m\u001b[33;43m'\u001b[39;49m\u001b[33;43msettings\u001b[39;49m\u001b[33;43m'\u001b[39;49m\u001b[43m]\u001b[49m\u001b[43m)\u001b[49m\n\u001b[32m    164\u001b[39m \u001b[38;5;28;01mif\u001b[39;00m \u001b[38;5;28misinstance\u001b[39m(cf, ngs.GridFunction) \u001b[38;5;129;01mand\u001b[39;00m \u001b[38;5;28mlen\u001b[39m(cf.vecs)>\u001b[32m1\u001b[39m:\n\u001b[32m    165\u001b[39m     \u001b[38;5;66;03m# multidim gridfunction - generate data for each component\u001b[39;00m\n\u001b[32m    166\u001b[39m     gf = ngs.GridFunction(cf.space)\n",
      "\u001b[36mFile \u001b[39m\u001b[32m~/noASCII/tuwien/ASC-bla/.pixi/envs/research-intro-sc/lib/python3.13/site-packages/ngsolve/webgui.py:389\u001b[39m, in \u001b[36mBuildRenderData\u001b[39m\u001b[34m(mesh, func, order, draw_surf, draw_vol, intpoints, deformation, regions, objects, nodal_p1, encoding, settings)\u001b[39m\n\u001b[32m    387\u001b[39m pts = mesh.MapToAllElements({ngs.ET.TRIG: ir_trig, ngs.ET.QUAD: ir_quad}, reg)\n\u001b[32m    388\u001b[39m timer2map.Stop()\n\u001b[32m--> \u001b[39m\u001b[32m389\u001b[39m pmat = \u001b[43mcf\u001b[49m\u001b[43m(\u001b[49m\u001b[43mpts\u001b[49m\u001b[43m)\u001b[49m\n\u001b[32m    391\u001b[39m pmima = updatePMinMax(pmat)\n\u001b[32m    393\u001b[39m timermult.Start()\n",
      "\u001b[31mNgException\u001b[39m: Try to evaluate domainwise function defined on VOL on BND\n"
     ]
    }
   ],
   "source": [
    "Draw(J_eddy_mag, mesh, \"|J_eddy|\", clipping = {\"z\":0, \"function\":False}, # Clip to see inside block\n",
    "     settings={\"Objects\": {\"Surface\": False, \"Wireframe\": False}},\n",
    "     **ea);"
   ]
  }
 ],
 "metadata": {
  "kernelspec": {
   "display_name": "Python 3 (ipykernel)",
   "language": "python",
   "name": "python3"
  },
  "language_info": {
   "codemirror_mode": {
    "name": "ipython",
    "version": 3
   },
   "file_extension": ".py",
   "mimetype": "text/x-python",
   "name": "python",
   "nbconvert_exporter": "python",
   "pygments_lexer": "ipython3",
   "version": "3.13.2"
  },
  "widgets": {
   "application/vnd.jupyter.widget-state+json": {
    "state": {},
    "version_major": 2,
    "version_minor": 0
   }
  }
 },
 "nbformat": 4,
 "nbformat_minor": 5
}
